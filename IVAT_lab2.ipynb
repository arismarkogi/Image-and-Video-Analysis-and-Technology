{
 "cells": [
  {
   "cell_type": "markdown",
   "metadata": {
    "id": "LpnEVMCYYlnD"
   },
   "source": [
    "#2η ομαδική εργασία στη Τεχνολογία και Ανάλυση Εικόνων και Βίντεο"
   ]
  },
  {
   "cell_type": "markdown",
   "metadata": {
    "id": "PyAjodVc3Q_G"
   },
   "source": [
    "**Θεωρητικό Υπόβαθρο**"
   ]
  },
  {
   "cell_type": "markdown",
   "metadata": {
    "id": "up4Gye2t3fHf"
   },
   "source": [
    "|      | AlexNet | VGG | LeNet\n",
    "|-----------------|-----------------|-----------------|-----------------|\n",
    "| Επίπεδα    | 8   | 16    | 7   |\n",
    "| Μέγεθος Φίλτρων    | 11x11x3, 5x5x3, 3x3x3    | 3x3x3    | 5x5x3   |\n",
    "| Συνάρτηση Ενεργοποίησης | ReLU    | ReLU   | Sigmoid   |\n",
    "| Πλήθος Παραμέτρων | 60M    | 138M    | 60K    |\n",
    "| Τεχνικές Pooling | max-pooling of size 3x3 strides 2  | max-pooling of size 2x2 strides 2     | average-pooling of size 2x2 strides 2    |\n",
    "| Dropout | Ναι, droprate=0.5   | Όχι   | Όχι   |\n",
    "\n",
    "**LeNet**: Αν και το LeNet ήταν μια πρωτοποριακή αρχιτεκτονική για την εποχή της, σήμερα θεωρείται απλή και περιορισμένη σε σχέση με τα πιο σύγχρονα δίκτυα. Συνήθως χρησιμοποιείται σε απλές εργασίες αναγνώρισης προτύπων. Έχει όμως σημαντικά λιγότερες παραμέτρους από τα υπόλοιπα μοντέλα και για αυτό είναι πιο εύκολο να εκπαιδευτεί\n",
    "\n",
    "**AlexNe**t: Το AlexNet εισήγαγε τη βαθιά μάθηση σε μεγάλη κλίμακα και καθόρισε νέες προσεγγίσεις για την κατηγοριοποίηση εικόνων. Η χρήση του ReLU σαν συνάρτηση ενεργοποίησης, η χρήση dropout για τη μείωση του overfitting, και η χρήση μεγαλύτερων μεγεθών φίλτρων σε σύγκριση με το LeNet συνέβαλλαν στην επίτευξη καλύτερης απόδοσης.\n",
    "\n",
    "**VGG16**: Το VGG16 είναι γνωστό για την απλή του αρχιτεκτονική, με μικρά 3x3 φίλτρα και βαθιά στοίβαση των συνελικτικών επιπέδων. Αν και έχει πολλές παραμέτρους, αυτό το δίκτυο είναι εξαιρετικά αποτελεσματικό σε προβλήματα αναγνώρισης εικόνας, εάν υπάρχουν αρκετά δεδομένα εκπαίδευσης και χρησιμοποιηθούν κατάλληλα μέτρα αποτελεσματικότητας.\n",
    "\n",
    "Συνολικά, η επιλογή του κατάλληλου μοντέλου εξαρτάται από την εφαρμογή και τα διαθέσιμα δεδομένα εκπαίδευσης. Τα πιο σύγχρονα μοντέλα όπως το AlexNet και το VGG16 συνήθως προτιμώνται για πιο προηγμένες εφαρμογές όπου απαιτείται μεγαλύτερη ακρίβεια και απόδοση.\n",
    "\n",
    "Επίσης με την χρήση της ReLU στα δύο πιο σύγχρονα μοντέλα αντιμετωπίζεται και το πρόβλημα του vanishing gradient\n",
    "\n",
    "Επίσης στο VGG για την αντιμετώπιση του overfitting χρησιμοποιείται batch normalization και όχι dropout που χρησιμοποιείται στο AlexNet"
   ]
  },
  {
   "cell_type": "markdown",
   "metadata": {
    "id": "DfEMjsB4Yurm"
   },
   "source": [
    "## Εισαγωγή και επισκόπηση του συνόλου δεδομένων"
   ]
  },
  {
   "cell_type": "code",
   "execution_count": null,
   "metadata": {
    "colab": {
     "base_uri": "https://localhost:8080/"
    },
    "id": "Lf3BRvJgbnGV",
    "outputId": "ddefc878-84b6-48c4-8c31-f5c1fcb89f97"
   },
   "outputs": [
    {
     "name": "stdout",
     "output_type": "stream",
     "text": [
      "Mounted at /content/drive\n"
     ]
    }
   ],
   "source": [
    "from google.colab import drive\n",
    "drive.mount('/content/drive')\n"
   ]
  },
  {
   "cell_type": "code",
   "execution_count": null,
   "metadata": {
    "id": "STXQMBuN3nZ6"
   },
   "outputs": [],
   "source": [
    "from __future__ import absolute_import, division, print_function, unicode_literals # legacy compatibility\n",
    "\n",
    "import numpy as np\n",
    "import pandas as pd\n",
    "import matplotlib.pyplot as plt"
   ]
  },
  {
   "cell_type": "code",
   "execution_count": null,
   "metadata": {
    "id": "2WSEGPI9Q7tW"
   },
   "outputs": [],
   "source": [
    "# helper functions\n",
    "\n",
    "# select from from_list elements with index in index_list\n",
    "def select_from_list(from_list, index_list):\n",
    "  filtered_list= [from_list[i] for i in index_list]\n",
    "  return(filtered_list)\n",
    "\n",
    "# append in filtered_list the index of each element of unfilterd_list if it exists in in target_list\n",
    "def get_ds_index(unfiliterd_list, target_list):\n",
    "  index = 0\n",
    "  filtered_list=[]\n",
    "  for i_ in unfiliterd_list:\n",
    "    if i_[0] in target_list:\n",
    "      filtered_list.append(index)\n",
    "    index += 1\n",
    "  return(filtered_list)\n"
   ]
  },
  {
   "cell_type": "code",
   "execution_count": null,
   "metadata": {
    "colab": {
     "base_uri": "https://localhost:8080/"
    },
    "id": "OCW71UaGzz0Q",
    "outputId": "78897452-fb38-454a-86a0-d005cddbe61c"
   },
   "outputs": [
    {
     "name": "stdout",
     "output_type": "stream",
     "text": [
      "Downloading data from https://www.cs.toronto.edu/~kriz/cifar-100-python.tar.gz\n",
      "169001437/169001437 [==============================] - 2s 0us/step\n"
     ]
    }
   ],
   "source": [
    "# load the entire dataset\n",
    "import tensorflow as tf\n",
    "from tensorflow.keras import datasets, layers, models\n",
    "\n",
    "(x_train_all, y_train_all), (x_test_all, y_test_all) = tf.keras.datasets.cifar100.load_data(label_mode='fine')"
   ]
  },
  {
   "cell_type": "code",
   "execution_count": null,
   "metadata": {
    "colab": {
     "base_uri": "https://localhost:8080/"
    },
    "id": "kGKYHffEE1do",
    "outputId": "885fe8a9-7c35-460b-d35e-f8a56527c5d2"
   },
   "outputs": [
    {
     "name": "stdout",
     "output_type": "stream",
     "text": [
      "(50000, 32, 32, 3)\n"
     ]
    }
   ],
   "source": [
    "print(x_train_all.shape)"
   ]
  },
  {
   "cell_type": "markdown",
   "metadata": {
    "id": "9PO9wIwYUf0R"
   },
   "source": [
    "Η κάθε ομάδα θα δουλέψει με διαφορετικό υποσύνολο του dataset.\n",
    "Στο επόμενο κελί, αντικαταστήστε την τιμή της μεταβλητής `team_seed` με τον αριθμό που αντιστοιχεί στην ομάδας σας."
   ]
  },
  {
   "cell_type": "code",
   "execution_count": null,
   "metadata": {
    "id": "NN0kEze7uZ_G"
   },
   "outputs": [],
   "source": [
    "# REPLACE WITH YOUR TEAM NUMBER\n",
    "team_seed = 85"
   ]
  },
  {
   "cell_type": "code",
   "execution_count": null,
   "metadata": {
    "id": "RhbZJW6PxUDJ"
   },
   "outputs": [],
   "source": [
    "# select from CIFAR100 20 classes\n",
    "cifar100_classes_url = \"https://pastebin.com/raw/nzE1n98V\"\n",
    "num_classes = 20"
   ]
  },
  {
   "cell_type": "markdown",
   "metadata": {
    "id": "yO9f6wb0Wi0H"
   },
   "source": [
    "Δημιουργούμε το μοναδικό dataset της ομάδας μας:"
   ]
  },
  {
   "cell_type": "code",
   "execution_count": null,
   "metadata": {
    "id": "PgIN2h_KuCp_"
   },
   "outputs": [],
   "source": [
    "team_classes = pd.read_csv(cifar100_classes_url, sep=',', header=None)\n",
    "CIFAR100_LABELS_LIST = pd.read_csv('https://pastebin.com/raw/qgDaNggt', sep=',', header=None).astype(str).values.tolist()[0]\n",
    "\n",
    "our_index = team_classes.iloc[team_seed,:].values.tolist()\n",
    "our_classes = select_from_list(CIFAR100_LABELS_LIST, our_index)\n",
    "train_index = get_ds_index(y_train_all, our_index)\n",
    "test_index = get_ds_index(y_test_all, our_index)\n",
    "\n",
    "x_train_ds = np.asarray(select_from_list(x_train_all, train_index))\n",
    "y_train_ds = np.asarray(select_from_list(y_train_all, train_index))\n",
    "x_test_ds = np.asarray(select_from_list(x_test_all, test_index))\n",
    "y_test_ds = np.asarray(select_from_list(y_test_all, test_index))"
   ]
  },
  {
   "cell_type": "code",
   "execution_count": null,
   "metadata": {
    "colab": {
     "base_uri": "https://localhost:8080/"
    },
    "id": "_B4-tvVOQq3j",
    "outputId": "9ae3fe67-99e4-41aa-8934-2ba493c2ff2f"
   },
   "outputs": [
    {
     "name": "stdout",
     "output_type": "stream",
     "text": [
      "[' beetle', ' bowl', ' caterpillar', ' clock', ' cloud', ' forest', ' lizard', ' man', ' maple_tree', ' orchid', ' otter', ' sea', ' seal', ' shrew', ' skunk', ' skyscraper', ' television', ' trout', ' wardrobe', ' whale']\n"
     ]
    }
   ],
   "source": [
    "# print our classes\n",
    "print(our_classes)"
   ]
  },
  {
   "cell_type": "code",
   "execution_count": null,
   "metadata": {
    "colab": {
     "base_uri": "https://localhost:8080/"
    },
    "id": "bk5wy0u7GGMj",
    "outputId": "f23596e5-6a5f-4781-dbeb-01e0d6af34d5"
   },
   "outputs": [
    {
     "name": "stdout",
     "output_type": "stream",
     "text": [
      "(32, 32, 3)\n"
     ]
    }
   ],
   "source": [
    "print(x_train_ds[1].shape)"
   ]
  },
  {
   "cell_type": "code",
   "execution_count": null,
   "metadata": {
    "colab": {
     "base_uri": "https://localhost:8080/",
     "height": 599
    },
    "id": "QpGXgTs_5ZCk",
    "outputId": "f2c769c4-167f-4b96-f982-dda7247c2ede"
   },
   "outputs": [
    {
     "name": "stdout",
     "output_type": "stream",
     "text": [
      "Train: X=(8500, 32, 32, 3), y=(8500, 1)\n",
      "Validation: X=(1500, 32, 32, 3), y=(1500, 1)\n",
      "Test: X=(2000, 32, 32, 3), y=(2000, 1)\n"
     ]
    },
    {
     "data": {
      "image/png": "[encoded data removed]",
      "text/plain": [
       "<Figure size 600x600 with 9 Axes>"
      ]
     },
     "metadata": {},
     "output_type": "display_data"
    }
   ],
   "source": [
    "# get (train) dataset dimensions\n",
    "data_size, img_rows, img_cols, img_channels = x_train_ds.shape\n",
    "\n",
    "# set validation set percentage (wrt the training set size)\n",
    "validation_percentage = 0.15\n",
    "val_size = round(validation_percentage * data_size)\n",
    "\n",
    "# Reserve val_size samples for validation and normalize all values\n",
    "x_val = x_train_ds[-val_size:]/255\n",
    "y_val = y_train_ds[-val_size:]\n",
    "x_train = x_train_ds[:-val_size]/255\n",
    "y_train = y_train_ds[:-val_size]\n",
    "x_test = x_test_ds/255\n",
    "y_test = y_test_ds\n",
    "\n",
    "# summarize loaded dataset\n",
    "print('Train: X=%s, y=%s' % (x_train.shape, y_train.shape))\n",
    "print('Validation: X=%s, y=%s' % (x_val.shape, y_val.shape))\n",
    "print('Test: X=%s, y=%s' % (x_test.shape, y_test.shape))\n",
    "\n",
    "# get class label from class index\n",
    "def class_label_from_index(fine_category):\n",
    "  return(CIFAR100_LABELS_LIST[fine_category.item(0)])\n",
    "\n",
    "# plot first few images\n",
    "plt.figure(figsize=(6, 6))\n",
    "for i in range(9):\n",
    "\t# define subplot\n",
    "  plt.subplot(330 + 1 + i).set_title(class_label_from_index(y_train[i]))\n",
    "\t# plot raw pixel data\n",
    "  plt.imshow(x_train[i], cmap=plt.get_cmap('gray'))\n",
    "  #show the figure\n",
    "plt.show()"
   ]
  },
  {
   "cell_type": "code",
   "execution_count": null,
   "metadata": {
    "id": "RtltF0fp9JhB"
   },
   "outputs": [],
   "source": [
    "import numpy as np\n",
    "\n",
    "def encode_labels(labels):\n",
    "  \"\"\"Encodes labels using a dictionary mapping for efficient representation.\n",
    "\n",
    "  Args:\n",
    "      labels: A 1D NumPy array of labels.\n",
    "\n",
    "  Returns:\n",
    "      A 1D NumPy array of encoded labels (integers).\n",
    "      A dictionary mapping unique labels to their corresponding integer codes.\n",
    "  \"\"\"\n",
    "\n",
    "  # Create a set to efficiently store unique labels\n",
    "  unique_labels = set(labels)\n",
    "\n",
    "  # Create a dictionary to map unique labels to integer codes\n",
    "  label_to_code = {label: i for i, label in enumerate(unique_labels)}\n",
    "\n",
    "  # Encode labels using the dictionary\n",
    "  encoded_labels = np.vectorize(label_to_code.get)(labels)\n",
    "\n",
    "  # Reshape encoded labels to a column vector\n",
    "  encoded_labels = encoded_labels.reshape(-1, 1)\n",
    "\n",
    "  return encoded_labels, label_to_code\n",
    "\n",
    "# Example usage\n",
    "y_train_encoded, label_to_code = encode_labels(y_train.reshape(1, -1)[0])\n",
    "y_test_encoded, _ = encode_labels(y_test.reshape(1, -1)[0])  # Reuse label_to_code\n",
    "y_val_encoded, _ = encode_labels(y_val.reshape(1, -1)[0])  # Reuse label_to_code\n",
    "\n",
    "# Optional post-processing (if needed)\n",
    "y_train = y_train_encoded\n",
    "y_test = y_test_encoded\n",
    "y_val = y_val_encoded\n"
   ]
  },
  {
   "cell_type": "markdown",
   "metadata": {
    "id": "iAgowxR8oJH7"
   },
   "source": [
    "## Ερώτημα 1\n",
    "---\n",
    "### Βήμα 1: Σχεδίαση και εκπαίδευση των μοντέλων\n",
    "\n",
    " Σχεδίαστε και εκπαιδεύστε τα μοντέλα  **LeNet, AlexNet και  VGG**, καθώς και ένα δικό σας μοντέλο (ονομάστε το π.χ. **MyCNN**) χρησιμοποιώντας τον ίδιο αλγορίθμο βελτιστοποίησης ([optimizer](https://keras.io/api/optimizers/)), την ίδια συνάρτηση κόστους [loss function](https://keras.io/api/losses/), το ίδιο μέγεθος παρτίδας (batch size) και 50 εποχές (epochs) `*`.\n",
    "\n",
    " Για την εκτίμηση της απόδοσης των μοντέλων να χρησιμοποιήσετε ως μετρική ([metrics](https://keras.io/api/metrics/)) την F1-score.\n",
    "\n",
    "\n",
    "`*`\n",
    " Μπορείτε να πειραματιστείτε με τον optimizer, την loss function και το batch size για τα 4 μοντέλα πριν καταλήξετε στην τελική σας κοινή, για όλα τα μοντέλα επιλογή.\n",
    "\n",
    "\n",
    "---\n",
    "  \n",
    "### Βήμα 2: Αξιολόγηση των μοντέλων\n",
    "\n",
    "α. Για κάθε ένα από τα μοντέλα που εκπαιδεύσατε στο Βήμα 1, απεικονίστε σε κοινό διάγραμμα τα F1-scores εκπαίδευσης και επικύρωσης στο σύνολο των εποχών.\n",
    "\n",
    "β. Αξιολογήστε, αναλυτικά, τα αποτελέσματά σας ως προς τα εξής:\n",
    " - Επίδραση του πλήθους των δεδομένων/κλάσεων.\n",
    " - Επίδραση του αλγόριθμου βελτιστοποίησης (optimizer)\n",
    " - Επίδραση του μεγέθους δέσμης (batch size)\n",
    "---\n",
    "\n",
    "### Βήμα 3: Αξιολόγηση F1-score\n",
    "Αξιολογήστε τα F1-scores, χρησιμοποιώντας το σύνολο ελέγχου σας (test set).\n",
    "\n",
    "---"
   ]
  },
  {
   "cell_type": "code",
   "execution_count": null,
   "metadata": {
    "id": "gMbvi0BhwBBD"
   },
   "outputs": [],
   "source": [
    "import tensorflow as tf\n",
    "\n",
    "def f1_score_metric(y_true, y_pred):\n",
    "    y_pred_labels = tf.argmax(y_pred, axis=1)\n",
    "    y_true = tf.cast(y_true, tf.int64)\n",
    "    y_pred_labels = tf.cast(y_pred_labels, tf.int64)\n",
    "\n",
    "    # Calculate confusion matrix\n",
    "    cm = tf.math.confusion_matrix(y_true, y_pred_labels)\n",
    "\n",
    "    # Calculate precision and recall\n",
    "    precision = tf.math.divide_no_nan(cm[1, 1], tf.reduce_sum(cm[:, 1]))\n",
    "    recall = tf.math.divide_no_nan(cm[1, 1], tf.reduce_sum(cm[1, :]))\n",
    "\n",
    "    # Calculate F1 score\n",
    "    f1_score = 2 * ((precision * recall) / (precision + recall + 1e-10))\n",
    "\n",
    "    return f1_score"
   ]
  },
  {
   "cell_type": "markdown",
   "metadata": {
    "id": "UVwQuA4jmDWY"
   },
   "source": [
    "**Βήμα 1**"
   ]
  },
  {
   "cell_type": "markdown",
   "metadata": {
    "id": "iuycXS-imGdf"
   },
   "source": [
    "**Lenet**"
   ]
  },
  {
   "cell_type": "code",
   "execution_count": null,
   "metadata": {
    "colab": {
     "base_uri": "https://localhost:8080/"
    },
    "id": "YTcbBAjBmRpx",
    "outputId": "8de39079-02a2-442d-b10c-d82b264b873d"
   },
   "outputs": [
    {
     "name": "stdout",
     "output_type": "stream",
     "text": [
      "Model: \"sequential\"\n",
      "_________________________________________________________________\n",
      " Layer (type)                Output Shape              Param #   \n",
      "=================================================================\n",
      " conv2d (Conv2D)             (None, 28, 28, 32)        2432      \n",
      "                                                                 \n",
      " average_pooling2d (Average  (None, 14, 14, 32)        0         \n",
      " Pooling2D)                                                      \n",
      "                                                                 \n",
      " conv2d_1 (Conv2D)           (None, 10, 10, 32)        25632     \n",
      "                                                                 \n",
      " average_pooling2d_1 (Avera  (None, 5, 5, 32)          0         \n",
      " gePooling2D)                                                    \n",
      "                                                                 \n",
      " flatten (Flatten)           (None, 800)               0         \n",
      "                                                                 \n",
      " dense (Dense)               (None, 120)               96120     \n",
      "                                                                 \n",
      " dense_1 (Dense)             (None, 84)                10164     \n",
      "                                                                 \n",
      " dense_2 (Dense)             (None, 20)                1700      \n",
      "                                                                 \n",
      "=================================================================\n",
      "Total params: 136048 (531.44 KB)\n",
      "Trainable params: 136048 (531.44 KB)\n",
      "Non-trainable params: 0 (0.00 Byte)\n",
      "_________________________________________________________________\n"
     ]
    }
   ],
   "source": [
    "LeNet_adam = models.Sequential()\n",
    "LeNet_adam.add(layers.Conv2D(32, (5, 5), activation='sigmoid', input_shape=(32, 32, 3)))\n",
    "LeNet_adam.add(layers.AveragePooling2D((2, 2)))\n",
    "LeNet_adam.add(layers.Conv2D(32, (5, 5), activation='sigmoid'))\n",
    "LeNet_adam.add(layers.AveragePooling2D((2, 2)))\n",
    "LeNet_adam.add(layers.Flatten())\n",
    "LeNet_adam.add(layers.Dense(120, activation='sigmoid'))\n",
    "LeNet_adam.add(layers.Dense(84, activation='sigmoid'))\n",
    "LeNet_adam.add(layers.Dense(20, activation='softmax'))\n",
    "LeNet_adam.compile(optimizer='adam', loss=tf.keras.losses.sparse_categorical_crossentropy, metrics=[f1_score_metric], run_eagerly=True)\n",
    "LeNet_adam.summary()"
   ]
  },
  {
   "cell_type": "code",
   "execution_count": null,
   "metadata": {
    "colab": {
     "base_uri": "https://localhost:8080/"
    },
    "id": "VAQk_HtYtQHC",
    "outputId": "f751257e-b954-4c28-8a04-866432e9d4b2"
   },
   "outputs": [
    {
     "name": "stdout",
     "output_type": "stream",
     "text": [
      "Epoch 1/10\n",
      "67/67 [==============================] - 65s 960ms/step - loss: 2.6566 - f1_score_metric: 0.1384 - val_loss: 2.6297 - val_f1_score_metric: 0.1688\n",
      "Epoch 2/10\n"
     ]
    },
    {
     "name": "stderr",
     "output_type": "stream",
     "text": [
      "/usr/local/lib/python3.10/dist-packages/keras/src/engine/training.py:3103: UserWarning: You are saving your model as an HDF5 file via `model.save()`. This file format is considered legacy. We recommend using instead the native Keras format, e.g. `model.save('my_model.keras')`.\n",
      "  saving_api.save_model(\n"
     ]
    },
    {
     "name": "stdout",
     "output_type": "stream",
     "text": [
      "67/67 [==============================] - 71s 1s/step - loss: 2.5670 - f1_score_metric: 0.1632 - val_loss: 2.5530 - val_f1_score_metric: 0.1770\n",
      "Epoch 3/10\n"
     ]
    },
    {
     "name": "stderr",
     "output_type": "stream",
     "text": [
      "/usr/local/lib/python3.10/dist-packages/keras/src/engine/training.py:3103: UserWarning: You are saving your model as an HDF5 file via `model.save()`. This file format is considered legacy. We recommend using instead the native Keras format, e.g. `model.save('my_model.keras')`.\n",
      "  saving_api.save_model(\n"
     ]
    },
    {
     "name": "stdout",
     "output_type": "stream",
     "text": [
      "67/67 [==============================] - 71s 1s/step - loss: 2.5023 - f1_score_metric: 0.1983 - val_loss: 2.5035 - val_f1_score_metric: 0.2346\n",
      "Epoch 4/10\n"
     ]
    },
    {
     "name": "stderr",
     "output_type": "stream",
     "text": [
      "/usr/local/lib/python3.10/dist-packages/keras/src/engine/training.py:3103: UserWarning: You are saving your model as an HDF5 file via `model.save()`. This file format is considered legacy. We recommend using instead the native Keras format, e.g. `model.save('my_model.keras')`.\n",
      "  saving_api.save_model(\n"
     ]
    },
    {
     "name": "stdout",
     "output_type": "stream",
     "text": [
      "67/67 [==============================] - 69s 1s/step - loss: 2.4386 - f1_score_metric: 0.2224 - val_loss: 2.4590 - val_f1_score_metric: 0.2304\n",
      "Epoch 5/10\n"
     ]
    },
    {
     "name": "stderr",
     "output_type": "stream",
     "text": [
      "/usr/local/lib/python3.10/dist-packages/keras/src/engine/training.py:3103: UserWarning: You are saving your model as an HDF5 file via `model.save()`. This file format is considered legacy. We recommend using instead the native Keras format, e.g. `model.save('my_model.keras')`.\n",
      "  saving_api.save_model(\n"
     ]
    },
    {
     "name": "stdout",
     "output_type": "stream",
     "text": [
      "67/67 [==============================] - 58s 872ms/step - loss: 2.3972 - f1_score_metric: 0.2297 - val_loss: 2.4007 - val_f1_score_metric: 0.2459\n",
      "Epoch 6/10\n"
     ]
    },
    {
     "name": "stderr",
     "output_type": "stream",
     "text": [
      "/usr/local/lib/python3.10/dist-packages/keras/src/engine/training.py:3103: UserWarning: You are saving your model as an HDF5 file via `model.save()`. This file format is considered legacy. We recommend using instead the native Keras format, e.g. `model.save('my_model.keras')`.\n",
      "  saving_api.save_model(\n"
     ]
    },
    {
     "name": "stdout",
     "output_type": "stream",
     "text": [
      "67/67 [==============================] - 58s 868ms/step - loss: 2.3526 - f1_score_metric: 0.2429 - val_loss: 2.3682 - val_f1_score_metric: 0.2467\n",
      "Epoch 7/10\n"
     ]
    },
    {
     "name": "stderr",
     "output_type": "stream",
     "text": [
      "/usr/local/lib/python3.10/dist-packages/keras/src/engine/training.py:3103: UserWarning: You are saving your model as an HDF5 file via `model.save()`. This file format is considered legacy. We recommend using instead the native Keras format, e.g. `model.save('my_model.keras')`.\n",
      "  saving_api.save_model(\n"
     ]
    },
    {
     "name": "stdout",
     "output_type": "stream",
     "text": [
      "67/67 [==============================] - 59s 890ms/step - loss: 2.3174 - f1_score_metric: 0.2556 - val_loss: 2.3441 - val_f1_score_metric: 0.2587\n",
      "Epoch 8/10\n"
     ]
    },
    {
     "name": "stderr",
     "output_type": "stream",
     "text": [
      "/usr/local/lib/python3.10/dist-packages/keras/src/engine/training.py:3103: UserWarning: You are saving your model as an HDF5 file via `model.save()`. This file format is considered legacy. We recommend using instead the native Keras format, e.g. `model.save('my_model.keras')`.\n",
      "  saving_api.save_model(\n"
     ]
    },
    {
     "name": "stdout",
     "output_type": "stream",
     "text": [
      "67/67 [==============================] - 56s 838ms/step - loss: 2.2762 - f1_score_metric: 0.2721 - val_loss: 2.3105 - val_f1_score_metric: 0.2601\n",
      "Epoch 9/10\n"
     ]
    },
    {
     "name": "stderr",
     "output_type": "stream",
     "text": [
      "/usr/local/lib/python3.10/dist-packages/keras/src/engine/training.py:3103: UserWarning: You are saving your model as an HDF5 file via `model.save()`. This file format is considered legacy. We recommend using instead the native Keras format, e.g. `model.save('my_model.keras')`.\n",
      "  saving_api.save_model(\n"
     ]
    },
    {
     "name": "stdout",
     "output_type": "stream",
     "text": [
      "67/67 [==============================] - 62s 924ms/step - loss: 2.2334 - f1_score_metric: 0.2811 - val_loss: 2.2591 - val_f1_score_metric: 0.2627\n",
      "Epoch 10/10\n"
     ]
    },
    {
     "name": "stderr",
     "output_type": "stream",
     "text": [
      "/usr/local/lib/python3.10/dist-packages/keras/src/engine/training.py:3103: UserWarning: You are saving your model as an HDF5 file via `model.save()`. This file format is considered legacy. We recommend using instead the native Keras format, e.g. `model.save('my_model.keras')`.\n",
      "  saving_api.save_model(\n"
     ]
    },
    {
     "name": "stdout",
     "output_type": "stream",
     "text": [
      "67/67 [==============================] - 59s 887ms/step - loss: 2.2040 - f1_score_metric: 0.2902 - val_loss: 2.2302 - val_f1_score_metric: 0.2928\n"
     ]
    },
    {
     "name": "stderr",
     "output_type": "stream",
     "text": [
      "/usr/local/lib/python3.10/dist-packages/keras/src/engine/training.py:3103: UserWarning: You are saving your model as an HDF5 file via `model.save()`. This file format is considered legacy. We recommend using instead the native Keras format, e.g. `model.save('my_model.keras')`.\n",
      "  saving_api.save_model(\n"
     ]
    }
   ],
   "source": [
    "from tensorflow.keras.callbacks import ModelCheckpoint\n",
    "\n",
    "# Define a checkpoint callback with custom file name\n",
    "checkpoint_callback = ModelCheckpoint(filepath = \"/My Drive/CNNs/LeNet_adam.h5\", save_freq='epoch')\n",
    "\n",
    "# Train the model with the checkpoint callback\n",
    "history_lenet_adam = LeNet_adam.fit(x_train, y_train, epochs=10, batch_size=128, validation_data=(x_val, y_val), callbacks=[checkpoint_callback])\n"
   ]
  },
  {
   "cell_type": "code",
   "execution_count": null,
   "metadata": {
    "id": "UCv72G6WgoTT"
   },
   "outputs": [],
   "source": [
    "from tensorflow.keras.models import load_model\n",
    "\n",
    "LeNet_adam.save('/content/drive/My Drive/CNNs/LeNet_adam.h5')"
   ]
  },
  {
   "cell_type": "code",
   "execution_count": null,
   "metadata": {
    "colab": {
     "base_uri": "https://localhost:8080/"
    },
    "id": "vIQZ9ctroomG",
    "outputId": "56026421-c191-43d9-a789-6d933a245135"
   },
   "outputs": [
    {
     "name": "stdout",
     "output_type": "stream",
     "text": [
      "Model: \"sequential_1\"\n",
      "_________________________________________________________________\n",
      " Layer (type)                Output Shape              Param #   \n",
      "=================================================================\n",
      " conv2d_2 (Conv2D)           (None, 28, 28, 32)        2432      \n",
      "                                                                 \n",
      " average_pooling2d_2 (Avera  (None, 14, 14, 32)        0         \n",
      " gePooling2D)                                                    \n",
      "                                                                 \n",
      " conv2d_3 (Conv2D)           (None, 10, 10, 32)        25632     \n",
      "                                                                 \n",
      " average_pooling2d_3 (Avera  (None, 5, 5, 32)          0         \n",
      " gePooling2D)                                                    \n",
      "                                                                 \n",
      " flatten_1 (Flatten)         (None, 800)               0         \n",
      "                                                                 \n",
      " dense_3 (Dense)             (None, 120)               96120     \n",
      "                                                                 \n",
      " dense_4 (Dense)             (None, 84)                10164     \n",
      "                                                                 \n",
      " dense_5 (Dense)             (None, 20)                1700      \n",
      "                                                                 \n",
      "=================================================================\n",
      "Total params: 136048 (531.44 KB)\n",
      "Trainable params: 136048 (531.44 KB)\n",
      "Non-trainable params: 0 (0.00 Byte)\n",
      "_________________________________________________________________\n"
     ]
    }
   ],
   "source": [
    "LeNet_sgd = models.Sequential()\n",
    "LeNet_sgd.add(layers.Conv2D(32, (5, 5), activation='sigmoid', input_shape=(32, 32, 3)))\n",
    "LeNet_sgd.add(layers.AveragePooling2D((2, 2)))\n",
    "LeNet_sgd.add(layers.Conv2D(32, (5, 5), activation='sigmoid'))\n",
    "LeNet_sgd.add(layers.AveragePooling2D((2, 2)))\n",
    "LeNet_sgd.add(layers.Flatten())\n",
    "LeNet_sgd.add(layers.Dense(120, activation='sigmoid'))\n",
    "LeNet_sgd.add(layers.Dense(84, activation='sigmoid'))\n",
    "LeNet_sgd.add(layers.Dense(20, activation='softmax'))\n",
    "LeNet_sgd.compile(optimizer='sgd', loss=tf.keras.losses.sparse_categorical_crossentropy, metrics=[f1_score_metric], run_eagerly=True)\n",
    "LeNet_sgd.summary()"
   ]
  },
  {
   "cell_type": "code",
   "execution_count": null,
   "metadata": {
    "colab": {
     "base_uri": "https://localhost:8080/"
    },
    "id": "wDPLLyBDootw",
    "outputId": "778869b8-94eb-4119-d141-50968d62da3f"
   },
   "outputs": [
    {
     "name": "stdout",
     "output_type": "stream",
     "text": [
      "Epoch 1/10\n",
      "67/67 [==============================] - 60s 882ms/step - loss: 3.1308 - f1_score_metric: 0.0054 - val_loss: 3.0476 - val_f1_score_metric: 0.0061\n",
      "Epoch 2/10\n"
     ]
    },
    {
     "name": "stderr",
     "output_type": "stream",
     "text": [
      "/usr/local/lib/python3.10/dist-packages/keras/src/engine/training.py:3103: UserWarning: You are saving your model as an HDF5 file via `model.save()`. This file format is considered legacy. We recommend using instead the native Keras format, e.g. `model.save('my_model.keras')`.\n",
      "  saving_api.save_model(\n"
     ]
    },
    {
     "name": "stdout",
     "output_type": "stream",
     "text": [
      "67/67 [==============================] - 59s 879ms/step - loss: 3.0284 - f1_score_metric: 0.0050 - val_loss: 3.0107 - val_f1_score_metric: 0.0037\n",
      "Epoch 3/10\n"
     ]
    },
    {
     "name": "stderr",
     "output_type": "stream",
     "text": [
      "/usr/local/lib/python3.10/dist-packages/keras/src/engine/training.py:3103: UserWarning: You are saving your model as an HDF5 file via `model.save()`. This file format is considered legacy. We recommend using instead the native Keras format, e.g. `model.save('my_model.keras')`.\n",
      "  saving_api.save_model(\n"
     ]
    },
    {
     "name": "stdout",
     "output_type": "stream",
     "text": [
      "67/67 [==============================] - 58s 863ms/step - loss: 3.0043 - f1_score_metric: 0.0061 - val_loss: 3.0004 - val_f1_score_metric: 0.0051\n",
      "Epoch 4/10\n"
     ]
    },
    {
     "name": "stderr",
     "output_type": "stream",
     "text": [
      "/usr/local/lib/python3.10/dist-packages/keras/src/engine/training.py:3103: UserWarning: You are saving your model as an HDF5 file via `model.save()`. This file format is considered legacy. We recommend using instead the native Keras format, e.g. `model.save('my_model.keras')`.\n",
      "  saving_api.save_model(\n"
     ]
    },
    {
     "name": "stdout",
     "output_type": "stream",
     "text": [
      "67/67 [==============================] - 61s 920ms/step - loss: 2.9979 - f1_score_metric: 0.0058 - val_loss: 2.9984 - val_f1_score_metric: 0.0039\n",
      "Epoch 5/10\n"
     ]
    },
    {
     "name": "stderr",
     "output_type": "stream",
     "text": [
      "/usr/local/lib/python3.10/dist-packages/keras/src/engine/training.py:3103: UserWarning: You are saving your model as an HDF5 file via `model.save()`. This file format is considered legacy. We recommend using instead the native Keras format, e.g. `model.save('my_model.keras')`.\n",
      "  saving_api.save_model(\n"
     ]
    },
    {
     "name": "stdout",
     "output_type": "stream",
     "text": [
      "67/67 [==============================] - 58s 870ms/step - loss: 2.9966 - f1_score_metric: 0.0054 - val_loss: 2.9979 - val_f1_score_metric: 0.0034\n",
      "Epoch 6/10\n"
     ]
    },
    {
     "name": "stderr",
     "output_type": "stream",
     "text": [
      "/usr/local/lib/python3.10/dist-packages/keras/src/engine/training.py:3103: UserWarning: You are saving your model as an HDF5 file via `model.save()`. This file format is considered legacy. We recommend using instead the native Keras format, e.g. `model.save('my_model.keras')`.\n",
      "  saving_api.save_model(\n"
     ]
    },
    {
     "name": "stdout",
     "output_type": "stream",
     "text": [
      "67/67 [==============================] - 58s 869ms/step - loss: 2.9965 - f1_score_metric: 0.0062 - val_loss: 2.9982 - val_f1_score_metric: 0.0064\n",
      "Epoch 7/10\n"
     ]
    },
    {
     "name": "stderr",
     "output_type": "stream",
     "text": [
      "/usr/local/lib/python3.10/dist-packages/keras/src/engine/training.py:3103: UserWarning: You are saving your model as an HDF5 file via `model.save()`. This file format is considered legacy. We recommend using instead the native Keras format, e.g. `model.save('my_model.keras')`.\n",
      "  saving_api.save_model(\n"
     ]
    },
    {
     "name": "stdout",
     "output_type": "stream",
     "text": [
      "67/67 [==============================] - 58s 861ms/step - loss: 2.9965 - f1_score_metric: 0.0057 - val_loss: 2.9987 - val_f1_score_metric: 0.0034\n",
      "Epoch 8/10\n"
     ]
    },
    {
     "name": "stderr",
     "output_type": "stream",
     "text": [
      "/usr/local/lib/python3.10/dist-packages/keras/src/engine/training.py:3103: UserWarning: You are saving your model as an HDF5 file via `model.save()`. This file format is considered legacy. We recommend using instead the native Keras format, e.g. `model.save('my_model.keras')`.\n",
      "  saving_api.save_model(\n"
     ]
    },
    {
     "name": "stdout",
     "output_type": "stream",
     "text": [
      "67/67 [==============================] - 59s 887ms/step - loss: 2.9965 - f1_score_metric: 0.0057 - val_loss: 2.9983 - val_f1_score_metric: 0.0034\n",
      "Epoch 9/10\n"
     ]
    },
    {
     "name": "stderr",
     "output_type": "stream",
     "text": [
      "/usr/local/lib/python3.10/dist-packages/keras/src/engine/training.py:3103: UserWarning: You are saving your model as an HDF5 file via `model.save()`. This file format is considered legacy. We recommend using instead the native Keras format, e.g. `model.save('my_model.keras')`.\n",
      "  saving_api.save_model(\n"
     ]
    },
    {
     "name": "stdout",
     "output_type": "stream",
     "text": [
      "67/67 [==============================] - 58s 873ms/step - loss: 2.9966 - f1_score_metric: 0.0054 - val_loss: 2.9987 - val_f1_score_metric: 0.0034\n",
      "Epoch 10/10\n"
     ]
    },
    {
     "name": "stderr",
     "output_type": "stream",
     "text": [
      "/usr/local/lib/python3.10/dist-packages/keras/src/engine/training.py:3103: UserWarning: You are saving your model as an HDF5 file via `model.save()`. This file format is considered legacy. We recommend using instead the native Keras format, e.g. `model.save('my_model.keras')`.\n",
      "  saving_api.save_model(\n"
     ]
    },
    {
     "name": "stdout",
     "output_type": "stream",
     "text": [
      "67/67 [==============================] - 58s 866ms/step - loss: 2.9964 - f1_score_metric: 0.0064 - val_loss: 2.9983 - val_f1_score_metric: 0.0047\n"
     ]
    },
    {
     "name": "stderr",
     "output_type": "stream",
     "text": [
      "/usr/local/lib/python3.10/dist-packages/keras/src/engine/training.py:3103: UserWarning: You are saving your model as an HDF5 file via `model.save()`. This file format is considered legacy. We recommend using instead the native Keras format, e.g. `model.save('my_model.keras')`.\n",
      "  saving_api.save_model(\n"
     ]
    }
   ],
   "source": [
    "from tensorflow.keras.callbacks import ModelCheckpoint\n",
    "\n",
    "# Define a checkpoint callback with custom file name\n",
    "checkpoint_callback = ModelCheckpoint(filepath = \"/My Drive/CNNs/LeNet_sgd.h5\", save_freq='epoch')\n",
    "\n",
    "# Train the model with the checkpoint callback\n",
    "history_lenet_sgd = LeNet_sgd.fit(x_train, y_train, epochs=10, batch_size=128, validation_data=(x_val, y_val), callbacks=[checkpoint_callback])\n"
   ]
  },
  {
   "cell_type": "code",
   "execution_count": null,
   "metadata": {
    "id": "l_v-cmm9oo1g"
   },
   "outputs": [],
   "source": [
    "from tensorflow.keras.models import load_model\n",
    "\n",
    "LeNet_sgd.save('/content/drive/My Drive/CNNs/LeNet_sgd.h5')"
   ]
  },
  {
   "cell_type": "markdown",
   "metadata": {
    "id": "UNvYZJPemJJu"
   },
   "source": [
    "**AlexNet**"
   ]
  },
  {
   "cell_type": "code",
   "execution_count": null,
   "metadata": {
    "colab": {
     "base_uri": "https://localhost:8080/"
    },
    "id": "afxzlKETmSRj",
    "outputId": "02bd14c2-5951-4bee-ac24-ef61fd8a87e1"
   },
   "outputs": [
    {
     "name": "stdout",
     "output_type": "stream",
     "text": [
      "Model: \"sequential_3\"\n",
      "_________________________________________________________________\n",
      " Layer (type)                Output Shape              Param #   \n",
      "=================================================================\n",
      " resizing_1 (Resizing)       (None, 224, 224, 3)       0         \n",
      "                                                                 \n",
      " conv2d_9 (Conv2D)           (None, 54, 54, 96)        34944     \n",
      "                                                                 \n",
      " max_pooling2d_2 (MaxPoolin  (None, 26, 26, 96)        0         \n",
      " g2D)                                                            \n",
      "                                                                 \n",
      " conv2d_10 (Conv2D)          (None, 26, 26, 256)       614656    \n",
      "                                                                 \n",
      " max_pooling2d_3 (MaxPoolin  (None, 12, 12, 256)       0         \n",
      " g2D)                                                            \n",
      "                                                                 \n",
      " conv2d_11 (Conv2D)          (None, 12, 12, 384)       885120    \n",
      "                                                                 \n",
      " conv2d_12 (Conv2D)          (None, 12, 12, 384)       1327488   \n",
      "                                                                 \n",
      " conv2d_13 (Conv2D)          (None, 12, 12, 256)       884992    \n",
      "                                                                 \n",
      " max_pooling2d_4 (MaxPoolin  (None, 5, 5, 256)         0         \n",
      " g2D)                                                            \n",
      "                                                                 \n",
      " flatten_2 (Flatten)         (None, 6400)              0         \n",
      "                                                                 \n",
      " dense_6 (Dense)             (None, 4096)              26218496  \n",
      "                                                                 \n",
      " dropout (Dropout)           (None, 4096)              0         \n",
      "                                                                 \n",
      " dense_7 (Dense)             (None, 4096)              16781312  \n",
      "                                                                 \n",
      " dropout_1 (Dropout)         (None, 4096)              0         \n",
      "                                                                 \n",
      " dense_8 (Dense)             (None, 20)                81940     \n",
      "                                                                 \n",
      "=================================================================\n",
      "Total params: 46828948 (178.64 MB)\n",
      "Trainable params: 46828948 (178.64 MB)\n",
      "Non-trainable params: 0 (0.00 Byte)\n",
      "_________________________________________________________________\n"
     ]
    }
   ],
   "source": [
    "\n",
    "AlexNet_adam = models.Sequential()\n",
    "AlexNet_adam.add(layers.experimental.preprocessing.Resizing(224, 224, interpolation=\"bilinear\", input_shape=x_train.shape[1:]))\n",
    "\n",
    "# Layer 1\n",
    "AlexNet_adam.add(layers.Conv2D(96, (11, 11), strides=(4, 4), activation='relu'))\n",
    "AlexNet_adam.add(layers.MaxPooling2D(pool_size=(3, 3), strides=(2, 2)))\n",
    "\n",
    "# Layer 2\n",
    "AlexNet_adam.add(layers.Conv2D(256, (5, 5), padding='same', activation='relu'))\n",
    "AlexNet_adam.add(layers.MaxPooling2D(pool_size=(3, 3), strides=(2, 2)))\n",
    "\n",
    "# Layer 3\n",
    "AlexNet_adam.add(layers.Conv2D(384, (3, 3), padding='same', activation='relu'))\n",
    "\n",
    "# Layer 4\n",
    "AlexNet_adam.add(layers.Conv2D(384, (3, 3), padding='same', activation='relu'))\n",
    "\n",
    "# Layer 5\n",
    "AlexNet_adam.add(layers.Conv2D(256, (3, 3), padding='same', activation='relu'))\n",
    "AlexNet_adam.add(layers.MaxPooling2D(pool_size=(3, 3), strides=(2, 2)))\n",
    "\n",
    "# Flatten the output\n",
    "AlexNet_adam.add(layers.Flatten())\n",
    "\n",
    "# Dense layers\n",
    "AlexNet_adam.add(layers.Dense(4096, activation='relu'))\n",
    "AlexNet_adam.add(layers.Dropout(0.5))\n",
    "\n",
    "AlexNet_adam.add(layers.Dense(4096, activation='relu'))\n",
    "AlexNet_adam.add(layers.Dropout(0.5))\n",
    "\n",
    "AlexNet_adam.add(layers.Dense(20, activation='softmax'))\n",
    "\n",
    "# Compile the model\n",
    "AlexNet_adam.compile(optimizer='adam', loss=tf.keras.losses.sparse_categorical_crossentropy, metrics=[f1_score_metric], run_eagerly=True)\n",
    "\n",
    "# Print model summary\n",
    "AlexNet_adam.summary()\n"
   ]
  },
  {
   "cell_type": "code",
   "execution_count": null,
   "metadata": {
    "colab": {
     "base_uri": "https://localhost:8080/"
    },
    "id": "pghNnFy2KO-w",
    "outputId": "305c71b2-c372-47c2-ed36-e78cc84e4a75"
   },
   "outputs": [
    {
     "name": "stdout",
     "output_type": "stream",
     "text": [
      "Epoch 1/10\n",
      "67/67 [==============================] - ETA: 0s - loss: 3.0482 - f1_score_metric: 0.0135"
     ]
    },
    {
     "name": "stderr",
     "output_type": "stream",
     "text": [
      "/usr/local/lib/python3.10/dist-packages/keras/src/engine/training.py:3103: UserWarning: You are saving your model as an HDF5 file via `model.save()`. This file format is considered legacy. We recommend using instead the native Keras format, e.g. `model.save('my_model.keras')`.\n",
      "  saving_api.save_model(\n"
     ]
    },
    {
     "name": "stdout",
     "output_type": "stream",
     "text": [
      "\b\b\b\b\b\b\b\b\b\b\b\b\b\b\b\b\b\b\b\b\b\b\b\b\b\b\b\b\b\b\b\b\b\b\b\b\b\b\b\b\b\b\b\b\b\b\b\b\b\b\b\b\b\b\b\b\b\b\b\b\b\b\b\b\b\b\b\b\b\b\b\b\b\b\b\b\b\b\b\b\b\b\b\b\b\b\b\b\b\r",
      "67/67 [==============================] - 75s 1s/step - loss: 3.0482 - f1_score_metric: 0.0135 - val_loss: 2.9689 - val_f1_score_metric: 0.0353\n",
      "Epoch 2/10\n",
      "67/67 [==============================] - ETA: 0s - loss: 2.8442 - f1_score_metric: 0.0703"
     ]
    },
    {
     "name": "stderr",
     "output_type": "stream",
     "text": [
      "/usr/local/lib/python3.10/dist-packages/keras/src/engine/training.py:3103: UserWarning: You are saving your model as an HDF5 file via `model.save()`. This file format is considered legacy. We recommend using instead the native Keras format, e.g. `model.save('my_model.keras')`.\n",
      "  saving_api.save_model(\n"
     ]
    },
    {
     "name": "stdout",
     "output_type": "stream",
     "text": [
      "\b\b\b\b\b\b\b\b\b\b\b\b\b\b\b\b\b\b\b\b\b\b\b\b\b\b\b\b\b\b\b\b\b\b\b\b\b\b\b\b\b\b\b\b\b\b\b\b\b\b\b\b\b\b\b\b\b\b\b\b\b\b\b\b\b\b\b\b\b\b\b\b\b\b\b\b\b\b\b\b\b\b\b\b\b\b\b\b\b\r",
      "67/67 [==============================] - 72s 1s/step - loss: 2.8442 - f1_score_metric: 0.0703 - val_loss: 2.6721 - val_f1_score_metric: 0.1322\n",
      "Epoch 3/10\n",
      "67/67 [==============================] - ETA: 0s - loss: 2.4729 - f1_score_metric: 0.1883"
     ]
    },
    {
     "name": "stderr",
     "output_type": "stream",
     "text": [
      "/usr/local/lib/python3.10/dist-packages/keras/src/engine/training.py:3103: UserWarning: You are saving your model as an HDF5 file via `model.save()`. This file format is considered legacy. We recommend using instead the native Keras format, e.g. `model.save('my_model.keras')`.\n",
      "  saving_api.save_model(\n"
     ]
    },
    {
     "name": "stdout",
     "output_type": "stream",
     "text": [
      "\b\b\b\b\b\b\b\b\b\b\b\b\b\b\b\b\b\b\b\b\b\b\b\b\b\b\b\b\b\b\b\b\b\b\b\b\b\b\b\b\b\b\b\b\b\b\b\b\b\b\b\b\b\b\b\b\b\b\b\b\b\b\b\b\b\b\b\b\b\b\b\b\b\b\b\b\b\b\b\b\b\b\b\b\b\b\b\b\b\r",
      "67/67 [==============================] - 111s 2s/step - loss: 2.4729 - f1_score_metric: 0.1883 - val_loss: 2.3205 - val_f1_score_metric: 0.2546\n",
      "Epoch 4/10\n",
      "67/67 [==============================] - ETA: 0s - loss: 2.2124 - f1_score_metric: 0.2973"
     ]
    },
    {
     "name": "stderr",
     "output_type": "stream",
     "text": [
      "/usr/local/lib/python3.10/dist-packages/keras/src/engine/training.py:3103: UserWarning: You are saving your model as an HDF5 file via `model.save()`. This file format is considered legacy. We recommend using instead the native Keras format, e.g. `model.save('my_model.keras')`.\n",
      "  saving_api.save_model(\n"
     ]
    },
    {
     "name": "stdout",
     "output_type": "stream",
     "text": [
      "\b\b\b\b\b\b\b\b\b\b\b\b\b\b\b\b\b\b\b\b\b\b\b\b\b\b\b\b\b\b\b\b\b\b\b\b\b\b\b\b\b\b\b\b\b\b\b\b\b\b\b\b\b\b\b\b\b\b\b\b\b\b\b\b\b\b\b\b\b\b\b\b\b\b\b\b\b\b\b\b\b\b\b\b\b\b\b\b\b\r",
      "67/67 [==============================] - 93s 1s/step - loss: 2.2124 - f1_score_metric: 0.2973 - val_loss: 2.1635 - val_f1_score_metric: 0.3364\n",
      "Epoch 5/10\n",
      "67/67 [==============================] - ETA: 0s - loss: 2.0391 - f1_score_metric: 0.3467"
     ]
    },
    {
     "name": "stderr",
     "output_type": "stream",
     "text": [
      "/usr/local/lib/python3.10/dist-packages/keras/src/engine/training.py:3103: UserWarning: You are saving your model as an HDF5 file via `model.save()`. This file format is considered legacy. We recommend using instead the native Keras format, e.g. `model.save('my_model.keras')`.\n",
      "  saving_api.save_model(\n"
     ]
    },
    {
     "name": "stdout",
     "output_type": "stream",
     "text": [
      "\b\b\b\b\b\b\b\b\b\b\b\b\b\b\b\b\b\b\b\b\b\b\b\b\b\b\b\b\b\b\b\b\b\b\b\b\b\b\b\b\b\b\b\b\b\b\b\b\b\b\b\b\b\b\b\b\b\b\b\b\b\b\b\b\b\b\b\b\b\b\b\b\b\b\b\b\b\b\b\b\b\b\b\b\b\b\b\b\b\r",
      "67/67 [==============================] - 106s 2s/step - loss: 2.0391 - f1_score_metric: 0.3467 - val_loss: 1.9631 - val_f1_score_metric: 0.4037\n",
      "Epoch 6/10\n",
      "67/67 [==============================] - ETA: 0s - loss: 1.8480 - f1_score_metric: 0.4202"
     ]
    },
    {
     "name": "stderr",
     "output_type": "stream",
     "text": [
      "/usr/local/lib/python3.10/dist-packages/keras/src/engine/training.py:3103: UserWarning: You are saving your model as an HDF5 file via `model.save()`. This file format is considered legacy. We recommend using instead the native Keras format, e.g. `model.save('my_model.keras')`.\n",
      "  saving_api.save_model(\n"
     ]
    },
    {
     "name": "stdout",
     "output_type": "stream",
     "text": [
      "\b\b\b\b\b\b\b\b\b\b\b\b\b\b\b\b\b\b\b\b\b\b\b\b\b\b\b\b\b\b\b\b\b\b\b\b\b\b\b\b\b\b\b\b\b\b\b\b\b\b\b\b\b\b\b\b\b\b\b\b\b\b\b\b\b\b\b\b\b\b\b\b\b\b\b\b\b\b\b\b\b\b\b\b\b\b\b\b\b\r",
      "67/67 [==============================] - 81s 1s/step - loss: 1.8480 - f1_score_metric: 0.4202 - val_loss: 1.8268 - val_f1_score_metric: 0.4200\n",
      "Epoch 7/10\n",
      "67/67 [==============================] - ETA: 0s - loss: 1.6911 - f1_score_metric: 0.4611"
     ]
    },
    {
     "name": "stderr",
     "output_type": "stream",
     "text": [
      "/usr/local/lib/python3.10/dist-packages/keras/src/engine/training.py:3103: UserWarning: You are saving your model as an HDF5 file via `model.save()`. This file format is considered legacy. We recommend using instead the native Keras format, e.g. `model.save('my_model.keras')`.\n",
      "  saving_api.save_model(\n"
     ]
    },
    {
     "name": "stdout",
     "output_type": "stream",
     "text": [
      "\b\b\b\b\b\b\b\b\b\b\b\b\b\b\b\b\b\b\b\b\b\b\b\b\b\b\b\b\b\b\b\b\b\b\b\b\b\b\b\b\b\b\b\b\b\b\b\b\b\b\b\b\b\b\b\b\b\b\b\b\b\b\b\b\b\b\b\b\b\b\b\b\b\b\b\b\b\b\b\b\b\b\b\b\b\b\b\b\b\r",
      "67/67 [==============================] - 80s 1s/step - loss: 1.6911 - f1_score_metric: 0.4611 - val_loss: 1.8555 - val_f1_score_metric: 0.4173\n",
      "Epoch 8/10\n",
      "67/67 [==============================] - ETA: 0s - loss: 1.5941 - f1_score_metric: 0.4895"
     ]
    },
    {
     "name": "stderr",
     "output_type": "stream",
     "text": [
      "/usr/local/lib/python3.10/dist-packages/keras/src/engine/training.py:3103: UserWarning: You are saving your model as an HDF5 file via `model.save()`. This file format is considered legacy. We recommend using instead the native Keras format, e.g. `model.save('my_model.keras')`.\n",
      "  saving_api.save_model(\n"
     ]
    },
    {
     "name": "stdout",
     "output_type": "stream",
     "text": [
      "\b\b\b\b\b\b\b\b\b\b\b\b\b\b\b\b\b\b\b\b\b\b\b\b\b\b\b\b\b\b\b\b\b\b\b\b\b\b\b\b\b\b\b\b\b\b\b\b\b\b\b\b\b\b\b\b\b\b\b\b\b\b\b\b\b\b\b\b\b\b\b\b\b\b\b\b\b\b\b\b\b\b\b\b\b\b\b\b\b\r",
      "67/67 [==============================] - 77s 1s/step - loss: 1.5941 - f1_score_metric: 0.4895 - val_loss: 1.7533 - val_f1_score_metric: 0.4543\n",
      "Epoch 9/10\n",
      "67/67 [==============================] - ETA: 0s - loss: 1.4594 - f1_score_metric: 0.5239"
     ]
    },
    {
     "name": "stderr",
     "output_type": "stream",
     "text": [
      "/usr/local/lib/python3.10/dist-packages/keras/src/engine/training.py:3103: UserWarning: You are saving your model as an HDF5 file via `model.save()`. This file format is considered legacy. We recommend using instead the native Keras format, e.g. `model.save('my_model.keras')`.\n",
      "  saving_api.save_model(\n"
     ]
    },
    {
     "name": "stdout",
     "output_type": "stream",
     "text": [
      "\b\b\b\b\b\b\b\b\b\b\b\b\b\b\b\b\b\b\b\b\b\b\b\b\b\b\b\b\b\b\b\b\b\b\b\b\b\b\b\b\b\b\b\b\b\b\b\b\b\b\b\b\b\b\b\b\b\b\b\b\b\b\b\b\b\b\b\b\b\b\b\b\b\b\b\b\b\b\b\b\b\b\b\b\b\b\b\b\b\r",
      "67/67 [==============================] - 75s 1s/step - loss: 1.4594 - f1_score_metric: 0.5239 - val_loss: 1.6940 - val_f1_score_metric: 0.4615\n",
      "Epoch 10/10\n",
      "67/67 [==============================] - ETA: 0s - loss: 1.3266 - f1_score_metric: 0.5764"
     ]
    },
    {
     "name": "stderr",
     "output_type": "stream",
     "text": [
      "/usr/local/lib/python3.10/dist-packages/keras/src/engine/training.py:3103: UserWarning: You are saving your model as an HDF5 file via `model.save()`. This file format is considered legacy. We recommend using instead the native Keras format, e.g. `model.save('my_model.keras')`.\n",
      "  saving_api.save_model(\n"
     ]
    },
    {
     "name": "stdout",
     "output_type": "stream",
     "text": [
      "\b\b\b\b\b\b\b\b\b\b\b\b\b\b\b\b\b\b\b\b\b\b\b\b\b\b\b\b\b\b\b\b\b\b\b\b\b\b\b\b\b\b\b\b\b\b\b\b\b\b\b\b\b\b\b\b\b\b\b\b\b\b\b\b\b\b\b\b\b\b\b\b\b\b\b\b\b\b\b\b\b\b\b\b\b\b\b\b\b\r",
      "67/67 [==============================] - 75s 1s/step - loss: 1.3266 - f1_score_metric: 0.5764 - val_loss: 1.6774 - val_f1_score_metric: 0.4811\n"
     ]
    }
   ],
   "source": [
    "from tensorflow.keras.callbacks import ModelCheckpoint\n",
    "\n",
    "# Define a checkpoint callback with custom file name\n",
    "checkpoint_callback = ModelCheckpoint(filepath = \"/content/drive/My Drive/CNNs/AlexNet_adam.h5\", save_freq='epoch')\n",
    "\n",
    "# Train the model with the checkpoint callback\n",
    "history_alexnet_adam = AlexNet_adam.fit(x_train, y_train, epochs=10, batch_size=128, validation_data=(x_val, y_val), callbacks=[checkpoint_callback])\n"
   ]
  },
  {
   "cell_type": "code",
   "execution_count": null,
   "metadata": {
    "colab": {
     "base_uri": "https://localhost:8080/"
    },
    "id": "eGgWWpsXiHoH",
    "outputId": "00a6fb58-23c7-44b6-81d2-1ec223e44c3f"
   },
   "outputs": [
    {
     "name": "stderr",
     "output_type": "stream",
     "text": [
      "/usr/local/lib/python3.10/dist-packages/keras/src/engine/training.py:3103: UserWarning: You are saving your model as an HDF5 file via `model.save()`. This file format is considered legacy. We recommend using instead the native Keras format, e.g. `model.save('my_model.keras')`.\n",
      "  saving_api.save_model(\n"
     ]
    }
   ],
   "source": [
    "AlexNet_adam.save('/content/drive/My Drive/CNNs/AlexNet_adam.h5')"
   ]
  },
  {
   "cell_type": "code",
   "execution_count": null,
   "metadata": {
    "colab": {
     "base_uri": "https://localhost:8080/"
    },
    "id": "Ub09LLsGp-Mo",
    "outputId": "798b2998-33fd-456a-f13c-1f14253aa199"
   },
   "outputs": [
    {
     "name": "stdout",
     "output_type": "stream",
     "text": [
      "Model: \"sequential_4\"\n",
      "_________________________________________________________________\n",
      " Layer (type)                Output Shape              Param #   \n",
      "=================================================================\n",
      " resizing_2 (Resizing)       (None, 224, 224, 3)       0         \n",
      "                                                                 \n",
      " conv2d_14 (Conv2D)          (None, 54, 54, 96)        34944     \n",
      "                                                                 \n",
      " max_pooling2d_5 (MaxPoolin  (None, 26, 26, 96)        0         \n",
      " g2D)                                                            \n",
      "                                                                 \n",
      " conv2d_15 (Conv2D)          (None, 26, 26, 256)       614656    \n",
      "                                                                 \n",
      " max_pooling2d_6 (MaxPoolin  (None, 12, 12, 256)       0         \n",
      " g2D)                                                            \n",
      "                                                                 \n",
      " conv2d_16 (Conv2D)          (None, 12, 12, 384)       885120    \n",
      "                                                                 \n",
      " conv2d_17 (Conv2D)          (None, 12, 12, 384)       1327488   \n",
      "                                                                 \n",
      " conv2d_18 (Conv2D)          (None, 12, 12, 256)       884992    \n",
      "                                                                 \n",
      " max_pooling2d_7 (MaxPoolin  (None, 5, 5, 256)         0         \n",
      " g2D)                                                            \n",
      "                                                                 \n",
      " flatten_3 (Flatten)         (None, 6400)              0         \n",
      "                                                                 \n",
      " dense_9 (Dense)             (None, 4096)              26218496  \n",
      "                                                                 \n",
      " dropout_2 (Dropout)         (None, 4096)              0         \n",
      "                                                                 \n",
      " dense_10 (Dense)            (None, 4096)              16781312  \n",
      "                                                                 \n",
      " dropout_3 (Dropout)         (None, 4096)              0         \n",
      "                                                                 \n",
      " dense_11 (Dense)            (None, 20)                81940     \n",
      "                                                                 \n",
      "=================================================================\n",
      "Total params: 46828948 (178.64 MB)\n",
      "Trainable params: 46828948 (178.64 MB)\n",
      "Non-trainable params: 0 (0.00 Byte)\n",
      "_________________________________________________________________\n"
     ]
    }
   ],
   "source": [
    "\n",
    "AlexNet_sgd = models.Sequential()\n",
    "AlexNet_sgd.add(layers.experimental.preprocessing.Resizing(224, 224, interpolation=\"bilinear\", input_shape=x_train.shape[1:]))\n",
    "\n",
    "# Layer 1\n",
    "AlexNet_sgd.add(layers.Conv2D(96, (11, 11), strides=(4, 4), activation='relu'))\n",
    "AlexNet_sgd.add(layers.MaxPooling2D(pool_size=(3, 3), strides=(2, 2)))\n",
    "\n",
    "# Layer 2\n",
    "AlexNet_sgd.add(layers.Conv2D(256, (5, 5), padding='same', activation='relu'))\n",
    "AlexNet_sgd.add(layers.MaxPooling2D(pool_size=(3, 3), strides=(2, 2)))\n",
    "\n",
    "# Layer 3\n",
    "AlexNet_sgd.add(layers.Conv2D(384, (3, 3), padding='same', activation='relu'))\n",
    "\n",
    "# Layer 4\n",
    "AlexNet_sgd.add(layers.Conv2D(384, (3, 3), padding='same', activation='relu'))\n",
    "\n",
    "# Layer 5\n",
    "AlexNet_sgd.add(layers.Conv2D(256, (3, 3), padding='same', activation='relu'))\n",
    "AlexNet_sgd.add(layers.MaxPooling2D(pool_size=(3, 3), strides=(2, 2)))\n",
    "\n",
    "# Flatten the output\n",
    "AlexNet_sgd.add(layers.Flatten())\n",
    "\n",
    "# Dense layers\n",
    "AlexNet_sgd.add(layers.Dense(4096, activation='relu'))\n",
    "AlexNet_sgd.add(layers.Dropout(0.5))\n",
    "\n",
    "AlexNet_sgd.add(layers.Dense(4096, activation='relu'))\n",
    "AlexNet_sgd.add(layers.Dropout(0.5))\n",
    "\n",
    "AlexNet_sgd.add(layers.Dense(20, activation='softmax'))\n",
    "\n",
    "# Compile the model\n",
    "AlexNet_sgd.compile(optimizer='sgd', loss=tf.keras.losses.sparse_categorical_crossentropy, metrics=[f1_score_metric], run_eagerly=True)\n",
    "\n",
    "# Print model summary\n",
    "AlexNet_sgd.summary()\n"
   ]
  },
  {
   "cell_type": "code",
   "execution_count": null,
   "metadata": {
    "colab": {
     "base_uri": "https://localhost:8080/"
    },
    "id": "ceFaEK_Jp-1k",
    "outputId": "9d0de810-a457-41a9-d113-07d09da84b17"
   },
   "outputs": [
    {
     "name": "stdout",
     "output_type": "stream",
     "text": [
      "Epoch 1/10\n",
      "67/67 [==============================] - ETA: 0s - loss: 2.9942 - f1_score_metric: 0.0478"
     ]
    },
    {
     "name": "stderr",
     "output_type": "stream",
     "text": [
      "/usr/local/lib/python3.10/dist-packages/keras/src/engine/training.py:3103: UserWarning: You are saving your model as an HDF5 file via `model.save()`. This file format is considered legacy. We recommend using instead the native Keras format, e.g. `model.save('my_model.keras')`.\n",
      "  saving_api.save_model(\n"
     ]
    },
    {
     "name": "stdout",
     "output_type": "stream",
     "text": [
      "\b\b\b\b\b\b\b\b\b\b\b\b\b\b\b\b\b\b\b\b\b\b\b\b\b\b\b\b\b\b\b\b\b\b\b\b\b\b\b\b\b\b\b\b\b\b\b\b\b\b\b\b\b\b\b\b\b\b\b\b\b\b\b\b\b\b\b\b\b\b\b\b\b\b\b\b\b\b\b\b\b\b\b\b\b\b\b\b\b\r",
      "67/67 [==============================] - 92s 1s/step - loss: 2.9942 - f1_score_metric: 0.0478 - val_loss: 2.9926 - val_f1_score_metric: 0.0039\n",
      "Epoch 2/10\n",
      "67/67 [==============================] - ETA: 0s - loss: 2.9908 - f1_score_metric: 0.0510"
     ]
    },
    {
     "name": "stderr",
     "output_type": "stream",
     "text": [
      "/usr/local/lib/python3.10/dist-packages/keras/src/engine/training.py:3103: UserWarning: You are saving your model as an HDF5 file via `model.save()`. This file format is considered legacy. We recommend using instead the native Keras format, e.g. `model.save('my_model.keras')`.\n",
      "  saving_api.save_model(\n"
     ]
    },
    {
     "name": "stdout",
     "output_type": "stream",
     "text": [
      "\b\b\b\b\b\b\b\b\b\b\b\b\b\b\b\b\b\b\b\b\b\b\b\b\b\b\b\b\b\b\b\b\b\b\b\b\b\b\b\b\b\b\b\b\b\b\b\b\b\b\b\b\b\b\b\b\b\b\b\b\b\b\b\b\b\b\b\b\b\b\b\b\b\b\b\b\b\b\b\b\b\b\b\b\b\b\b\b\b\r",
      "67/67 [==============================] - 68s 1s/step - loss: 2.9908 - f1_score_metric: 0.0510 - val_loss: 2.9882 - val_f1_score_metric: 0.0105\n",
      "Epoch 3/10\n",
      "67/67 [==============================] - ETA: 0s - loss: 2.9833 - f1_score_metric: 0.0533"
     ]
    },
    {
     "name": "stderr",
     "output_type": "stream",
     "text": [
      "/usr/local/lib/python3.10/dist-packages/keras/src/engine/training.py:3103: UserWarning: You are saving your model as an HDF5 file via `model.save()`. This file format is considered legacy. We recommend using instead the native Keras format, e.g. `model.save('my_model.keras')`.\n",
      "  saving_api.save_model(\n"
     ]
    },
    {
     "name": "stdout",
     "output_type": "stream",
     "text": [
      "\b\b\b\b\b\b\b\b\b\b\b\b\b\b\b\b\b\b\b\b\b\b\b\b\b\b\b\b\b\b\b\b\b\b\b\b\b\b\b\b\b\b\b\b\b\b\b\b\b\b\b\b\b\b\b\b\b\b\b\b\b\b\b\b\b\b\b\b\b\b\b\b\b\b\b\b\b\b\b\b\b\b\b\b\b\b\b\b\b\r",
      "67/67 [==============================] - 87s 1s/step - loss: 2.9833 - f1_score_metric: 0.0533 - val_loss: 2.9759 - val_f1_score_metric: 0.0382\n",
      "Epoch 4/10\n",
      "67/67 [==============================] - ETA: 0s - loss: 2.9613 - f1_score_metric: 0.0672"
     ]
    },
    {
     "name": "stderr",
     "output_type": "stream",
     "text": [
      "/usr/local/lib/python3.10/dist-packages/keras/src/engine/training.py:3103: UserWarning: You are saving your model as an HDF5 file via `model.save()`. This file format is considered legacy. We recommend using instead the native Keras format, e.g. `model.save('my_model.keras')`.\n",
      "  saving_api.save_model(\n"
     ]
    },
    {
     "name": "stdout",
     "output_type": "stream",
     "text": [
      "\b\b\b\b\b\b\b\b\b\b\b\b\b\b\b\b\b\b\b\b\b\b\b\b\b\b\b\b\b\b\b\b\b\b\b\b\b\b\b\b\b\b\b\b\b\b\b\b\b\b\b\b\b\b\b\b\b\b\b\b\b\b\b\b\b\b\b\b\b\b\b\b\b\b\b\b\b\b\b\b\b\b\b\b\b\b\b\b\b\r",
      "67/67 [==============================] - 69s 1s/step - loss: 2.9613 - f1_score_metric: 0.0672 - val_loss: 2.9246 - val_f1_score_metric: 0.0306\n",
      "Epoch 5/10\n",
      "67/67 [==============================] - ETA: 0s - loss: 2.9028 - f1_score_metric: 0.0813"
     ]
    },
    {
     "name": "stderr",
     "output_type": "stream",
     "text": [
      "/usr/local/lib/python3.10/dist-packages/keras/src/engine/training.py:3103: UserWarning: You are saving your model as an HDF5 file via `model.save()`. This file format is considered legacy. We recommend using instead the native Keras format, e.g. `model.save('my_model.keras')`.\n",
      "  saving_api.save_model(\n"
     ]
    },
    {
     "name": "stdout",
     "output_type": "stream",
     "text": [
      "\b\b\b\b\b\b\b\b\b\b\b\b\b\b\b\b\b\b\b\b\b\b\b\b\b\b\b\b\b\b\b\b\b\b\b\b\b\b\b\b\b\b\b\b\b\b\b\b\b\b\b\b\b\b\b\b\b\b\b\b\b\b\b\b\b\b\b\b\b\b\b\b\b\b\b\b\b\b\b\b\b\b\b\b\b\b\b\b\b\r",
      "67/67 [==============================] - 69s 1s/step - loss: 2.9028 - f1_score_metric: 0.0813 - val_loss: 2.8440 - val_f1_score_metric: 0.0743\n",
      "Epoch 6/10\n",
      "67/67 [==============================] - ETA: 0s - loss: 2.8536 - f1_score_metric: 0.0897"
     ]
    },
    {
     "name": "stderr",
     "output_type": "stream",
     "text": [
      "/usr/local/lib/python3.10/dist-packages/keras/src/engine/training.py:3103: UserWarning: You are saving your model as an HDF5 file via `model.save()`. This file format is considered legacy. We recommend using instead the native Keras format, e.g. `model.save('my_model.keras')`.\n",
      "  saving_api.save_model(\n"
     ]
    },
    {
     "name": "stdout",
     "output_type": "stream",
     "text": [
      "\b\b\b\b\b\b\b\b\b\b\b\b\b\b\b\b\b\b\b\b\b\b\b\b\b\b\b\b\b\b\b\b\b\b\b\b\b\b\b\b\b\b\b\b\b\b\b\b\b\b\b\b\b\b\b\b\b\b\b\b\b\b\b\b\b\b\b\b\b\b\b\b\b\b\b\b\b\b\b\b\b\b\b\b\b\b\b\b\b\r",
      "67/67 [==============================] - 69s 1s/step - loss: 2.8536 - f1_score_metric: 0.0897 - val_loss: 2.8518 - val_f1_score_metric: 0.0741\n",
      "Epoch 7/10\n",
      "67/67 [==============================] - ETA: 0s - loss: 2.8035 - f1_score_metric: 0.1099"
     ]
    },
    {
     "name": "stderr",
     "output_type": "stream",
     "text": [
      "/usr/local/lib/python3.10/dist-packages/keras/src/engine/training.py:3103: UserWarning: You are saving your model as an HDF5 file via `model.save()`. This file format is considered legacy. We recommend using instead the native Keras format, e.g. `model.save('my_model.keras')`.\n",
      "  saving_api.save_model(\n"
     ]
    },
    {
     "name": "stdout",
     "output_type": "stream",
     "text": [
      "\b\b\b\b\b\b\b\b\b\b\b\b\b\b\b\b\b\b\b\b\b\b\b\b\b\b\b\b\b\b\b\b\b\b\b\b\b\b\b\b\b\b\b\b\b\b\b\b\b\b\b\b\b\b\b\b\b\b\b\b\b\b\b\b\b\b\b\b\b\b\b\b\b\b\b\b\b\b\b\b\b\b\b\b\b\b\b\b\b\r",
      "67/67 [==============================] - 71s 1s/step - loss: 2.8035 - f1_score_metric: 0.1099 - val_loss: 2.7676 - val_f1_score_metric: 0.1082\n",
      "Epoch 8/10\n",
      "67/67 [==============================] - ETA: 0s - loss: 2.7431 - f1_score_metric: 0.1226"
     ]
    },
    {
     "name": "stderr",
     "output_type": "stream",
     "text": [
      "/usr/local/lib/python3.10/dist-packages/keras/src/engine/training.py:3103: UserWarning: You are saving your model as an HDF5 file via `model.save()`. This file format is considered legacy. We recommend using instead the native Keras format, e.g. `model.save('my_model.keras')`.\n",
      "  saving_api.save_model(\n"
     ]
    },
    {
     "name": "stdout",
     "output_type": "stream",
     "text": [
      "\b\b\b\b\b\b\b\b\b\b\b\b\b\b\b\b\b\b\b\b\b\b\b\b\b\b\b\b\b\b\b\b\b\b\b\b\b\b\b\b\b\b\b\b\b\b\b\b\b\b\b\b\b\b\b\b\b\b\b\b\b\b\b\b\b\b\b\b\b\b\b\b\b\b\b\b\b\b\b\b\b\b\b\b\b\b\b\b\b\r",
      "67/67 [==============================] - 73s 1s/step - loss: 2.7431 - f1_score_metric: 0.1226 - val_loss: 2.6269 - val_f1_score_metric: 0.1463\n",
      "Epoch 9/10\n",
      "67/67 [==============================] - ETA: 0s - loss: 2.6862 - f1_score_metric: 0.1476"
     ]
    },
    {
     "name": "stderr",
     "output_type": "stream",
     "text": [
      "/usr/local/lib/python3.10/dist-packages/keras/src/engine/training.py:3103: UserWarning: You are saving your model as an HDF5 file via `model.save()`. This file format is considered legacy. We recommend using instead the native Keras format, e.g. `model.save('my_model.keras')`.\n",
      "  saving_api.save_model(\n"
     ]
    },
    {
     "name": "stdout",
     "output_type": "stream",
     "text": [
      "\b\b\b\b\b\b\b\b\b\b\b\b\b\b\b\b\b\b\b\b\b\b\b\b\b\b\b\b\b\b\b\b\b\b\b\b\b\b\b\b\b\b\b\b\b\b\b\b\b\b\b\b\b\b\b\b\b\b\b\b\b\b\b\b\b\b\b\b\b\b\b\b\b\b\b\b\b\b\b\b\b\b\b\b\b\b\b\b\b\r",
      "67/67 [==============================] - 70s 1s/step - loss: 2.6862 - f1_score_metric: 0.1476 - val_loss: 2.6269 - val_f1_score_metric: 0.1335\n",
      "Epoch 10/10\n",
      "67/67 [==============================] - ETA: 0s - loss: 2.6422 - f1_score_metric: 0.1587"
     ]
    },
    {
     "name": "stderr",
     "output_type": "stream",
     "text": [
      "/usr/local/lib/python3.10/dist-packages/keras/src/engine/training.py:3103: UserWarning: You are saving your model as an HDF5 file via `model.save()`. This file format is considered legacy. We recommend using instead the native Keras format, e.g. `model.save('my_model.keras')`.\n",
      "  saving_api.save_model(\n"
     ]
    },
    {
     "name": "stdout",
     "output_type": "stream",
     "text": [
      "\b\b\b\b\b\b\b\b\b\b\b\b\b\b\b\b\b\b\b\b\b\b\b\b\b\b\b\b\b\b\b\b\b\b\b\b\b\b\b\b\b\b\b\b\b\b\b\b\b\b\b\b\b\b\b\b\b\b\b\b\b\b\b\b\b\b\b\b\b\b\b\b\b\b\b\b\b\b\b\b\b\b\b\b\b\b\b\b\b\r",
      "67/67 [==============================] - 68s 1s/step - loss: 2.6422 - f1_score_metric: 0.1587 - val_loss: 2.6009 - val_f1_score_metric: 0.1658\n"
     ]
    }
   ],
   "source": [
    "from tensorflow.keras.callbacks import ModelCheckpoint\n",
    "\n",
    "# Define a checkpoint callback with custom file name\n",
    "checkpoint_callback = ModelCheckpoint(filepath = \"/content/drive/My Drive/CNNs/AlexNet_sgd.h5\", save_freq='epoch')\n",
    "\n",
    "# Train the model with the checkpoint callback\n",
    "history_alexnet_sgd = AlexNet_sgd.fit(x_train, y_train, epochs=10, batch_size=128, validation_data=(x_val, y_val), callbacks=[checkpoint_callback])\n"
   ]
  },
  {
   "cell_type": "code",
   "execution_count": null,
   "metadata": {
    "id": "Dvytmfvxp-6q"
   },
   "outputs": [],
   "source": [
    "AlexNet_sgd.save('/content/drive/My Drive/CNNs/AlexNet_sgd.h5')"
   ]
  },
  {
   "cell_type": "markdown",
   "metadata": {
    "id": "Mp2T043cmOtA"
   },
   "source": [
    "**VGG**"
   ]
  },
  {
   "cell_type": "code",
   "execution_count": null,
   "metadata": {
    "colab": {
     "base_uri": "https://localhost:8080/"
    },
    "id": "mGitOf-DmSy6",
    "outputId": "5455221d-9c4c-4425-bd76-839e8e3ee527"
   },
   "outputs": [
    {
     "name": "stdout",
     "output_type": "stream",
     "text": [
      "Model: \"sequential_1\"\n",
      "_________________________________________________________________\n",
      " Layer (type)                Output Shape              Param #   \n",
      "=================================================================\n",
      " conv2d_13 (Conv2D)          (None, 32, 32, 64)        1792      \n",
      "                                                                 \n",
      " batch_normalization_13 (Ba  (None, 32, 32, 64)        256       \n",
      " tchNormalization)                                               \n",
      "                                                                 \n",
      " conv2d_14 (Conv2D)          (None, 32, 32, 64)        36928     \n",
      "                                                                 \n",
      " batch_normalization_14 (Ba  (None, 32, 32, 64)        256       \n",
      " tchNormalization)                                               \n",
      "                                                                 \n",
      " max_pooling2d_5 (MaxPoolin  (None, 16, 16, 64)        0         \n",
      " g2D)                                                            \n",
      "                                                                 \n",
      " conv2d_15 (Conv2D)          (None, 16, 16, 128)       73856     \n",
      "                                                                 \n",
      " batch_normalization_15 (Ba  (None, 16, 16, 128)       512       \n",
      " tchNormalization)                                               \n",
      "                                                                 \n",
      " conv2d_16 (Conv2D)          (None, 16, 16, 128)       147584    \n",
      "                                                                 \n",
      " batch_normalization_16 (Ba  (None, 16, 16, 128)       512       \n",
      " tchNormalization)                                               \n",
      "                                                                 \n",
      " max_pooling2d_6 (MaxPoolin  (None, 8, 8, 128)         0         \n",
      " g2D)                                                            \n",
      "                                                                 \n",
      " conv2d_17 (Conv2D)          (None, 8, 8, 256)         295168    \n",
      "                                                                 \n",
      " batch_normalization_17 (Ba  (None, 8, 8, 256)         1024      \n",
      " tchNormalization)                                               \n",
      "                                                                 \n",
      " conv2d_18 (Conv2D)          (None, 8, 8, 256)         590080    \n",
      "                                                                 \n",
      " batch_normalization_18 (Ba  (None, 8, 8, 256)         1024      \n",
      " tchNormalization)                                               \n",
      "                                                                 \n",
      " conv2d_19 (Conv2D)          (None, 8, 8, 256)         590080    \n",
      "                                                                 \n",
      " batch_normalization_19 (Ba  (None, 8, 8, 256)         1024      \n",
      " tchNormalization)                                               \n",
      "                                                                 \n",
      " max_pooling2d_7 (MaxPoolin  (None, 4, 4, 256)         0         \n",
      " g2D)                                                            \n",
      "                                                                 \n",
      " conv2d_20 (Conv2D)          (None, 4, 4, 512)         1180160   \n",
      "                                                                 \n",
      " batch_normalization_20 (Ba  (None, 4, 4, 512)         2048      \n",
      " tchNormalization)                                               \n",
      "                                                                 \n",
      " conv2d_21 (Conv2D)          (None, 4, 4, 512)         2359808   \n",
      "                                                                 \n",
      " batch_normalization_21 (Ba  (None, 4, 4, 512)         2048      \n",
      " tchNormalization)                                               \n",
      "                                                                 \n",
      " conv2d_22 (Conv2D)          (None, 4, 4, 512)         2359808   \n",
      "                                                                 \n",
      " batch_normalization_22 (Ba  (None, 4, 4, 512)         2048      \n",
      " tchNormalization)                                               \n",
      "                                                                 \n",
      " max_pooling2d_8 (MaxPoolin  (None, 2, 2, 512)         0         \n",
      " g2D)                                                            \n",
      "                                                                 \n",
      " conv2d_23 (Conv2D)          (None, 2, 2, 512)         2359808   \n",
      "                                                                 \n",
      " batch_normalization_23 (Ba  (None, 2, 2, 512)         2048      \n",
      " tchNormalization)                                               \n",
      "                                                                 \n",
      " conv2d_24 (Conv2D)          (None, 2, 2, 512)         2359808   \n",
      "                                                                 \n",
      " batch_normalization_24 (Ba  (None, 2, 2, 512)         2048      \n",
      " tchNormalization)                                               \n",
      "                                                                 \n",
      " conv2d_25 (Conv2D)          (None, 2, 2, 512)         2359808   \n",
      "                                                                 \n",
      " batch_normalization_25 (Ba  (None, 2, 2, 512)         2048      \n",
      " tchNormalization)                                               \n",
      "                                                                 \n",
      " max_pooling2d_9 (MaxPoolin  (None, 1, 1, 512)         0         \n",
      " g2D)                                                            \n",
      "                                                                 \n",
      " flatten_1 (Flatten)         (None, 512)               0         \n",
      "                                                                 \n",
      " dense_3 (Dense)             (None, 4096)              2101248   \n",
      "                                                                 \n",
      " dense_4 (Dense)             (None, 4096)              16781312  \n",
      "                                                                 \n",
      " dense_5 (Dense)             (None, 20)                81940     \n",
      "                                                                 \n",
      "=================================================================\n",
      "Total params: 33696084 (128.54 MB)\n",
      "Trainable params: 33687636 (128.51 MB)\n",
      "Non-trainable params: 8448 (33.00 KB)\n",
      "_________________________________________________________________\n"
     ]
    }
   ],
   "source": [
    "from tensorflow.keras import models, layers\n",
    "\n",
    "# Define the number of classes\n",
    "classes_num = 20  # For example, if you have 10 classes\n",
    "\n",
    "VGG_adam = models.Sequential()\n",
    "\n",
    "#\n",
    "# Block 1\n",
    "VGG_adam.add(layers.Conv2D(filters=64, kernel_size=(3,3), padding=\"same\", activation=\"relu\",input_shape=(32,32,3)))\n",
    "VGG_adam.add(tf.keras.layers.BatchNormalization(momentum=0.8))\n",
    "VGG_adam.add(layers.Conv2D(filters=64, kernel_size=(3,3), padding=\"same\", activation=\"relu\"))\n",
    "VGG_adam.add(tf.keras.layers.BatchNormalization(momentum=0.8))\n",
    "VGG_adam.add(layers.MaxPool2D(pool_size=(2,2),strides=(2,2)))\n",
    "\n",
    "# Block 2\n",
    "VGG_adam.add(layers.Conv2D(filters=128, kernel_size=(3,3), padding=\"same\", activation=\"relu\"))\n",
    "VGG_adam.add(tf.keras.layers.BatchNormalization(momentum=0.8))\n",
    "VGG_adam.add(layers.Conv2D(filters=128, kernel_size=(3,3), padding=\"same\", activation=\"relu\"))\n",
    "VGG_adam.add(tf.keras.layers.BatchNormalization(momentum=0.8))\n",
    "VGG_adam.add(layers.MaxPool2D(pool_size=(2,2),strides=(2,2)))\n",
    "\n",
    "# Block 3\n",
    "VGG_adam.add(layers.Conv2D(filters=256, kernel_size=(3,3), padding=\"same\", activation=\"relu\"))\n",
    "VGG_adam.add(tf.keras.layers.BatchNormalization(momentum=0.8))\n",
    "VGG_adam.add(layers.Conv2D(filters=256, kernel_size=(3,3), padding=\"same\", activation=\"relu\"))\n",
    "VGG_adam.add(tf.keras.layers.BatchNormalization(momentum=0.8))\n",
    "VGG_adam.add(layers.Conv2D(filters=256, kernel_size=(3,3), padding=\"same\", activation=\"relu\"))\n",
    "VGG_adam.add(tf.keras.layers.BatchNormalization(momentum=0.8))\n",
    "VGG_adam.add(layers.MaxPool2D(pool_size=(2,2),strides=(2,2)))\n",
    "\n",
    "# Block 4\n",
    "VGG_adam.add(layers.Conv2D(filters=512, kernel_size=(3,3), padding=\"same\", activation=\"relu\"))\n",
    "VGG_adam.add(tf.keras.layers.BatchNormalization(momentum=0.8))\n",
    "VGG_adam.add(layers.Conv2D(filters=512, kernel_size=(3,3), padding=\"same\", activation=\"relu\"))\n",
    "VGG_adam.add(tf.keras.layers.BatchNormalization(momentum=0.8))\n",
    "VGG_adam.add(layers.Conv2D(filters=512, kernel_size=(3,3), padding=\"same\", activation=\"relu\"))\n",
    "VGG_adam.add(tf.keras.layers.BatchNormalization(momentum=0.8))\n",
    "VGG_adam.add(layers.MaxPool2D(pool_size=(2,2),strides=(2,2)))\n",
    "\n",
    "# Block 5\n",
    "VGG_adam.add(layers.Conv2D(filters=512, kernel_size=(3,3), padding=\"same\", activation=\"relu\"))\n",
    "VGG_adam.add(tf.keras.layers.BatchNormalization(momentum=0.8))\n",
    "VGG_adam.add(layers.Conv2D(filters=512, kernel_size=(3,3), padding=\"same\", activation=\"relu\"))\n",
    "VGG_adam.add(tf.keras.layers.BatchNormalization(momentum=0.8))\n",
    "VGG_adam.add(layers.Conv2D(filters=512, kernel_size=(3,3), padding=\"same\", activation=\"relu\"))\n",
    "VGG_adam.add(tf.keras.layers.BatchNormalization(momentum=0.8))\n",
    "VGG_adam.add(layers.MaxPool2D(pool_size=(2,2),strides=(2,2)))\n",
    "\n",
    "# Flatten the output\n",
    "VGG_adam.add(layers.Flatten())\n",
    "\n",
    "# Dense layers\n",
    "VGG_adam.add(layers.Dense(units=4096, activation=\"relu\"))\n",
    "VGG_adam.add(layers.Dense(units=4096, activation=\"relu\"))\n",
    "VGG_adam.add(layers.Dense(units=classes_num, activation=\"softmax\"))  # Use classes_num here\n",
    "\n",
    "# Compile the model\n",
    "VGG_adam.compile(optimizer='adam', loss=tf.keras.losses.sparse_categorical_crossentropy, metrics=[f1_score_metric], run_eagerly=True)\n",
    "VGG_adam.summary()"
   ]
  },
  {
   "cell_type": "code",
   "execution_count": null,
   "metadata": {
    "colab": {
     "base_uri": "https://localhost:8080/"
    },
    "id": "KZ3D3gFTV13D",
    "outputId": "660898b4-37df-4d82-c3a9-ebfa167ae37d"
   },
   "outputs": [
    {
     "name": "stdout",
     "output_type": "stream",
     "text": [
      "Epoch 1/10\n"
     ]
    },
    {
     "name": "stderr",
     "output_type": "stream",
     "text": [
      "WARNING:tensorflow:5 out of the last 5 calls to <function _BaseOptimizer._update_step_xla at 0x7d69c07c5510> triggered tf.function retracing. Tracing is expensive and the excessive number of tracings could be due to (1) creating @tf.function repeatedly in a loop, (2) passing tensors with different shapes, (3) passing Python objects instead of tensors. For (1), please define your @tf.function outside of the loop. For (2), @tf.function has reduce_retracing=True option that can avoid unnecessary retracing. For (3), please refer to https://www.tensorflow.org/guide/function#controlling_retracing and https://www.tensorflow.org/api_docs/python/tf/function for  more details.\n",
      "WARNING:tensorflow:6 out of the last 6 calls to <function _BaseOptimizer._update_step_xla at 0x7d69c07c5510> triggered tf.function retracing. Tracing is expensive and the excessive number of tracings could be due to (1) creating @tf.function repeatedly in a loop, (2) passing tensors with different shapes, (3) passing Python objects instead of tensors. For (1), please define your @tf.function outside of the loop. For (2), @tf.function has reduce_retracing=True option that can avoid unnecessary retracing. For (3), please refer to https://www.tensorflow.org/guide/function#controlling_retracing and https://www.tensorflow.org/api_docs/python/tf/function for  more details.\n"
     ]
    },
    {
     "name": "stdout",
     "output_type": "stream",
     "text": [
      "133/133 [==============================] - ETA: 0s - loss: 2.8590 - f1_score_metric: 0.1123"
     ]
    },
    {
     "name": "stderr",
     "output_type": "stream",
     "text": [
      "/usr/local/lib/python3.10/dist-packages/keras/src/engine/training.py:3103: UserWarning: You are saving your model as an HDF5 file via `model.save()`. This file format is considered legacy. We recommend using instead the native Keras format, e.g. `model.save('my_model.keras')`.\n",
      "  saving_api.save_model(\n"
     ]
    },
    {
     "name": "stdout",
     "output_type": "stream",
     "text": [
      "\b\b\b\b\b\b\b\b\b\b\b\b\b\b\b\b\b\b\b\b\b\b\b\b\b\b\b\b\b\b\b\b\b\b\b\b\b\b\b\b\b\b\b\b\b\b\b\b\b\b\b\b\b\b\b\b\b\b\b\b\b\b\b\b\b\b\b\b\b\b\b\b\b\b\b\b\b\b\b\b\b\b\b\b\b\b\b\b\b\b\b\r",
      "133/133 [==============================] - 177s 1s/step - loss: 2.8590 - f1_score_metric: 0.1123 - val_loss: 2.4186 - val_f1_score_metric: 0.1880\n",
      "Epoch 2/10\n",
      "133/133 [==============================] - ETA: 0s - loss: 2.2226 - f1_score_metric: 0.2464"
     ]
    },
    {
     "name": "stderr",
     "output_type": "stream",
     "text": [
      "/usr/local/lib/python3.10/dist-packages/keras/src/engine/training.py:3103: UserWarning: You are saving your model as an HDF5 file via `model.save()`. This file format is considered legacy. We recommend using instead the native Keras format, e.g. `model.save('my_model.keras')`.\n",
      "  saving_api.save_model(\n"
     ]
    },
    {
     "name": "stdout",
     "output_type": "stream",
     "text": [
      "\b\b\b\b\b\b\b\b\b\b\b\b\b\b\b\b\b\b\b\b\b\b\b\b\b\b\b\b\b\b\b\b\b\b\b\b\b\b\b\b\b\b\b\b\b\b\b\b\b\b\b\b\b\b\b\b\b\b\b\b\b\b\b\b\b\b\b\b\b\b\b\b\b\b\b\b\b\b\b\b\b\b\b\b\b\b\b\b\b\b\b\r",
      "133/133 [==============================] - 136s 1s/step - loss: 2.2226 - f1_score_metric: 0.2464 - val_loss: 2.1359 - val_f1_score_metric: 0.2909\n",
      "Epoch 3/10\n",
      "133/133 [==============================] - ETA: 0s - loss: 2.0469 - f1_score_metric: 0.3099"
     ]
    },
    {
     "name": "stderr",
     "output_type": "stream",
     "text": [
      "/usr/local/lib/python3.10/dist-packages/keras/src/engine/training.py:3103: UserWarning: You are saving your model as an HDF5 file via `model.save()`. This file format is considered legacy. We recommend using instead the native Keras format, e.g. `model.save('my_model.keras')`.\n",
      "  saving_api.save_model(\n"
     ]
    },
    {
     "name": "stdout",
     "output_type": "stream",
     "text": [
      "\b\b\b\b\b\b\b\b\b\b\b\b\b\b\b\b\b\b\b\b\b\b\b\b\b\b\b\b\b\b\b\b\b\b\b\b\b\b\b\b\b\b\b\b\b\b\b\b\b\b\b\b\b\b\b\b\b\b\b\b\b\b\b\b\b\b\b\b\b\b\b\b\b\b\b\b\b\b\b\b\b\b\b\b\b\b\b\b\b\b\b\r",
      "133/133 [==============================] - 138s 1s/step - loss: 2.0469 - f1_score_metric: 0.3099 - val_loss: 2.0126 - val_f1_score_metric: 0.3531\n",
      "Epoch 4/10\n",
      "133/133 [==============================] - ETA: 0s - loss: 1.8786 - f1_score_metric: 0.3799"
     ]
    },
    {
     "name": "stderr",
     "output_type": "stream",
     "text": [
      "/usr/local/lib/python3.10/dist-packages/keras/src/engine/training.py:3103: UserWarning: You are saving your model as an HDF5 file via `model.save()`. This file format is considered legacy. We recommend using instead the native Keras format, e.g. `model.save('my_model.keras')`.\n",
      "  saving_api.save_model(\n"
     ]
    },
    {
     "name": "stdout",
     "output_type": "stream",
     "text": [
      "\b\b\b\b\b\b\b\b\b\b\b\b\b\b\b\b\b\b\b\b\b\b\b\b\b\b\b\b\b\b\b\b\b\b\b\b\b\b\b\b\b\b\b\b\b\b\b\b\b\b\b\b\b\b\b\b\b\b\b\b\b\b\b\b\b\b\b\b\b\b\b\b\b\b\b\b\b\b\b\b\b\b\b\b\b\b\b\b\b\b\b\r",
      "133/133 [==============================] - 174s 1s/step - loss: 1.8786 - f1_score_metric: 0.3799 - val_loss: 1.8991 - val_f1_score_metric: 0.3600\n",
      "Epoch 5/10\n",
      "133/133 [==============================] - ETA: 0s - loss: 1.7259 - f1_score_metric: 0.4242"
     ]
    },
    {
     "name": "stderr",
     "output_type": "stream",
     "text": [
      "/usr/local/lib/python3.10/dist-packages/keras/src/engine/training.py:3103: UserWarning: You are saving your model as an HDF5 file via `model.save()`. This file format is considered legacy. We recommend using instead the native Keras format, e.g. `model.save('my_model.keras')`.\n",
      "  saving_api.save_model(\n"
     ]
    },
    {
     "name": "stdout",
     "output_type": "stream",
     "text": [
      "\b\b\b\b\b\b\b\b\b\b\b\b\b\b\b\b\b\b\b\b\b\b\b\b\b\b\b\b\b\b\b\b\b\b\b\b\b\b\b\b\b\b\b\b\b\b\b\b\b\b\b\b\b\b\b\b\b\b\b\b\b\b\b\b\b\b\b\b\b\b\b\b\b\b\b\b\b\b\b\b\b\b\b\b\b\b\b\b\b\b\b\r",
      "133/133 [==============================] - 174s 1s/step - loss: 1.7259 - f1_score_metric: 0.4242 - val_loss: 1.7111 - val_f1_score_metric: 0.4349\n",
      "Epoch 6/10\n",
      "133/133 [==============================] - ETA: 0s - loss: 1.5655 - f1_score_metric: 0.4819"
     ]
    },
    {
     "name": "stderr",
     "output_type": "stream",
     "text": [
      "/usr/local/lib/python3.10/dist-packages/keras/src/engine/training.py:3103: UserWarning: You are saving your model as an HDF5 file via `model.save()`. This file format is considered legacy. We recommend using instead the native Keras format, e.g. `model.save('my_model.keras')`.\n",
      "  saving_api.save_model(\n"
     ]
    },
    {
     "name": "stdout",
     "output_type": "stream",
     "text": [
      "\b\b\b\b\b\b\b\b\b\b\b\b\b\b\b\b\b\b\b\b\b\b\b\b\b\b\b\b\b\b\b\b\b\b\b\b\b\b\b\b\b\b\b\b\b\b\b\b\b\b\b\b\b\b\b\b\b\b\b\b\b\b\b\b\b\b\b\b\b\b\b\b\b\b\b\b\b\b\b\b\b\b\b\b\b\b\b\b\b\b\b\r",
      "133/133 [==============================] - 146s 1s/step - loss: 1.5655 - f1_score_metric: 0.4819 - val_loss: 1.5798 - val_f1_score_metric: 0.4760\n",
      "Epoch 7/10\n",
      "133/133 [==============================] - ETA: 0s - loss: 1.4650 - f1_score_metric: 0.5133"
     ]
    },
    {
     "name": "stderr",
     "output_type": "stream",
     "text": [
      "/usr/local/lib/python3.10/dist-packages/keras/src/engine/training.py:3103: UserWarning: You are saving your model as an HDF5 file via `model.save()`. This file format is considered legacy. We recommend using instead the native Keras format, e.g. `model.save('my_model.keras')`.\n",
      "  saving_api.save_model(\n"
     ]
    },
    {
     "name": "stdout",
     "output_type": "stream",
     "text": [
      "\b\b\b\b\b\b\b\b\b\b\b\b\b\b\b\b\b\b\b\b\b\b\b\b\b\b\b\b\b\b\b\b\b\b\b\b\b\b\b\b\b\b\b\b\b\b\b\b\b\b\b\b\b\b\b\b\b\b\b\b\b\b\b\b\b\b\b\b\b\b\b\b\b\b\b\b\b\b\b\b\b\b\b\b\b\b\b\b\b\b\b\r",
      "133/133 [==============================] - 142s 1s/step - loss: 1.4650 - f1_score_metric: 0.5133 - val_loss: 1.7526 - val_f1_score_metric: 0.4512\n",
      "Epoch 8/10\n",
      "133/133 [==============================] - ETA: 0s - loss: 1.3724 - f1_score_metric: 0.5501"
     ]
    },
    {
     "name": "stderr",
     "output_type": "stream",
     "text": [
      "/usr/local/lib/python3.10/dist-packages/keras/src/engine/training.py:3103: UserWarning: You are saving your model as an HDF5 file via `model.save()`. This file format is considered legacy. We recommend using instead the native Keras format, e.g. `model.save('my_model.keras')`.\n",
      "  saving_api.save_model(\n"
     ]
    },
    {
     "name": "stdout",
     "output_type": "stream",
     "text": [
      "\b\b\b\b\b\b\b\b\b\b\b\b\b\b\b\b\b\b\b\b\b\b\b\b\b\b\b\b\b\b\b\b\b\b\b\b\b\b\b\b\b\b\b\b\b\b\b\b\b\b\b\b\b\b\b\b\b\b\b\b\b\b\b\b\b\b\b\b\b\b\b\b\b\b\b\b\b\b\b\b\b\b\b\b\b\b\b\b\b\b\b\r",
      "133/133 [==============================] - 168s 1s/step - loss: 1.3724 - f1_score_metric: 0.5501 - val_loss: 1.4379 - val_f1_score_metric: 0.5448\n",
      "Epoch 9/10\n",
      "133/133 [==============================] - ETA: 0s - loss: 1.2304 - f1_score_metric: 0.6019"
     ]
    },
    {
     "name": "stderr",
     "output_type": "stream",
     "text": [
      "/usr/local/lib/python3.10/dist-packages/keras/src/engine/training.py:3103: UserWarning: You are saving your model as an HDF5 file via `model.save()`. This file format is considered legacy. We recommend using instead the native Keras format, e.g. `model.save('my_model.keras')`.\n",
      "  saving_api.save_model(\n"
     ]
    },
    {
     "name": "stdout",
     "output_type": "stream",
     "text": [
      "\b\b\b\b\b\b\b\b\b\b\b\b\b\b\b\b\b\b\b\b\b\b\b\b\b\b\b\b\b\b\b\b\b\b\b\b\b\b\b\b\b\b\b\b\b\b\b\b\b\b\b\b\b\b\b\b\b\b\b\b\b\b\b\b\b\b\b\b\b\b\b\b\b\b\b\b\b\b\b\b\b\b\b\b\b\b\b\b\b\b\b\r",
      "133/133 [==============================] - 147s 1s/step - loss: 1.2304 - f1_score_metric: 0.6019 - val_loss: 1.5865 - val_f1_score_metric: 0.5377\n",
      "Epoch 10/10\n",
      "133/133 [==============================] - ETA: 0s - loss: 1.1429 - f1_score_metric: 0.6346"
     ]
    },
    {
     "name": "stderr",
     "output_type": "stream",
     "text": [
      "/usr/local/lib/python3.10/dist-packages/keras/src/engine/training.py:3103: UserWarning: You are saving your model as an HDF5 file via `model.save()`. This file format is considered legacy. We recommend using instead the native Keras format, e.g. `model.save('my_model.keras')`.\n",
      "  saving_api.save_model(\n"
     ]
    },
    {
     "name": "stdout",
     "output_type": "stream",
     "text": [
      "\b\b\b\b\b\b\b\b\b\b\b\b\b\b\b\b\b\b\b\b\b\b\b\b\b\b\b\b\b\b\b\b\b\b\b\b\b\b\b\b\b\b\b\b\b\b\b\b\b\b\b\b\b\b\b\b\b\b\b\b\b\b\b\b\b\b\b\b\b\b\b\b\b\b\b\b\b\b\b\b\b\b\b\b\b\b\b\b\b\b\b\r",
      "133/133 [==============================] - 148s 1s/step - loss: 1.1429 - f1_score_metric: 0.6346 - val_loss: 1.4498 - val_f1_score_metric: 0.5781\n"
     ]
    }
   ],
   "source": [
    "# Set mixed precision policy\n",
    "policy = tf.keras.mixed_precision.Policy('mixed_float16')\n",
    "tf.keras.mixed_precision.set_global_policy(policy)\n",
    "\n",
    "from tensorflow.keras.callbacks import ModelCheckpoint\n",
    "\n",
    "# Define a checkpoint callback with custom file name\n",
    "checkpoint_callback = ModelCheckpoint(filepath = \"VGG_adam.h5\", save_freq='epoch')\n",
    "\n",
    "# Train the model with the checkpoint callback\n",
    "history_vgg_adam = VGG_adam.fit(x_train, y_train, epochs=10, batch_size=128, validation_data=(x_val, y_val), callbacks=[checkpoint_callback])\n",
    "VGG_adam.save('/content/drive/My Drive/CNNs/VGG_adam.h5')"
   ]
  },
  {
   "cell_type": "code",
   "execution_count": null,
   "metadata": {
    "colab": {
     "base_uri": "https://localhost:8080/"
    },
    "id": "x1LqDi_6rPTM",
    "outputId": "5317b37f-a96f-4464-d67b-3d059636f2a0"
   },
   "outputs": [
    {
     "name": "stdout",
     "output_type": "stream",
     "text": [
      "Model: \"sequential_11\"\n",
      "_________________________________________________________________\n",
      " Layer (type)                Output Shape              Param #   \n",
      "=================================================================\n",
      " conv2d_93 (Conv2D)          (None, 32, 32, 64)        1792      \n",
      "                                                                 \n",
      " batch_normalization_78 (Ba  (None, 32, 32, 64)        256       \n",
      " tchNormalization)                                               \n",
      "                                                                 \n",
      " conv2d_94 (Conv2D)          (None, 32, 32, 64)        36928     \n",
      "                                                                 \n",
      " batch_normalization_79 (Ba  (None, 32, 32, 64)        256       \n",
      " tchNormalization)                                               \n",
      "                                                                 \n",
      " max_pooling2d_40 (MaxPooli  (None, 16, 16, 64)        0         \n",
      " ng2D)                                                           \n",
      "                                                                 \n",
      " conv2d_95 (Conv2D)          (None, 16, 16, 128)       73856     \n",
      "                                                                 \n",
      " batch_normalization_80 (Ba  (None, 16, 16, 128)       512       \n",
      " tchNormalization)                                               \n",
      "                                                                 \n",
      " conv2d_96 (Conv2D)          (None, 16, 16, 128)       147584    \n",
      "                                                                 \n",
      " batch_normalization_81 (Ba  (None, 16, 16, 128)       512       \n",
      " tchNormalization)                                               \n",
      "                                                                 \n",
      " max_pooling2d_41 (MaxPooli  (None, 8, 8, 128)         0         \n",
      " ng2D)                                                           \n",
      "                                                                 \n",
      " conv2d_97 (Conv2D)          (None, 8, 8, 256)         295168    \n",
      "                                                                 \n",
      " batch_normalization_82 (Ba  (None, 8, 8, 256)         1024      \n",
      " tchNormalization)                                               \n",
      "                                                                 \n",
      " conv2d_98 (Conv2D)          (None, 8, 8, 256)         590080    \n",
      "                                                                 \n",
      " batch_normalization_83 (Ba  (None, 8, 8, 256)         1024      \n",
      " tchNormalization)                                               \n",
      "                                                                 \n",
      " conv2d_99 (Conv2D)          (None, 8, 8, 256)         590080    \n",
      "                                                                 \n",
      " batch_normalization_84 (Ba  (None, 8, 8, 256)         1024      \n",
      " tchNormalization)                                               \n",
      "                                                                 \n",
      " max_pooling2d_42 (MaxPooli  (None, 4, 4, 256)         0         \n",
      " ng2D)                                                           \n",
      "                                                                 \n",
      " conv2d_100 (Conv2D)         (None, 4, 4, 512)         1180160   \n",
      "                                                                 \n",
      " batch_normalization_85 (Ba  (None, 4, 4, 512)         2048      \n",
      " tchNormalization)                                               \n",
      "                                                                 \n",
      " conv2d_101 (Conv2D)         (None, 4, 4, 512)         2359808   \n",
      "                                                                 \n",
      " batch_normalization_86 (Ba  (None, 4, 4, 512)         2048      \n",
      " tchNormalization)                                               \n",
      "                                                                 \n",
      " conv2d_102 (Conv2D)         (None, 4, 4, 512)         2359808   \n",
      "                                                                 \n",
      " batch_normalization_87 (Ba  (None, 4, 4, 512)         2048      \n",
      " tchNormalization)                                               \n",
      "                                                                 \n",
      " max_pooling2d_43 (MaxPooli  (None, 2, 2, 512)         0         \n",
      " ng2D)                                                           \n",
      "                                                                 \n",
      " conv2d_103 (Conv2D)         (None, 2, 2, 512)         2359808   \n",
      "                                                                 \n",
      " batch_normalization_88 (Ba  (None, 2, 2, 512)         2048      \n",
      " tchNormalization)                                               \n",
      "                                                                 \n",
      " conv2d_104 (Conv2D)         (None, 2, 2, 512)         2359808   \n",
      "                                                                 \n",
      " batch_normalization_89 (Ba  (None, 2, 2, 512)         2048      \n",
      " tchNormalization)                                               \n",
      "                                                                 \n",
      " conv2d_105 (Conv2D)         (None, 2, 2, 512)         2359808   \n",
      "                                                                 \n",
      " batch_normalization_90 (Ba  (None, 2, 2, 512)         2048      \n",
      " tchNormalization)                                               \n",
      "                                                                 \n",
      " max_pooling2d_44 (MaxPooli  (None, 1, 1, 512)         0         \n",
      " ng2D)                                                           \n",
      "                                                                 \n",
      " flatten_11 (Flatten)        (None, 512)               0         \n",
      "                                                                 \n",
      " dense_33 (Dense)            (None, 4096)              2101248   \n",
      "                                                                 \n",
      " dense_34 (Dense)            (None, 4096)              16781312  \n",
      "                                                                 \n",
      " dense_35 (Dense)            (None, 20)                81940     \n",
      "                                                                 \n",
      "=================================================================\n",
      "Total params: 33696084 (128.54 MB)\n",
      "Trainable params: 33687636 (128.51 MB)\n",
      "Non-trainable params: 8448 (33.00 KB)\n",
      "_________________________________________________________________\n"
     ]
    }
   ],
   "source": [
    "from tensorflow.keras import models, layers\n",
    "\n",
    "# Define the number of classes\n",
    "classes_num = 20  # For example, if you have 10 classes\n",
    "\n",
    "VGG_sgd = models.Sequential()\n",
    "\n",
    "\n",
    "# Block 1\n",
    "VGG_sgd.add(layers.Conv2D(filters=64, kernel_size=(3,3), padding=\"same\", activation=\"relu\",input_shape=(32,32,3)))\n",
    "VGG_sgd.add(tf.keras.layers.BatchNormalization(momentum=0.8))\n",
    "VGG_sgd.add(layers.Conv2D(filters=64, kernel_size=(3,3), padding=\"same\", activation=\"relu\"))\n",
    "VGG_sgd.add(tf.keras.layers.BatchNormalization(momentum=0.8))\n",
    "VGG_sgd.add(layers.MaxPool2D(pool_size=(2,2),strides=(2,2)))\n",
    "\n",
    "# Block 2\n",
    "VGG_sgd.add(layers.Conv2D(filters=128, kernel_size=(3,3), padding=\"same\", activation=\"relu\"))\n",
    "VGG_sgd.add(tf.keras.layers.BatchNormalization(momentum=0.8))\n",
    "VGG_sgd.add(layers.Conv2D(filters=128, kernel_size=(3,3), padding=\"same\", activation=\"relu\"))\n",
    "VGG_sgd.add(tf.keras.layers.BatchNormalization(momentum=0.8))\n",
    "VGG_sgd.add(layers.MaxPool2D(pool_size=(2,2),strides=(2,2)))\n",
    "\n",
    "# Block 3\n",
    "VGG_sgd.add(layers.Conv2D(filters=256, kernel_size=(3,3), padding=\"same\", activation=\"relu\"))\n",
    "VGG_sgd.add(tf.keras.layers.BatchNormalization(momentum=0.8))\n",
    "VGG_sgd.add(layers.Conv2D(filters=256, kernel_size=(3,3), padding=\"same\", activation=\"relu\"))\n",
    "VGG_sgd.add(tf.keras.layers.BatchNormalization(momentum=0.8))\n",
    "VGG_sgd.add(layers.Conv2D(filters=256, kernel_size=(3,3), padding=\"same\", activation=\"relu\"))\n",
    "VGG_sgd.add(tf.keras.layers.BatchNormalization(momentum=0.8))\n",
    "VGG_sgd.add(layers.MaxPool2D(pool_size=(2,2),strides=(2,2)))\n",
    "\n",
    "# Block 4\n",
    "VGG_sgd.add(layers.Conv2D(filters=512, kernel_size=(3,3), padding=\"same\", activation=\"relu\"))\n",
    "VGG_sgd.add(tf.keras.layers.BatchNormalization(momentum=0.8))\n",
    "VGG_sgd.add(layers.Conv2D(filters=512, kernel_size=(3,3), padding=\"same\", activation=\"relu\"))\n",
    "VGG_sgd.add(tf.keras.layers.BatchNormalization(momentum=0.8))\n",
    "VGG_sgd.add(layers.Conv2D(filters=512, kernel_size=(3,3), padding=\"same\", activation=\"relu\"))\n",
    "VGG_sgd.add(tf.keras.layers.BatchNormalization(momentum=0.8))\n",
    "VGG_sgd.add(layers.MaxPool2D(pool_size=(2,2),strides=(2,2)))\n",
    "\n",
    "# Block 5\n",
    "VGG_sgd.add(layers.Conv2D(filters=512, kernel_size=(3,3), padding=\"same\", activation=\"relu\"))\n",
    "VGG_sgd.add(tf.keras.layers.BatchNormalization(momentum=0.8))\n",
    "VGG_sgd.add(layers.Conv2D(filters=512, kernel_size=(3,3), padding=\"same\", activation=\"relu\"))\n",
    "VGG_sgd.add(tf.keras.layers.BatchNormalization(momentum=0.8))\n",
    "VGG_sgd.add(layers.Conv2D(filters=512, kernel_size=(3,3), padding=\"same\", activation=\"relu\"))\n",
    "VGG_sgd.add(tf.keras.layers.BatchNormalization(momentum=0.8))\n",
    "VGG_sgd.add(layers.MaxPool2D(pool_size=(2,2),strides=(2,2)))\n",
    "\n",
    "# Flatten the output\n",
    "VGG_sgd.add(layers.Flatten())\n",
    "\n",
    "# Dense layers\n",
    "VGG_sgd.add(layers.Dense(units=4096, activation=\"relu\"))\n",
    "VGG_sgd.add(layers.Dense(units=4096, activation=\"relu\"))\n",
    "VGG_sgd.add(layers.Dense(units=classes_num, activation=\"softmax\"))  # Use classes_num here\n",
    "\n",
    "# Compile the model\n",
    "VGG_sgd.compile(optimizer='sgd', loss=tf.keras.losses.sparse_categorical_crossentropy, metrics=[f1_score_metric])\n",
    "VGG_sgd.summary()"
   ]
  },
  {
   "cell_type": "code",
   "execution_count": null,
   "metadata": {
    "colab": {
     "base_uri": "https://localhost:8080/"
    },
    "id": "EfdFLwIBrH6J",
    "outputId": "b98b6ee8-9fad-4411-8bb1-b64435098eab"
   },
   "outputs": [
    {
     "name": "stdout",
     "output_type": "stream",
     "text": [
      "Epoch 1/10\n",
      "133/133 [==============================] - 12s 53ms/step - loss: 2.4369 - f1_score_metric: 0.0385 - val_loss: 2.1497 - val_f1_score_metric: 0.1104\n",
      "Epoch 2/10\n",
      "133/133 [==============================] - 5s 36ms/step - loss: 1.8392 - f1_score_metric: 0.1234 - val_loss: 2.1831 - val_f1_score_metric: 0.0208\n",
      "Epoch 3/10\n",
      "133/133 [==============================] - 4s 32ms/step - loss: 1.5286 - f1_score_metric: 0.2514 - val_loss: 1.7461 - val_f1_score_metric: 0.2432\n",
      "Epoch 4/10\n",
      "133/133 [==============================] - 6s 47ms/step - loss: 1.2245 - f1_score_metric: 0.3592 - val_loss: 1.6235 - val_f1_score_metric: 0.2472\n",
      "Epoch 5/10\n",
      "133/133 [==============================] - 4s 30ms/step - loss: 0.9658 - f1_score_metric: 0.5353 - val_loss: 1.5299 - val_f1_score_metric: 0.3939\n",
      "Epoch 6/10\n",
      "133/133 [==============================] - 5s 38ms/step - loss: 0.7095 - f1_score_metric: 0.6745 - val_loss: 1.6506 - val_f1_score_metric: 0.4097\n",
      "Epoch 7/10\n",
      "133/133 [==============================] - 5s 40ms/step - loss: 0.4732 - f1_score_metric: 0.7697 - val_loss: 1.7735 - val_f1_score_metric: 0.3832\n",
      "Epoch 8/10\n",
      "133/133 [==============================] - 5s 34ms/step - loss: 0.2892 - f1_score_metric: 0.8405 - val_loss: 1.7089 - val_f1_score_metric: 0.3195\n",
      "Epoch 9/10\n",
      "133/133 [==============================] - 5s 41ms/step - loss: 0.1533 - f1_score_metric: 0.9117 - val_loss: 1.6646 - val_f1_score_metric: 0.4534\n",
      "Epoch 10/10\n",
      "133/133 [==============================] - 5s 39ms/step - loss: 0.0700 - f1_score_metric: 0.9546 - val_loss: 1.7518 - val_f1_score_metric: 0.4670\n"
     ]
    }
   ],
   "source": [
    "from tensorflow.keras.callbacks import ModelCheckpoint\n",
    "\n",
    "# Define a checkpoint callback with custom file name\n",
    "checkpoint_callback = ModelCheckpoint(filepath = \"VGG_sgd.h5\", save_freq='epoch')\n",
    "\n",
    "# Train the model with the checkpoint callback\n",
    "history_vgg_sgd = VGG_sgd.fit(x_train, y_train, epochs=10, batch_size=128, validation_data=(x_val, y_val), callbacks=[checkpoint_callback])\n",
    "VGG_sgd.save('/content/drive/My Drive/CNNs/VGG_sgd.h5')"
   ]
  },
  {
   "cell_type": "markdown",
   "metadata": {
    "id": "R7uUj5FFKdDq"
   },
   "source": [
    "**MyCNN**"
   ]
  },
  {
   "cell_type": "code",
   "execution_count": null,
   "metadata": {
    "colab": {
     "base_uri": "https://localhost:8080/"
    },
    "id": "-2NvdSnxYtI6",
    "outputId": "53abe694-b4c7-460e-e4b7-ced9a4094721"
   },
   "outputs": [
    {
     "name": "stdout",
     "output_type": "stream",
     "text": [
      "Model: \"sequential_7\"\n",
      "_________________________________________________________________\n",
      " Layer (type)                Output Shape              Param #   \n",
      "=================================================================\n",
      " conv2d_81 (Conv2D)          (None, 28, 28, 32)        2432      \n",
      "                                                                 \n",
      " max_pooling2d_32 (MaxPooli  (None, 14, 14, 32)        0         \n",
      " ng2D)                                                           \n",
      "                                                                 \n",
      " conv2d_82 (Conv2D)          (None, 12, 12, 64)        18496     \n",
      "                                                                 \n",
      " max_pooling2d_33 (MaxPooli  (None, 6, 6, 64)          0         \n",
      " ng2D)                                                           \n",
      "                                                                 \n",
      " conv2d_83 (Conv2D)          (None, 4, 4, 128)         73856     \n",
      "                                                                 \n",
      " flatten_7 (Flatten)         (None, 2048)              0         \n",
      "                                                                 \n",
      " dense_21 (Dense)            (None, 512)               1049088   \n",
      "                                                                 \n",
      " dense_22 (Dense)            (None, 128)               65664     \n",
      "                                                                 \n",
      " dense_23 (Dense)            (None, 20)                2580      \n",
      "                                                                 \n",
      "=================================================================\n",
      "Total params: 1212116 (4.62 MB)\n",
      "Trainable params: 1212116 (4.62 MB)\n",
      "Non-trainable params: 0 (0.00 Byte)\n",
      "_________________________________________________________________\n"
     ]
    }
   ],
   "source": [
    "# Define the input shape\n",
    "input_shape = (32, 32, 3)\n",
    "\n",
    "# Define the model\n",
    "myCNN_adam = models.Sequential()\n",
    "\n",
    "# Convolutional layers\n",
    "myCNN_adam.add(layers.Conv2D(32, (5,5), activation='relu', input_shape=(32,32,3)))\n",
    "myCNN_adam.add(layers.MaxPooling2D((2, 2)))\n",
    "myCNN_adam.add(layers.Conv2D(64, (3, 3), activation='relu'))\n",
    "myCNN_adam.add(layers.MaxPooling2D((2, 2)))\n",
    "myCNN_adam.add(layers.Conv2D(128, (3, 3), activation='relu'))\n",
    "\n",
    "# Flatten layer\n",
    "myCNN_adam.add(layers.Flatten())\n",
    "\n",
    "# Dense layers\n",
    "myCNN_adam.add(layers.Dense(512, activation='relu'))\n",
    "myCNN_adam.add(layers.Dense(128, activation='relu'))\n",
    "\n",
    "# Output layer\n",
    "myCNN_adam.add(layers.Dense(20, activation='softmax'))  # Adjust num_classes according to your task\n",
    "\n",
    "# Compile the model\n",
    "myCNN_adam.compile(optimizer='adam', loss=tf.keras.losses.sparse_categorical_crossentropy, metrics=[f1_score_metric])\n",
    "\n",
    "# Print model summary\n",
    "myCNN_adam.summary()"
   ]
  },
  {
   "cell_type": "code",
   "execution_count": null,
   "metadata": {
    "colab": {
     "base_uri": "https://localhost:8080/"
    },
    "id": "lYcthrrXYtPv",
    "outputId": "7a2b4966-7a50-4df2-a5b7-4fa2ef6f89b9"
   },
   "outputs": [
    {
     "name": "stdout",
     "output_type": "stream",
     "text": [
      "Epoch 1/10\n",
      "67/67 [==============================] - 8s 25ms/step - loss: 2.6056 - f1_score_metric: 0.0242 - val_loss: 2.2971 - val_f1_score_metric: 0.0000e+00\n",
      "Epoch 2/10\n",
      "67/67 [==============================] - 1s 11ms/step - loss: 2.1031 - f1_score_metric: 0.0781 - val_loss: 2.0672 - val_f1_score_metric: 0.0000e+00\n",
      "Epoch 3/10\n",
      "67/67 [==============================] - 1s 10ms/step - loss: 1.8718 - f1_score_metric: 0.1003 - val_loss: 1.8141 - val_f1_score_metric: 0.0846\n",
      "Epoch 4/10\n",
      "67/67 [==============================] - 1s 11ms/step - loss: 1.6979 - f1_score_metric: 0.1630 - val_loss: 1.7041 - val_f1_score_metric: 0.2443\n",
      "Epoch 5/10\n",
      "67/67 [==============================] - 1s 12ms/step - loss: 1.5239 - f1_score_metric: 0.2570 - val_loss: 1.6173 - val_f1_score_metric: 0.1540\n",
      "Epoch 6/10\n",
      "67/67 [==============================] - 1s 11ms/step - loss: 1.4155 - f1_score_metric: 0.3139 - val_loss: 1.5888 - val_f1_score_metric: 0.1794\n",
      "Epoch 7/10\n",
      "67/67 [==============================] - 1s 10ms/step - loss: 1.3059 - f1_score_metric: 0.4193 - val_loss: 1.5942 - val_f1_score_metric: 0.3311\n",
      "Epoch 8/10\n",
      "67/67 [==============================] - 1s 10ms/step - loss: 1.2150 - f1_score_metric: 0.4517 - val_loss: 1.4984 - val_f1_score_metric: 0.3288\n",
      "Epoch 9/10\n",
      "67/67 [==============================] - 1s 10ms/step - loss: 1.0684 - f1_score_metric: 0.4912 - val_loss: 1.4891 - val_f1_score_metric: 0.4175\n",
      "Epoch 10/10\n",
      "67/67 [==============================] - 1s 10ms/step - loss: 0.9891 - f1_score_metric: 0.5659 - val_loss: 1.5118 - val_f1_score_metric: 0.3980\n"
     ]
    }
   ],
   "source": [
    "from tensorflow.keras.callbacks import ModelCheckpoint\n",
    "\n",
    "# Define a checkpoint callback with custom file name\n",
    "checkpoint_callback = ModelCheckpoint(filepath = \"myCNN_adam.h5\", save_freq='epoch')\n",
    "\n",
    "# Train the model with the checkpoint callback\n",
    "history_mycnn_adam = myCNN_adam.fit(x_train, y_train, epochs=10, batch_size=128, validation_data=(x_val, y_val), callbacks=[checkpoint_callback])\n",
    "myCNN_adam.save('/content/drive/My Drive/CNNs/myCNN_adam.h5')"
   ]
  },
  {
   "cell_type": "markdown",
   "metadata": {
    "id": "ZPbVcwIuTeBi"
   },
   "source": []
  },
  {
   "cell_type": "code",
   "execution_count": null,
   "metadata": {
    "colab": {
     "base_uri": "https://localhost:8080/"
    },
    "id": "S5XEcn9gruXN",
    "outputId": "d8e88326-2587-4f73-e125-b656a6cb5208"
   },
   "outputs": [
    {
     "name": "stdout",
     "output_type": "stream",
     "text": [
      "Model: \"sequential_10\"\n",
      "_________________________________________________________________\n",
      " Layer (type)                Output Shape              Param #   \n",
      "=================================================================\n",
      " conv2d_90 (Conv2D)          (None, 28, 28, 32)        2432      \n",
      "                                                                 \n",
      " max_pooling2d_38 (MaxPooli  (None, 14, 14, 32)        0         \n",
      " ng2D)                                                           \n",
      "                                                                 \n",
      " conv2d_91 (Conv2D)          (None, 12, 12, 64)        18496     \n",
      "                                                                 \n",
      " max_pooling2d_39 (MaxPooli  (None, 6, 6, 64)          0         \n",
      " ng2D)                                                           \n",
      "                                                                 \n",
      " conv2d_92 (Conv2D)          (None, 4, 4, 128)         73856     \n",
      "                                                                 \n",
      " flatten_10 (Flatten)        (None, 2048)              0         \n",
      "                                                                 \n",
      " dense_30 (Dense)            (None, 512)               1049088   \n",
      "                                                                 \n",
      " dense_31 (Dense)            (None, 128)               65664     \n",
      "                                                                 \n",
      " dense_32 (Dense)            (None, 20)                2580      \n",
      "                                                                 \n",
      "=================================================================\n",
      "Total params: 1212116 (4.62 MB)\n",
      "Trainable params: 1212116 (4.62 MB)\n",
      "Non-trainable params: 0 (0.00 Byte)\n",
      "_________________________________________________________________\n"
     ]
    }
   ],
   "source": [
    "# Define the input shape\n",
    "input_shape = (32, 32, 3)\n",
    "\n",
    "# Define the model\n",
    "myCNN_sgd = models.Sequential()\n",
    "\n",
    "# Convolutional layers\n",
    "myCNN_sgd.add(layers.Conv2D(32, (5,5), activation='relu', input_shape=(32,32,3)))\n",
    "myCNN_sgd.add(layers.MaxPooling2D((2, 2)))\n",
    "myCNN_sgd.add(layers.Conv2D(64, (3, 3), activation='relu'))\n",
    "myCNN_sgd.add(layers.MaxPooling2D((2, 2)))\n",
    "myCNN_sgd.add(layers.Conv2D(128, (3, 3), activation='relu'))\n",
    "\n",
    "# Flatten layer\n",
    "myCNN_sgd.add(layers.Flatten())\n",
    "\n",
    "# Dense layers\n",
    "myCNN_sgd.add(layers.Dense(512, activation='relu'))\n",
    "myCNN_sgd.add(layers.Dense(128, activation='relu'))\n",
    "\n",
    "# Output layer\n",
    "myCNN_sgd.add(layers.Dense(20, activation='softmax'))  # Adjust num_classes according to your task\n",
    "\n",
    "# Compile the model\n",
    "myCNN_sgd.compile(optimizer='sgd', loss=tf.keras.losses.sparse_categorical_crossentropy, metrics=[f1_score_metric])\n",
    "\n",
    "# Print model summary\n",
    "myCNN_sgd.summary()"
   ]
  },
  {
   "cell_type": "code",
   "execution_count": null,
   "metadata": {
    "colab": {
     "base_uri": "https://localhost:8080/"
    },
    "id": "ZDplfu5Frnvo",
    "outputId": "ac669bc3-3d0e-475e-a40a-3d836c189ad7"
   },
   "outputs": [
    {
     "name": "stdout",
     "output_type": "stream",
     "text": [
      "Epoch 1/10\n",
      "67/67 [==============================] - 3s 16ms/step - loss: 2.9942 - f1_score_metric: 0.0000e+00 - val_loss: 2.9920 - val_f1_score_metric: 0.0000e+00\n",
      "Epoch 2/10\n",
      "12/67 [====>.........................] - ETA: 0s - loss: 2.9907 - f1_score_metric: 0.0000e+00"
     ]
    },
    {
     "name": "stderr",
     "output_type": "stream",
     "text": [
      "/usr/local/lib/python3.10/dist-packages/keras/src/engine/training.py:3103: UserWarning: You are saving your model as an HDF5 file via `model.save()`. This file format is considered legacy. We recommend using instead the native Keras format, e.g. `model.save('my_model.keras')`.\n",
      "  saving_api.save_model(\n"
     ]
    },
    {
     "name": "stdout",
     "output_type": "stream",
     "text": [
      "67/67 [==============================] - 1s 11ms/step - loss: 2.9877 - f1_score_metric: 0.0000e+00 - val_loss: 2.9865 - val_f1_score_metric: 0.0000e+00\n",
      "Epoch 3/10\n",
      "67/67 [==============================] - 1s 15ms/step - loss: 2.9810 - f1_score_metric: 0.0000e+00 - val_loss: 2.9793 - val_f1_score_metric: 0.0000e+00\n",
      "Epoch 4/10\n",
      "67/67 [==============================] - 1s 15ms/step - loss: 2.9709 - f1_score_metric: 0.0000e+00 - val_loss: 2.9700 - val_f1_score_metric: 0.0000e+00\n",
      "Epoch 5/10\n",
      "67/67 [==============================] - 1s 14ms/step - loss: 2.9552 - f1_score_metric: 0.0000e+00 - val_loss: 2.9483 - val_f1_score_metric: 0.0000e+00\n",
      "Epoch 6/10\n",
      "67/67 [==============================] - 1s 14ms/step - loss: 2.9264 - f1_score_metric: 0.0000e+00 - val_loss: 2.9102 - val_f1_score_metric: 0.0000e+00\n",
      "Epoch 7/10\n",
      "67/67 [==============================] - 1s 12ms/step - loss: 2.8664 - f1_score_metric: 0.0000e+00 - val_loss: 2.8377 - val_f1_score_metric: 0.0000e+00\n",
      "Epoch 8/10\n",
      "67/67 [==============================] - 1s 10ms/step - loss: 2.7712 - f1_score_metric: 0.0027 - val_loss: 2.8080 - val_f1_score_metric: 0.0647\n",
      "Epoch 9/10\n",
      "67/67 [==============================] - 1s 9ms/step - loss: 2.6943 - f1_score_metric: 0.0184 - val_loss: 2.6905 - val_f1_score_metric: 0.1471\n",
      "Epoch 10/10\n",
      "67/67 [==============================] - 1s 10ms/step - loss: 2.6589 - f1_score_metric: 0.0223 - val_loss: 2.6146 - val_f1_score_metric: 0.0152\n"
     ]
    }
   ],
   "source": [
    "from tensorflow.keras.callbacks import ModelCheckpoint\n",
    "\n",
    "# Define a checkpoint callback with custom file name\n",
    "checkpoint_callback = ModelCheckpoint(filepath = \"myCNN_sgd.h5\", save_freq='epoch')\n",
    "\n",
    "# Train the model with the checkpoint callback\n",
    "history_mycnn_sgd = myCNN_sgd.fit(x_train, y_train, epochs=10, batch_size=128, validation_data=(x_val, y_val), callbacks=[checkpoint_callback])\n",
    "myCNN_sgd.save('/content/drive/My Drive/CNNs/myCNN_sgd.h5')"
   ]
  },
  {
   "cell_type": "markdown",
   "metadata": {
    "id": "V9C4r-Tur5Ou"
   },
   "source": [
    "**Βήμα 2**"
   ]
  },
  {
   "cell_type": "code",
   "execution_count": null,
   "metadata": {
    "id": "8HrakqMOr4R4"
   },
   "outputs": [],
   "source": [
    "def plot_f1(history):\n",
    "  fig = plt.figure()\n",
    "  plt.plot(history.history['f1_score_metric'], label='F1 Score')\n",
    "  plt.plot(history.history['val_f1_score_metric'], label = 'val F1 score')\n",
    "  plt.xlabel('Epoch')\n",
    "  plt.ylabel('F1')\n",
    "  plt.legend(loc='lower right')"
   ]
  },
  {
   "cell_type": "markdown",
   "metadata": {
    "id": "mxpFmiuaxLVp"
   },
   "source": [
    "**LeNet**"
   ]
  },
  {
   "cell_type": "code",
   "execution_count": null,
   "metadata": {
    "colab": {
     "base_uri": "https://localhost:8080/",
     "height": 454
    },
    "id": "Cjq83muyw8gK",
    "outputId": "ea551db7-fb76-49aa-af88-f177312edd09"
   },
   "outputs": [
    {
     "data": {
      "image/png": "[encoded data removed]",
      "text/plain": [
       "<Figure size 640x480 with 1 Axes>"
      ]
     },
     "metadata": {},
     "output_type": "display_data"
    }
   ],
   "source": [
    "# Adam Optimizer\n",
    "plot_f1(history_lenet_adam)\n",
    "plt.show()"
   ]
  },
  {
   "cell_type": "code",
   "execution_count": null,
   "metadata": {
    "colab": {
     "base_uri": "https://localhost:8080/",
     "height": 452
    },
    "id": "Z9DJjCsjw9ep",
    "outputId": "b4c47af9-a153-4935-bc88-569bdf14bc67"
   },
   "outputs": [
    {
     "data": {
      "image/png": "[encoded data removed]",
      "text/plain": [
       "<Figure size 640x480 with 1 Axes>"
      ]
     },
     "metadata": {},
     "output_type": "display_data"
    }
   ],
   "source": [
    "# SGD Optimizer\n",
    "plot_f1(history_lenet_sgd)\n",
    "plt.show()"
   ]
  },
  {
   "cell_type": "markdown",
   "metadata": {
    "id": "1RE41L9wxSQP"
   },
   "source": [
    "**AlexNet**"
   ]
  },
  {
   "cell_type": "code",
   "execution_count": null,
   "metadata": {
    "colab": {
     "base_uri": "https://localhost:8080/",
     "height": 452
    },
    "id": "VrSUiy0Rw9no",
    "outputId": "84134030-e158-492c-b072-3b88bfe4cb67"
   },
   "outputs": [
    {
     "data": {
      "image/png": "[encoded data removed]",
      "text/plain": [
       "<Figure size 640x480 with 1 Axes>"
      ]
     },
     "metadata": {},
     "output_type": "display_data"
    }
   ],
   "source": [
    "# Adam Optimizer\n",
    "plot_f1(history_alexnet_adam)\n",
    "plt.show()"
   ]
  },
  {
   "cell_type": "code",
   "execution_count": null,
   "metadata": {
    "colab": {
     "base_uri": "https://localhost:8080/",
     "height": 449
    },
    "id": "UPbSEcf8w9tc",
    "outputId": "6bcceb21-2e40-41b8-ee21-782e1d4e6ebf"
   },
   "outputs": [
    {
     "data": {
      "image/png": "[encoded data removed]",
      "text/plain": [
       "<Figure size 640x480 with 1 Axes>"
      ]
     },
     "metadata": {},
     "output_type": "display_data"
    }
   ],
   "source": [
    "# SGD Optimizer\n",
    "plot_f1(history_alexnet_sgd)\n",
    "plt.show()"
   ]
  },
  {
   "cell_type": "markdown",
   "metadata": {
    "id": "X5J5g0jyxVIy"
   },
   "source": [
    "**VGG**"
   ]
  },
  {
   "cell_type": "code",
   "execution_count": null,
   "metadata": {
    "colab": {
     "base_uri": "https://localhost:8080/",
     "height": 449
    },
    "id": "ONvbNYexw90q",
    "outputId": "a934e01a-1881-447c-ea4d-adeb8d499073"
   },
   "outputs": [
    {
     "data": {
      "image/png": "[encoded data removed]",
      "text/plain": [
       "<Figure size 640x480 with 1 Axes>"
      ]
     },
     "metadata": {},
     "output_type": "display_data"
    }
   ],
   "source": [
    "# Adam Optimizer\n",
    "plot_f1(history_vgg_adam)\n",
    "plt.show()"
   ]
  },
  {
   "cell_type": "code",
   "execution_count": null,
   "metadata": {
    "colab": {
     "base_uri": "https://localhost:8080/",
     "height": 454
    },
    "id": "9A9EBdw5w956",
    "outputId": "d69f087d-16ea-40f9-c100-5fdd68893599"
   },
   "outputs": [
    {
     "data": {
      "image/png": "[encoded data removed]",
      "text/plain": [
       "<Figure size 640x480 with 1 Axes>"
      ]
     },
     "metadata": {},
     "output_type": "display_data"
    }
   ],
   "source": [
    "# SGD Optimizer\n",
    "plot_f1(history_vgg_sgd)\n",
    "plt.show()"
   ]
  },
  {
   "cell_type": "markdown",
   "metadata": {
    "id": "u-Nd3_lhxXwC"
   },
   "source": [
    "**MyCNN**"
   ]
  },
  {
   "cell_type": "code",
   "execution_count": null,
   "metadata": {
    "colab": {
     "base_uri": "https://localhost:8080/",
     "height": 449
    },
    "id": "S8WStzlHw9-w",
    "outputId": "491bd0c9-6040-42cc-b1cb-ba29aac62b4d"
   },
   "outputs": [
    {
     "data": {
      "image/png": "[encoded data removed]",
      "text/plain": [
       "<Figure size 640x480 with 1 Axes>"
      ]
     },
     "metadata": {},
     "output_type": "display_data"
    }
   ],
   "source": [
    "# Adam Optimizer\n",
    "plot_f1(history_mycnn_adam)\n",
    "plt.show()"
   ]
  },
  {
   "cell_type": "code",
   "execution_count": null,
   "metadata": {
    "colab": {
     "base_uri": "https://localhost:8080/",
     "height": 449
    },
    "id": "-90zkfdzw-F3",
    "outputId": "756d998e-470e-4902-f9ef-f7d79aa74d0d"
   },
   "outputs": [
    {
     "data": {
      "image/png": "[encoded data removed]",
      "text/plain": [
       "<Figure size 640x480 with 1 Axes>"
      ]
     },
     "metadata": {},
     "output_type": "display_data"
    }
   ],
   "source": [
    "# SGD Optimizer\n",
    "plot_f1(history_mycnn_sgd)\n",
    "plt.show()"
   ]
  },
  {
   "cell_type": "markdown",
   "metadata": {
    "id": "QRYbE8Ff94Mu"
   },
   "source": [
    "Από τις παραπάνω γραφικές βλέπουμε ότι τα καλύτερα αποτελέσματα τα πετυχαίνουμε με τον adam oprimizer. Επίσης σύμφωνα με το F1 Score στο validation set καλύτερο μοντέλο φαίνεται να είναι το VGG με χρήση του adam"
   ]
  },
  {
   "cell_type": "markdown",
   "metadata": {
    "id": "V9hZtCoqx4cq"
   },
   "source": [
    "**Βήμα 3**"
   ]
  },
  {
   "cell_type": "markdown",
   "metadata": {
    "id": "WMR_IgfnLxtR"
   },
   "source": [
    "**LeNet**"
   ]
  },
  {
   "cell_type": "code",
   "execution_count": null,
   "metadata": {
    "colab": {
     "base_uri": "https://localhost:8080/"
    },
    "id": "A-eRgxz29GFi",
    "outputId": "fcd8345f-6f2b-49b1-c8f5-b7daaa2ec22e"
   },
   "outputs": [
    {
     "name": "stdout",
     "output_type": "stream",
     "text": [
      "63/63 [==============================] - 48s 754ms/step - loss: 2.2159 - f1_score_metric: 0.3030\n"
     ]
    },
    {
     "data": {
      "text/plain": [
       "[2.215864896774292, 0.30298352241516113]"
      ]
     },
     "execution_count": 87,
     "metadata": {},
     "output_type": "execute_result"
    }
   ],
   "source": [
    "LeNet_adam.evaluate(x_test, y_test)"
   ]
  },
  {
   "cell_type": "code",
   "execution_count": null,
   "metadata": {
    "colab": {
     "base_uri": "https://localhost:8080/"
    },
    "id": "R50IPa6w9GMr",
    "outputId": "1c8b624e-330b-43b2-bff8-70571e77a110"
   },
   "outputs": [
    {
     "name": "stdout",
     "output_type": "stream",
     "text": [
      "63/63 [==============================] - 47s 752ms/step - loss: 2.9960 - f1_score_metric: 0.0081\n"
     ]
    },
    {
     "data": {
      "text/plain": [
       "[2.9959816932678223, 0.008102195337414742]"
      ]
     },
     "execution_count": 88,
     "metadata": {},
     "output_type": "execute_result"
    }
   ],
   "source": [
    "LeNet_sgd.evaluate(x_test, y_test)"
   ]
  },
  {
   "cell_type": "markdown",
   "metadata": {
    "id": "w-9iaIb7L01R"
   },
   "source": [
    "**AlexNet**"
   ]
  },
  {
   "cell_type": "code",
   "execution_count": null,
   "metadata": {
    "colab": {
     "base_uri": "https://localhost:8080/"
    },
    "id": "i32wY3aO9GSK",
    "outputId": "bc3f8bd9-19c1-4136-fb7e-665bae514a84"
   },
   "outputs": [
    {
     "name": "stdout",
     "output_type": "stream",
     "text": [
      "63/63 [==============================] - 48s 753ms/step - loss: 1.6417 - f1_score_metric: 0.4920\n"
     ]
    },
    {
     "data": {
      "text/plain": [
       "[1.6417454481124878, 0.49203523993492126]"
      ]
     },
     "execution_count": 89,
     "metadata": {},
     "output_type": "execute_result"
    }
   ],
   "source": [
    "AlexNet_adam.evaluate(x_test, y_test)"
   ]
  },
  {
   "cell_type": "code",
   "execution_count": null,
   "metadata": {
    "colab": {
     "base_uri": "https://localhost:8080/"
    },
    "id": "tp0KO27-9GXP",
    "outputId": "d08c1b36-c3af-4b0e-a4c9-8712966639a6"
   },
   "outputs": [
    {
     "name": "stdout",
     "output_type": "stream",
     "text": [
      "63/63 [==============================] - 51s 815ms/step - loss: 2.5729 - f1_score_metric: 0.1866\n"
     ]
    },
    {
     "data": {
      "text/plain": [
       "[2.5729260444641113, 0.18663781881332397]"
      ]
     },
     "execution_count": 90,
     "metadata": {},
     "output_type": "execute_result"
    }
   ],
   "source": [
    "AlexNet_sgd.evaluate(x_test, y_test)"
   ]
  },
  {
   "cell_type": "markdown",
   "metadata": {
    "id": "ZjFvZyI7L397"
   },
   "source": [
    "**VGG**"
   ]
  },
  {
   "cell_type": "code",
   "execution_count": null,
   "metadata": {
    "colab": {
     "base_uri": "https://localhost:8080/"
    },
    "id": "HA0rjHiy9GdO",
    "outputId": "8359d53b-df69-4a96-b228-390854a75747"
   },
   "outputs": [
    {
     "name": "stdout",
     "output_type": "stream",
     "text": [
      "63/63 [==============================] - 53s 799ms/step - loss: 1.3822 - f1_score_metric: 0.5840\n"
     ]
    },
    {
     "data": {
      "text/plain": [
       "[1.3822499513626099, 0.5839952826499939]"
      ]
     },
     "execution_count": 41,
     "metadata": {},
     "output_type": "execute_result"
    }
   ],
   "source": [
    "VGG_adam.evaluate(x_test, y_test)"
   ]
  },
  {
   "cell_type": "code",
   "execution_count": null,
   "metadata": {
    "colab": {
     "base_uri": "https://localhost:8080/"
    },
    "id": "8_SZSveI9Gid",
    "outputId": "7f3c85be-bca5-4a8c-b338-96856895bbdd"
   },
   "outputs": [
    {
     "name": "stdout",
     "output_type": "stream",
     "text": [
      "63/63 [==============================] - 1s 14ms/step - loss: 1.6805 - f1_score_metric: 0.3366\n"
     ]
    },
    {
     "data": {
      "text/plain": [
       "[1.6805000305175781, 0.3365834951400757]"
      ]
     },
     "execution_count": 42,
     "metadata": {},
     "output_type": "execute_result"
    }
   ],
   "source": [
    "VGG_sgd.evaluate(x_test, y_test)"
   ]
  },
  {
   "cell_type": "markdown",
   "metadata": {
    "id": "h6CGQxcML6gy"
   },
   "source": [
    "**MyCNN**"
   ]
  },
  {
   "cell_type": "code",
   "execution_count": null,
   "metadata": {
    "colab": {
     "base_uri": "https://localhost:8080/"
    },
    "id": "lIF-GNh99GnU",
    "outputId": "13db6108-5a44-4833-d74e-0ab23999dd0b"
   },
   "outputs": [
    {
     "name": "stdout",
     "output_type": "stream",
     "text": [
      "63/63 [==============================] - 0s 4ms/step - loss: 1.5112 - f1_score_metric: 0.2848\n"
     ]
    },
    {
     "data": {
      "text/plain": [
       "[1.5111796855926514, 0.2848324477672577]"
      ]
     },
     "execution_count": 49,
     "metadata": {},
     "output_type": "execute_result"
    }
   ],
   "source": [
    "myCNN_adam.evaluate(x_test, y_test)"
   ]
  },
  {
   "cell_type": "code",
   "execution_count": null,
   "metadata": {
    "colab": {
     "base_uri": "https://localhost:8080/"
    },
    "id": "uvTAqvhu9Gsj",
    "outputId": "875f8173-f726-4e69-fcf8-62249449e1f7"
   },
   "outputs": [
    {
     "name": "stdout",
     "output_type": "stream",
     "text": [
      "63/63 [==============================] - 0s 4ms/step - loss: 2.6001 - f1_score_metric: 0.0291\n"
     ]
    },
    {
     "data": {
      "text/plain": [
       "[2.6001250743865967, 0.029100531712174416]"
      ]
     },
     "execution_count": 56,
     "metadata": {},
     "output_type": "execute_result"
    }
   ],
   "source": [
    "myCNN_sgd.evaluate(x_test, y_test)"
   ]
  },
  {
   "cell_type": "markdown",
   "metadata": {
    "id": "g6fuB9UYMW_d"
   },
   "source": [
    "Τα συμπεράσματα και πάλι είναι παρόμοια με αυτά του βήματος 2. Ο adam optimizer είναι καλύτερος από τον sgd και το καλύτερο μοντέλο σύμφωνα με το F1 score στο test set φαίνεται να είναι το VGG με adam"
   ]
  },
  {
   "cell_type": "markdown",
   "metadata": {
    "id": "v8rhgSGOV5pm"
   },
   "source": [
    "\n",
    "## Ερώτημα 2\n",
    "---\n",
    "### Βήμα 1: Έλεγχος υπερεκπαίδευσης\n",
    "\n",
    "Για μοντέλο σας  (**MyCNN**) και μόνο, δοκιμάστε διάφορους συνδυασμούς των ακόλουθων τεχνικών για τον έλεγχο της υπερεκπαίδευσης (overfitting), ώστε το μοντέλο σας να γενικεύει καλύτερα, όπως:\n",
    "\n",
    "- Dropout ([Dropout](https://www.tensorflow.org/tutorials/images/classification#dropout))\n",
    "\n",
    "- Επαύξηση δεδομένων ([Data augmentation](https://www.tensorflow.org/tutorials/images/classification#data_augmentation), [ImageDataGenerator](https://www.tensorflow.org/api_docs/python/tf/keras/preprocessing/image/ImageDataGenerator#class_imagedatagenerator))\n",
    "\n",
    "---\n",
    "### Βήμα 2: Αξιολόγηση\n",
    "Αξιολογήστε τα αποτελέσματά σας, βάσει του F1 score για το σύνολο επικύρωσης και για το σύνολο ελέγχου\n",
    "\n",
    "---\n"
   ]
  },
  {
   "cell_type": "markdown",
   "metadata": {
    "id": "JD4s56dJ-b2U"
   },
   "source": [
    "**Βήμα 1**"
   ]
  },
  {
   "cell_type": "markdown",
   "metadata": {
    "id": "RHMmFzZNAI2b"
   },
   "source": [
    "**Dropout**"
   ]
  },
  {
   "cell_type": "code",
   "execution_count": null,
   "metadata": {
    "colab": {
     "base_uri": "https://localhost:8080/"
    },
    "id": "U2Vr9qfu-hQS",
    "outputId": "d3cd78be-3201-4883-d902-3f0c583529ae"
   },
   "outputs": [
    {
     "name": "stdout",
     "output_type": "stream",
     "text": [
      "Model: \"sequential_15\"\n",
      "_________________________________________________________________\n",
      " Layer (type)                Output Shape              Param #   \n",
      "=================================================================\n",
      " conv2d_109 (Conv2D)         (None, 28, 28, 32)        2432      \n",
      "                                                                 \n",
      " max_pooling2d_47 (MaxPooli  (None, 14, 14, 32)        0         \n",
      " ng2D)                                                           \n",
      "                                                                 \n",
      " dropout_4 (Dropout)         (None, 14, 14, 32)        0         \n",
      "                                                                 \n",
      " conv2d_110 (Conv2D)         (None, 12, 12, 64)        18496     \n",
      "                                                                 \n",
      " max_pooling2d_48 (MaxPooli  (None, 6, 6, 64)          0         \n",
      " ng2D)                                                           \n",
      "                                                                 \n",
      " dropout_5 (Dropout)         (None, 6, 6, 64)          0         \n",
      "                                                                 \n",
      " conv2d_111 (Conv2D)         (None, 4, 4, 128)         73856     \n",
      "                                                                 \n",
      " flatten_13 (Flatten)        (None, 2048)              0         \n",
      "                                                                 \n",
      " dense_39 (Dense)            (None, 512)               1049088   \n",
      "                                                                 \n",
      " dropout_6 (Dropout)         (None, 512)               0         \n",
      "                                                                 \n",
      " dense_40 (Dense)            (None, 128)               65664     \n",
      "                                                                 \n",
      " dropout_7 (Dropout)         (None, 128)               0         \n",
      "                                                                 \n",
      " dense_41 (Dense)            (None, 20)                2580      \n",
      "                                                                 \n",
      "=================================================================\n",
      "Total params: 1212116 (4.62 MB)\n",
      "Trainable params: 1212116 (4.62 MB)\n",
      "Non-trainable params: 0 (0.00 Byte)\n",
      "_________________________________________________________________\n"
     ]
    }
   ],
   "source": [
    "import tensorflow as tf\n",
    "from tensorflow.keras import models, layers\n",
    "\n",
    "input_shape = (32, 32, 3)\n",
    "\n",
    "myCNN_dropout = models.Sequential()\n",
    "\n",
    "myCNN_dropout.add(layers.Conv2D(32, (5,5), activation='relu', input_shape=(32,32,3)))\n",
    "myCNN_dropout.add(layers.MaxPooling2D((2, 2)))\n",
    "myCNN_dropout.add(layers.Dropout(0.25))  # Dropout after the first convolutional layer\n",
    "\n",
    "myCNN_dropout.add(layers.Conv2D(64, (3, 3), activation='relu'))\n",
    "myCNN_dropout.add(layers.MaxPooling2D((2, 2)))\n",
    "myCNN_dropout.add(layers.Dropout(0.25))  # Dropout after the second convolutional layer\n",
    "\n",
    "myCNN_dropout.add(layers.Conv2D(128, (3, 3), activation='relu'))\n",
    "\n",
    "myCNN_dropout.add(layers.Flatten())\n",
    "\n",
    "myCNN_dropout.add(layers.Dense(512, activation='relu'))\n",
    "myCNN_dropout.add(layers.Dropout(0.5))  # Dropout after the first dense layer\n",
    "myCNN_dropout.add(layers.Dense(128, activation='relu'))\n",
    "myCNN_dropout.add(layers.Dropout(0.5))  # Dropout after the second dense layer\n",
    "\n",
    "myCNN_dropout.add(layers.Dense(20, activation='softmax'))\n",
    "\n",
    "myCNN_dropout.compile(optimizer='adam', loss=tf.keras.losses.sparse_categorical_crossentropy, metrics=[f1_score_metric])\n",
    "\n",
    "myCNN_dropout.summary()\n"
   ]
  },
  {
   "cell_type": "code",
   "execution_count": null,
   "metadata": {
    "colab": {
     "base_uri": "https://localhost:8080/"
    },
    "id": "Kb0TBer5AGhQ",
    "outputId": "c9ad2c05-8619-4142-dc2b-8a58931f1a2a"
   },
   "outputs": [
    {
     "name": "stdout",
     "output_type": "stream",
     "text": [
      "Epoch 1/30\n",
      "67/67 [==============================] - 5s 18ms/step - loss: 2.9346 - f1_score_metric: 0.0172 - val_loss: 2.8158 - val_f1_score_metric: 0.0000e+00\n",
      "Epoch 2/30\n",
      "67/67 [==============================] - 1s 12ms/step - loss: 2.7190 - f1_score_metric: 0.0381 - val_loss: 2.4731 - val_f1_score_metric: 0.0000e+00\n",
      "Epoch 3/30\n",
      "67/67 [==============================] - 1s 12ms/step - loss: 2.5081 - f1_score_metric: 0.0410 - val_loss: 2.3353 - val_f1_score_metric: 0.0000e+00\n",
      "Epoch 4/30\n",
      "67/67 [==============================] - 1s 11ms/step - loss: 2.3398 - f1_score_metric: 0.0572 - val_loss: 2.1303 - val_f1_score_metric: 0.0000e+00\n",
      "Epoch 5/30\n",
      "67/67 [==============================] - 1s 11ms/step - loss: 2.1863 - f1_score_metric: 0.0493 - val_loss: 2.0476 - val_f1_score_metric: 0.0405\n",
      "Epoch 6/30\n",
      "67/67 [==============================] - 1s 11ms/step - loss: 2.0665 - f1_score_metric: 0.0839 - val_loss: 1.9591 - val_f1_score_metric: 0.0000e+00\n",
      "Epoch 7/30\n",
      "67/67 [==============================] - 1s 11ms/step - loss: 1.9742 - f1_score_metric: 0.0925 - val_loss: 1.8115 - val_f1_score_metric: 0.0238\n",
      "Epoch 8/30\n",
      "67/67 [==============================] - 1s 12ms/step - loss: 1.8774 - f1_score_metric: 0.1213 - val_loss: 1.7335 - val_f1_score_metric: 0.1113\n",
      "Epoch 9/30\n",
      "67/67 [==============================] - 1s 11ms/step - loss: 1.8142 - f1_score_metric: 0.1468 - val_loss: 1.7150 - val_f1_score_metric: 0.0556\n",
      "Epoch 10/30\n",
      "67/67 [==============================] - 1s 13ms/step - loss: 1.7241 - f1_score_metric: 0.1690 - val_loss: 1.5979 - val_f1_score_metric: 0.0803\n",
      "Epoch 11/30\n",
      "67/67 [==============================] - 1s 16ms/step - loss: 1.6700 - f1_score_metric: 0.2050 - val_loss: 1.5698 - val_f1_score_metric: 0.1902\n",
      "Epoch 12/30\n",
      "67/67 [==============================] - 1s 18ms/step - loss: 1.5999 - f1_score_metric: 0.2210 - val_loss: 1.5638 - val_f1_score_metric: 0.2192\n",
      "Epoch 13/30\n",
      "67/67 [==============================] - 1s 18ms/step - loss: 1.5360 - f1_score_metric: 0.2640 - val_loss: 1.5375 - val_f1_score_metric: 0.2551\n",
      "Epoch 14/30\n",
      "67/67 [==============================] - 1s 16ms/step - loss: 1.4752 - f1_score_metric: 0.2242 - val_loss: 1.4843 - val_f1_score_metric: 0.2371\n",
      "Epoch 15/30\n",
      "67/67 [==============================] - 1s 12ms/step - loss: 1.4347 - f1_score_metric: 0.3003 - val_loss: 1.5141 - val_f1_score_metric: 0.2725\n",
      "Epoch 16/30\n",
      "67/67 [==============================] - 1s 11ms/step - loss: 1.4054 - f1_score_metric: 0.3527 - val_loss: 1.4604 - val_f1_score_metric: 0.3186\n",
      "Epoch 17/30\n",
      "67/67 [==============================] - 1s 12ms/step - loss: 1.3340 - f1_score_metric: 0.3716 - val_loss: 1.4883 - val_f1_score_metric: 0.2664\n",
      "Epoch 18/30\n",
      "67/67 [==============================] - 1s 12ms/step - loss: 1.2705 - f1_score_metric: 0.4001 - val_loss: 1.4381 - val_f1_score_metric: 0.3132\n",
      "Epoch 19/30\n",
      "67/67 [==============================] - 1s 12ms/step - loss: 1.2395 - f1_score_metric: 0.4449 - val_loss: 1.5441 - val_f1_score_metric: 0.2753\n",
      "Epoch 20/30\n",
      "67/67 [==============================] - 1s 11ms/step - loss: 1.2307 - f1_score_metric: 0.3888 - val_loss: 1.3914 - val_f1_score_metric: 0.3582\n",
      "Epoch 21/30\n",
      "67/67 [==============================] - 1s 11ms/step - loss: 1.1615 - f1_score_metric: 0.4682 - val_loss: 1.4210 - val_f1_score_metric: 0.3337\n",
      "Epoch 22/30\n",
      "67/67 [==============================] - 1s 13ms/step - loss: 1.1288 - f1_score_metric: 0.4930 - val_loss: 1.4367 - val_f1_score_metric: 0.3681\n",
      "Epoch 23/30\n",
      "67/67 [==============================] - 1s 11ms/step - loss: 1.0779 - f1_score_metric: 0.4925 - val_loss: 1.4344 - val_f1_score_metric: 0.4055\n",
      "Epoch 24/30\n",
      "67/67 [==============================] - 1s 12ms/step - loss: 1.0489 - f1_score_metric: 0.5438 - val_loss: 1.3969 - val_f1_score_metric: 0.4523\n",
      "Epoch 25/30\n",
      "67/67 [==============================] - 1s 12ms/step - loss: 0.9914 - f1_score_metric: 0.5401 - val_loss: 1.4139 - val_f1_score_metric: 0.3893\n",
      "Epoch 26/30\n",
      "67/67 [==============================] - 1s 12ms/step - loss: 0.9722 - f1_score_metric: 0.5524 - val_loss: 1.4432 - val_f1_score_metric: 0.3700\n",
      "Epoch 27/30\n",
      "67/67 [==============================] - 1s 17ms/step - loss: 0.9429 - f1_score_metric: 0.5468 - val_loss: 1.4403 - val_f1_score_metric: 0.4061\n",
      "Epoch 28/30\n",
      "67/67 [==============================] - 1s 22ms/step - loss: 0.8827 - f1_score_metric: 0.5978 - val_loss: 1.4848 - val_f1_score_metric: 0.3488\n",
      "Epoch 29/30\n",
      "67/67 [==============================] - 2s 28ms/step - loss: 0.8677 - f1_score_metric: 0.6082 - val_loss: 1.4753 - val_f1_score_metric: 0.3734\n",
      "Epoch 30/30\n",
      "67/67 [==============================] - 1s 17ms/step - loss: 0.8325 - f1_score_metric: 0.5973 - val_loss: 1.4438 - val_f1_score_metric: 0.3166\n"
     ]
    }
   ],
   "source": [
    "from tensorflow.keras.callbacks import ModelCheckpoint\n",
    "\n",
    "# Define a checkpoint callback with custom file name\n",
    "checkpoint_callback = ModelCheckpoint(filepath = \"myCNN_dropout.h5\", save_freq='epoch')\n",
    "\n",
    "# Train the model with the checkpoint callback\n",
    "history_mycnn_dropout = myCNN_dropout.fit(x_train, y_train, epochs=30, batch_size=128, validation_data=(x_val, y_val), callbacks=[checkpoint_callback])\n",
    "myCNN_dropout.save('/content/drive/My Drive/CNNs/myCNN_dropout.h5')"
   ]
  },
  {
   "cell_type": "markdown",
   "metadata": {
    "id": "ZQ5Vc0qCAP0-"
   },
   "source": [
    "**Data Augmentation**"
   ]
  },
  {
   "cell_type": "code",
   "execution_count": null,
   "metadata": {
    "colab": {
     "base_uri": "https://localhost:8080/"
    },
    "id": "bhCYO9MkagYv",
    "outputId": "ab356372-e62d-4a3f-e7eb-83383f586ae1"
   },
   "outputs": [
    {
     "name": "stdout",
     "output_type": "stream",
     "text": [
      "Epoch 1/30\n",
      "67/67 [==============================] - 5s 20ms/step - loss: 1.0182 - f1_score_metric: 0.5387 - val_loss: 1.4033 - val_f1_score_metric: 0.3310\n",
      "Epoch 2/30\n",
      "67/67 [==============================] - 1s 15ms/step - loss: 0.9370 - f1_score_metric: 0.6628 - val_loss: 1.3837 - val_f1_score_metric: 0.4100\n",
      "Epoch 3/30\n",
      "67/67 [==============================] - 1s 14ms/step - loss: 0.9135 - f1_score_metric: 0.5734 - val_loss: 1.4611 - val_f1_score_metric: 0.3443\n",
      "Epoch 4/30\n",
      "67/67 [==============================] - 1s 14ms/step - loss: 0.8582 - f1_score_metric: 0.6549 - val_loss: 1.4628 - val_f1_score_metric: 0.3443\n",
      "Epoch 5/30\n",
      "67/67 [==============================] - 1s 13ms/step - loss: 0.8546 - f1_score_metric: 0.6455 - val_loss: 1.4240 - val_f1_score_metric: 0.4682\n",
      "Epoch 6/30\n",
      "67/67 [==============================] - 1s 18ms/step - loss: 0.8046 - f1_score_metric: 0.6960 - val_loss: 1.4351 - val_f1_score_metric: 0.3977\n",
      "Epoch 7/30\n",
      "67/67 [==============================] - 1s 21ms/step - loss: 0.7913 - f1_score_metric: 0.6882 - val_loss: 1.4487 - val_f1_score_metric: 0.5046\n",
      "Epoch 8/30\n",
      "67/67 [==============================] - 1s 19ms/step - loss: 0.7391 - f1_score_metric: 0.6559 - val_loss: 1.5238 - val_f1_score_metric: 0.2945\n",
      "Epoch 9/30\n",
      "67/67 [==============================] - 1s 21ms/step - loss: 0.7048 - f1_score_metric: 0.6893 - val_loss: 1.5374 - val_f1_score_metric: 0.4434\n",
      "Epoch 10/30\n",
      "67/67 [==============================] - 1s 13ms/step - loss: 0.6770 - f1_score_metric: 0.7194 - val_loss: 1.7153 - val_f1_score_metric: 0.2462\n",
      "Epoch 11/30\n",
      "67/67 [==============================] - 1s 13ms/step - loss: 0.6741 - f1_score_metric: 0.7335 - val_loss: 1.5711 - val_f1_score_metric: 0.3889\n",
      "Epoch 12/30\n",
      "67/67 [==============================] - 1s 13ms/step - loss: 0.6357 - f1_score_metric: 0.7492 - val_loss: 1.7758 - val_f1_score_metric: 0.3827\n",
      "Epoch 13/30\n",
      "67/67 [==============================] - 1s 13ms/step - loss: 0.6559 - f1_score_metric: 0.7334 - val_loss: 1.6454 - val_f1_score_metric: 0.3297\n",
      "Epoch 14/30\n",
      "67/67 [==============================] - 1s 12ms/step - loss: 0.6090 - f1_score_metric: 0.7581 - val_loss: 1.5897 - val_f1_score_metric: 0.3825\n",
      "Epoch 15/30\n",
      "67/67 [==============================] - 1s 13ms/step - loss: 0.5532 - f1_score_metric: 0.7874 - val_loss: 1.7078 - val_f1_score_metric: 0.4686\n",
      "Epoch 16/30\n",
      "67/67 [==============================] - 1s 12ms/step - loss: 0.5309 - f1_score_metric: 0.7839 - val_loss: 1.7502 - val_f1_score_metric: 0.3107\n",
      "Epoch 17/30\n",
      "67/67 [==============================] - 1s 13ms/step - loss: 0.5528 - f1_score_metric: 0.7920 - val_loss: 1.8272 - val_f1_score_metric: 0.3511\n",
      "Epoch 18/30\n",
      "67/67 [==============================] - 1s 14ms/step - loss: 0.5162 - f1_score_metric: 0.8011 - val_loss: 1.7881 - val_f1_score_metric: 0.3194\n",
      "Epoch 19/30\n",
      "67/67 [==============================] - 1s 13ms/step - loss: 0.5089 - f1_score_metric: 0.8013 - val_loss: 1.8203 - val_f1_score_metric: 0.3918\n",
      "Epoch 20/30\n",
      "67/67 [==============================] - 1s 13ms/step - loss: 0.4975 - f1_score_metric: 0.7999 - val_loss: 1.8654 - val_f1_score_metric: 0.2724\n",
      "Epoch 21/30\n",
      "67/67 [==============================] - 1s 18ms/step - loss: 0.4655 - f1_score_metric: 0.8197 - val_loss: 2.0233 - val_f1_score_metric: 0.3325\n",
      "Epoch 22/30\n",
      "67/67 [==============================] - 1s 19ms/step - loss: 0.4485 - f1_score_metric: 0.8229 - val_loss: 1.9168 - val_f1_score_metric: 0.3554\n",
      "Epoch 23/30\n",
      "67/67 [==============================] - 1s 21ms/step - loss: 0.4283 - f1_score_metric: 0.7958 - val_loss: 2.0204 - val_f1_score_metric: 0.3718\n",
      "Epoch 24/30\n",
      "67/67 [==============================] - 1s 19ms/step - loss: 0.4149 - f1_score_metric: 0.8631 - val_loss: 1.8690 - val_f1_score_metric: 0.4469\n",
      "Epoch 25/30\n",
      "67/67 [==============================] - 1s 15ms/step - loss: 0.4055 - f1_score_metric: 0.8519 - val_loss: 1.9636 - val_f1_score_metric: 0.3916\n",
      "Epoch 26/30\n",
      "67/67 [==============================] - 1s 12ms/step - loss: 0.3980 - f1_score_metric: 0.8352 - val_loss: 2.0556 - val_f1_score_metric: 0.3023\n",
      "Epoch 27/30\n",
      "67/67 [==============================] - 1s 13ms/step - loss: 0.3687 - f1_score_metric: 0.8372 - val_loss: 2.1153 - val_f1_score_metric: 0.3312\n",
      "Epoch 28/30\n",
      "67/67 [==============================] - 1s 13ms/step - loss: 0.3699 - f1_score_metric: 0.8674 - val_loss: 2.0128 - val_f1_score_metric: 0.4528\n",
      "Epoch 29/30\n",
      "67/67 [==============================] - 1s 13ms/step - loss: 0.3499 - f1_score_metric: 0.8390 - val_loss: 2.1447 - val_f1_score_metric: 0.3369\n",
      "Epoch 30/30\n",
      "67/67 [==============================] - 1s 13ms/step - loss: 0.3286 - f1_score_metric: 0.8181 - val_loss: 2.1077 - val_f1_score_metric: 0.4017\n"
     ]
    }
   ],
   "source": [
    "# Define image dimensions\n",
    "img_height = 32\n",
    "img_width = 32\n",
    "\n",
    "# Define data augmentation\n",
    "data_augmentation = tf.keras.Sequential(\n",
    "  [\n",
    "    layers.experimental.preprocessing.RandomFlip(\"horizontal\",\n",
    "                                                 input_shape=(img_height,\n",
    "                                                              img_width,\n",
    "                                                              3)),\n",
    "    layers.experimental.preprocessing.RandomRotation(0.1),\n",
    "    layers.experimental.preprocessing.RandomZoom(0.1),\n",
    "  ]\n",
    ")\n",
    "\n",
    "# Combine data augmentation with model training\n",
    "myCNN_adam_with_augmentation = models.Sequential([\n",
    "    data_augmentation,\n",
    "    myCNN_adam\n",
    "])\n",
    "\n",
    "# Compile the model\n",
    "myCNN_adam_with_augmentation.compile(optimizer='adam', loss=tf.keras.losses.sparse_categorical_crossentropy, metrics=[f1_score_metric])\n",
    "\n",
    "# Train the model\n",
    "history_myCNN_adam_with_augmentation = myCNN_adam_with_augmentation.fit(x_train, y_train, epochs=30, batch_size=128, validation_data=(x_val, y_val), callbacks=[checkpoint_callback])"
   ]
  },
  {
   "cell_type": "markdown",
   "metadata": {
    "id": "INy-HWiO-eh0"
   },
   "source": [
    "**Βήμα 2**"
   ]
  },
  {
   "cell_type": "markdown",
   "metadata": {
    "id": "JKG1h3IwMwsb"
   },
   "source": [
    "**Dropout**"
   ]
  },
  {
   "cell_type": "code",
   "execution_count": null,
   "metadata": {
    "colab": {
     "base_uri": "https://localhost:8080/",
     "height": 449
    },
    "id": "hUH1OWFRbNbU",
    "outputId": "48205b99-7beb-449c-c147-d879682142c7"
   },
   "outputs": [
    {
     "data": {
      "image/png": "[encoded data removed]",
      "text/plain": [
       "<Figure size 640x480 with 1 Axes>"
      ]
     },
     "metadata": {},
     "output_type": "display_data"
    }
   ],
   "source": [
    "plot_f1(history_mycnn_dropout)\n",
    "plt.show()"
   ]
  },
  {
   "cell_type": "code",
   "execution_count": null,
   "metadata": {
    "colab": {
     "base_uri": "https://localhost:8080/"
    },
    "id": "GY6AdnEV-hro",
    "outputId": "310619fc-e31f-4b03-ab98-a4a965b42141"
   },
   "outputs": [
    {
     "name": "stdout",
     "output_type": "stream",
     "text": [
      "63/63 [==============================] - 0s 7ms/step - loss: 1.4270 - f1_score_metric: 0.3165\n"
     ]
    },
    {
     "data": {
      "text/plain": [
       "[1.4270390272140503, 0.3164776861667633]"
      ]
     },
     "execution_count": 71,
     "metadata": {},
     "output_type": "execute_result"
    }
   ],
   "source": [
    "myCNN_dropout.evaluate(x_test, y_test)"
   ]
  },
  {
   "cell_type": "markdown",
   "metadata": {
    "id": "026946ntM0hX"
   },
   "source": [
    "**Data Augmentation**"
   ]
  },
  {
   "cell_type": "code",
   "execution_count": null,
   "metadata": {
    "colab": {
     "base_uri": "https://localhost:8080/",
     "height": 449
    },
    "id": "X0TraC2rbNl6",
    "outputId": "7af1745c-e99a-438d-c20e-4f07bd78952d"
   },
   "outputs": [
    {
     "data": {
      "image/png": "[encoded data removed]",
      "text/plain": [
       "<Figure size 640x480 with 1 Axes>"
      ]
     },
     "metadata": {},
     "output_type": "display_data"
    }
   ],
   "source": [
    "plot_f1(history_myCNN_adam_with_augmentation)\n",
    "plt.show()"
   ]
  },
  {
   "cell_type": "code",
   "execution_count": null,
   "metadata": {
    "colab": {
     "base_uri": "https://localhost:8080/"
    },
    "id": "onCSVzzqbHht",
    "outputId": "792c58e8-1877-4ae7-99df-290f5478dfca"
   },
   "outputs": [
    {
     "name": "stdout",
     "output_type": "stream",
     "text": [
      "63/63 [==============================] - 0s 4ms/step - loss: 2.0917 - f1_score_metric: 0.2706\n"
     ]
    },
    {
     "data": {
      "text/plain": [
       "[2.0917186737060547, 0.2706349492073059]"
      ]
     },
     "execution_count": 72,
     "metadata": {},
     "output_type": "execute_result"
    }
   ],
   "source": [
    "myCNN_adam_with_augmentation.evaluate(x_test, y_test)"
   ]
  },
  {
   "cell_type": "markdown",
   "metadata": {
    "id": "zjlNhPovNA46"
   },
   "source": [
    "Σύμφωνα με τα παραπάνω αποτελέσματα φαίνεται το μοντέλο με το Dropout έχει καλύτερη επίδοση από το μοντέλο που χρησιμοποιήθηκε Data augmentation"
   ]
  },
  {
   "cell_type": "markdown",
   "metadata": {
    "id": "jTxKRNEHWfGs"
   },
   "source": [
    "## Ερώτημα 3\n",
    "---\n",
    "### Βήμα 1: Μεταφορά γνώσης\n",
    "Εφαρμόστε μεταφορά γνώσης (transfer learning) στο δικό σας μοντέλο (**MyCNN**), που αξιολογήσατε ως καλύτερο προς το F1 score στην αντιμετώπιση της υπερεκπαίδεσης.\n",
    "\n",
    "Για το transfer learning, επιλέξτε το [VGG19](https://www.tensorflow.org/api_docs/python/tf/keras/applications/vgg19)  και το [EfficientNetB0](https://www.tensorflow.org/api_docs/python/tf/keras/applications/efficientnet/EfficientNetB0) για μεταφορά μάθησης.\n",
    "\n",
    "α. \"Παγώστε\" τη συνελικτική βάση και εκπαιδεύστε την κεφαλή ταξινόμησης (classification head - σημαία trainable = False).  \n",
    "\n",
    "β. Εκπαιδέστε μόνο ένα ποσοστό των επιπέδων, το οποίο βρίσκεται προς την έξοδο του δικτύου. Οι σημαίες trainable εδώ θα πρέπει να οριστούν ανά επίπεδο.\n",
    "\n",
    "---\n",
    "### Βήμα 2: Αξιολόγηση\n",
    "\n",
    "Αξιολογήστε τα αποτελέσματά σας, βάσει του F1 score για το σύνολο επικύρωσης και για το σύνολο ελέγχου.\n",
    "\n",
    "---"
   ]
  },
  {
   "cell_type": "markdown",
   "metadata": {
    "id": "ZrzRimCXmDMq"
   },
   "source": [
    "**Βήμα 1**"
   ]
  },
  {
   "cell_type": "markdown",
   "metadata": {
    "id": "HgMzioZuqw85"
   },
   "source": [
    "**VGG 1α**"
   ]
  },
  {
   "cell_type": "code",
   "execution_count": null,
   "metadata": {
    "colab": {
     "base_uri": "https://localhost:8080/"
    },
    "id": "zGQZHBnCdXTN",
    "outputId": "1748b375-abe2-4776-a38a-23bcd7d44071"
   },
   "outputs": [
    {
     "name": "stdout",
     "output_type": "stream",
     "text": [
      "Model: \"sequential_21\"\n",
      "_________________________________________________________________\n",
      " Layer (type)                Output Shape              Param #   \n",
      "=================================================================\n",
      " vgg19 (Functional)          (None, 1, 1, 512)         20024384  \n",
      "                                                                 \n",
      " flatten_15 (Flatten)        (None, 512)               0         \n",
      "                                                                 \n",
      " dense_50 (Dense)            (None, 512)               262656    \n",
      "                                                                 \n",
      " dropout_33 (Dropout)        (None, 512)               0         \n",
      "                                                                 \n",
      " dense_51 (Dense)            (None, 128)               65664     \n",
      "                                                                 \n",
      " dropout_34 (Dropout)        (None, 128)               0         \n",
      "                                                                 \n",
      " dense_52 (Dense)            (None, 20)                2580      \n",
      "                                                                 \n",
      "=================================================================\n",
      "Total params: 20355284 (77.65 MB)\n",
      "Trainable params: 330900 (1.26 MB)\n",
      "Non-trainable params: 20024384 (76.39 MB)\n",
      "_________________________________________________________________\n"
     ]
    }
   ],
   "source": [
    "from tensorflow.keras.applications import VGG19, EfficientNetB0\n",
    "\n",
    "input_shape = (32,32,3)\n",
    "# Load VGG19 with pre-trained weights, excluding the top classification layer\n",
    "vgg_base = VGG19(weights='imagenet', include_top=False, input_shape=input_shape)\n",
    "\n",
    "# Freeze the convolutional base\n",
    "vgg_base.trainable = False\n",
    "\n",
    "# Create a classification head for VGG19\n",
    "vgg_model1 = models.Sequential()\n",
    "vgg_model1.add(vgg_base)\n",
    "vgg_model1.add(layers.Flatten())\n",
    "vgg_model1.add(layers.Dense(512, activation='relu'))\n",
    "vgg_model1.add(layers.Dropout(0.5))\n",
    "vgg_model1.add(layers.Dense(128, activation='relu'))\n",
    "vgg_model1.add(layers.Dropout(0.5))\n",
    "vgg_model1.add(layers.Dense(20, activation='softmax'))\n",
    "\n",
    "# Compile the model\n",
    "vgg_model1.compile(optimizer='adam', loss='sparse_categorical_crossentropy', metrics=[f1_score_metric])\n",
    "\n",
    "# Summary of VGG19 model\n",
    "vgg_model1.summary()"
   ]
  },
  {
   "cell_type": "code",
   "execution_count": null,
   "metadata": {
    "colab": {
     "base_uri": "https://localhost:8080/"
    },
    "id": "h5MI3ofbrIX6",
    "outputId": "843f5d34-160b-46f4-9454-30d3774ffc03"
   },
   "outputs": [
    {
     "name": "stdout",
     "output_type": "stream",
     "text": [
      "Epoch 1/30\n",
      "67/67 [==============================] - 3s 21ms/step - loss: 2.5796 - f1_score_metric: 0.2192 - val_loss: 1.9082 - val_f1_score_metric: 0.4893\n",
      "Epoch 2/30\n",
      "67/67 [==============================] - 1s 17ms/step - loss: 2.0241 - f1_score_metric: 0.4015 - val_loss: 1.6578 - val_f1_score_metric: 0.5283\n",
      "Epoch 3/30\n",
      "67/67 [==============================] - 1s 16ms/step - loss: 1.8302 - f1_score_metric: 0.4294 - val_loss: 1.5643 - val_f1_score_metric: 0.5260\n",
      "Epoch 4/30\n",
      "67/67 [==============================] - 1s 15ms/step - loss: 1.7208 - f1_score_metric: 0.4984 - val_loss: 1.4905 - val_f1_score_metric: 0.5483\n",
      "Epoch 5/30\n",
      "67/67 [==============================] - 1s 15ms/step - loss: 1.6462 - f1_score_metric: 0.4944 - val_loss: 1.4434 - val_f1_score_metric: 0.5695\n",
      "Epoch 6/30\n",
      "67/67 [==============================] - 1s 15ms/step - loss: 1.5805 - f1_score_metric: 0.4846 - val_loss: 1.4229 - val_f1_score_metric: 0.5908\n",
      "Epoch 7/30\n",
      "67/67 [==============================] - 1s 16ms/step - loss: 1.5345 - f1_score_metric: 0.4957 - val_loss: 1.3840 - val_f1_score_metric: 0.5744\n",
      "Epoch 8/30\n",
      "67/67 [==============================] - 1s 15ms/step - loss: 1.4911 - f1_score_metric: 0.5410 - val_loss: 1.3801 - val_f1_score_metric: 0.5798\n",
      "Epoch 9/30\n",
      "67/67 [==============================] - 2s 25ms/step - loss: 1.4333 - f1_score_metric: 0.5491 - val_loss: 1.3499 - val_f1_score_metric: 0.5539\n",
      "Epoch 10/30\n",
      "67/67 [==============================] - 1s 20ms/step - loss: 1.4088 - f1_score_metric: 0.5428 - val_loss: 1.3423 - val_f1_score_metric: 0.5325\n",
      "Epoch 11/30\n",
      "67/67 [==============================] - 1s 20ms/step - loss: 1.3897 - f1_score_metric: 0.5616 - val_loss: 1.3573 - val_f1_score_metric: 0.5849\n",
      "Epoch 12/30\n",
      "67/67 [==============================] - 1s 17ms/step - loss: 1.3601 - f1_score_metric: 0.5603 - val_loss: 1.3269 - val_f1_score_metric: 0.5618\n",
      "Epoch 13/30\n",
      "67/67 [==============================] - 1s 15ms/step - loss: 1.3251 - f1_score_metric: 0.5801 - val_loss: 1.3287 - val_f1_score_metric: 0.5791\n",
      "Epoch 14/30\n",
      "67/67 [==============================] - 1s 15ms/step - loss: 1.2957 - f1_score_metric: 0.5881 - val_loss: 1.3311 - val_f1_score_metric: 0.5680\n",
      "Epoch 15/30\n",
      "67/67 [==============================] - 1s 15ms/step - loss: 1.2653 - f1_score_metric: 0.5844 - val_loss: 1.2925 - val_f1_score_metric: 0.5667\n",
      "Epoch 16/30\n",
      "67/67 [==============================] - 1s 15ms/step - loss: 1.2481 - f1_score_metric: 0.5793 - val_loss: 1.3099 - val_f1_score_metric: 0.5747\n",
      "Epoch 17/30\n",
      "67/67 [==============================] - 1s 15ms/step - loss: 1.2341 - f1_score_metric: 0.6389 - val_loss: 1.3099 - val_f1_score_metric: 0.5713\n",
      "Epoch 18/30\n",
      "67/67 [==============================] - 2s 24ms/step - loss: 1.2032 - f1_score_metric: 0.6274 - val_loss: 1.3047 - val_f1_score_metric: 0.5946\n",
      "Epoch 19/30\n",
      "67/67 [==============================] - 1s 15ms/step - loss: 1.1840 - f1_score_metric: 0.6392 - val_loss: 1.3051 - val_f1_score_metric: 0.5671\n",
      "Epoch 20/30\n",
      "67/67 [==============================] - 1s 16ms/step - loss: 1.1717 - f1_score_metric: 0.6343 - val_loss: 1.2885 - val_f1_score_metric: 0.5733\n",
      "Epoch 21/30\n",
      "67/67 [==============================] - 1s 18ms/step - loss: 1.1437 - f1_score_metric: 0.6326 - val_loss: 1.2928 - val_f1_score_metric: 0.5627\n",
      "Epoch 22/30\n",
      "67/67 [==============================] - 1s 20ms/step - loss: 1.1373 - f1_score_metric: 0.6177 - val_loss: 1.2950 - val_f1_score_metric: 0.5995\n",
      "Epoch 23/30\n",
      "67/67 [==============================] - 1s 20ms/step - loss: 1.0962 - f1_score_metric: 0.6523 - val_loss: 1.2945 - val_f1_score_metric: 0.5709\n",
      "Epoch 24/30\n",
      "67/67 [==============================] - 1s 17ms/step - loss: 1.0832 - f1_score_metric: 0.6735 - val_loss: 1.3053 - val_f1_score_metric: 0.5757\n",
      "Epoch 25/30\n",
      "67/67 [==============================] - 1s 15ms/step - loss: 1.0609 - f1_score_metric: 0.6536 - val_loss: 1.2865 - val_f1_score_metric: 0.5783\n",
      "Epoch 26/30\n",
      "67/67 [==============================] - 1s 15ms/step - loss: 1.0509 - f1_score_metric: 0.6692 - val_loss: 1.2935 - val_f1_score_metric: 0.6153\n",
      "Epoch 27/30\n",
      "67/67 [==============================] - 1s 22ms/step - loss: 1.0375 - f1_score_metric: 0.6476 - val_loss: 1.3012 - val_f1_score_metric: 0.6320\n",
      "Epoch 28/30\n",
      "67/67 [==============================] - 1s 16ms/step - loss: 1.0235 - f1_score_metric: 0.6837 - val_loss: 1.2983 - val_f1_score_metric: 0.5644\n",
      "Epoch 29/30\n",
      "67/67 [==============================] - 1s 16ms/step - loss: 0.9911 - f1_score_metric: 0.6976 - val_loss: 1.3011 - val_f1_score_metric: 0.5985\n",
      "Epoch 30/30\n",
      "67/67 [==============================] - 1s 15ms/step - loss: 0.9845 - f1_score_metric: 0.6848 - val_loss: 1.2844 - val_f1_score_metric: 0.6122\n"
     ]
    }
   ],
   "source": [
    "# Define a checkpoint callback with custom file name\n",
    "checkpoint_callback = ModelCheckpoint(filepath = \"vgg_model1.h5\", save_freq='epoch')\n",
    "\n",
    "# Train the model with the checkpoint callback\n",
    "history_vgg_model1 =vgg_model1.fit(x_train, y_train, epochs=30, batch_size=128, validation_data=(x_val, y_val), callbacks=[checkpoint_callback])\n",
    "vgg_model1.save('/content/drive/My Drive/CNNs/vgg_model1.h5')"
   ]
  },
  {
   "cell_type": "markdown",
   "metadata": {
    "id": "95c8deAErBig"
   },
   "source": [
    "**EfficientNetB0 1α**"
   ]
  },
  {
   "cell_type": "code",
   "execution_count": null,
   "metadata": {
    "colab": {
     "base_uri": "https://localhost:8080/"
    },
    "id": "wFcoWWCiqtSc",
    "outputId": "093878b3-f14d-47ee-f3dd-20c1365a20b0"
   },
   "outputs": [
    {
     "name": "stdout",
     "output_type": "stream",
     "text": [
      "Model: \"sequential_15\"\n",
      "_________________________________________________________________\n",
      " Layer (type)                Output Shape              Param #   \n",
      "=================================================================\n",
      " efficientnetb0 (Functional  (None, 1, 1, 1280)        4049571   \n",
      " )                                                               \n",
      "                                                                 \n",
      " flatten_9 (Flatten)         (None, 1280)              0         \n",
      "                                                                 \n",
      " dense_33 (Dense)            (None, 512)               655872    \n",
      "                                                                 \n",
      " dropout_22 (Dropout)        (None, 512)               0         \n",
      "                                                                 \n",
      " dense_34 (Dense)            (None, 128)               65664     \n",
      "                                                                 \n",
      " dropout_23 (Dropout)        (None, 128)               0         \n",
      "                                                                 \n",
      " dense_35 (Dense)            (None, 20)                2580      \n",
      "                                                                 \n",
      "=================================================================\n",
      "Total params: 4773687 (18.21 MB)\n",
      "Trainable params: 724116 (2.76 MB)\n",
      "Non-trainable params: 4049571 (15.45 MB)\n",
      "_________________________________________________________________\n"
     ]
    }
   ],
   "source": [
    "# Load EfficientNetB0 with pre-trained weights, excluding the top classification layer\n",
    "efficientnet_base = EfficientNetB0(weights='imagenet', include_top=False, input_shape=(32,32,3))\n",
    "\n",
    "# Freeze the convolutional base\n",
    "efficientnet_base.trainable = False\n",
    "\n",
    "# Create a classification head for EfficientNetB0\n",
    "efficientnet_model1 = models.Sequential()\n",
    "efficientnet_model1.add(efficientnet_base)\n",
    "efficientnet_model1.add(layers.Flatten())\n",
    "efficientnet_model1.add(layers.Dense(512, activation='relu'))\n",
    "efficientnet_model1.add(layers.Dropout(0.5))\n",
    "efficientnet_model1.add(layers.Dense(128, activation='relu'))\n",
    "efficientnet_model1.add(layers.Dropout(0.5))\n",
    "efficientnet_model1.add(layers.Dense(20, activation='softmax'))\n",
    "\n",
    "# Compile the model\n",
    "efficientnet_model1.compile(optimizer='adam', loss=tf.keras.losses.sparse_categorical_crossentropy, metrics=[f1_score_metric])\n",
    "\n",
    "# Summary of EfficientNetB0 model\n",
    "efficientnet_model1.summary()"
   ]
  },
  {
   "cell_type": "code",
   "execution_count": null,
   "metadata": {
    "colab": {
     "base_uri": "https://localhost:8080/"
    },
    "id": "0nvynj0rkT_G",
    "outputId": "751b38a2-f39a-4d36-cdca-98088526b611"
   },
   "outputs": [
    {
     "name": "stdout",
     "output_type": "stream",
     "text": [
      "Epoch 1/30\n",
      "67/67 [==============================] - 12s 47ms/step - loss: 3.0309 - f1_score_metric: 0.0313 - val_loss: 2.9967 - val_f1_score_metric: 0.0000e+00\n",
      "Epoch 2/30\n",
      "67/67 [==============================] - 1s 20ms/step - loss: 3.0024 - f1_score_metric: 0.0589 - val_loss: 2.9970 - val_f1_score_metric: 0.0000e+00\n",
      "Epoch 3/30\n",
      "67/67 [==============================] - 1s 20ms/step - loss: 2.9978 - f1_score_metric: 0.0069 - val_loss: 2.9962 - val_f1_score_metric: 0.0000e+00\n",
      "Epoch 4/30\n",
      "67/67 [==============================] - 1s 20ms/step - loss: 2.9959 - f1_score_metric: 0.0000e+00 - val_loss: 2.9966 - val_f1_score_metric: 0.0000e+00\n",
      "Epoch 5/30\n",
      "67/67 [==============================] - 1s 20ms/step - loss: 2.9958 - f1_score_metric: 0.0000e+00 - val_loss: 2.9966 - val_f1_score_metric: 0.0000e+00\n",
      "Epoch 6/30\n",
      "67/67 [==============================] - 2s 25ms/step - loss: 2.9958 - f1_score_metric: 0.0000e+00 - val_loss: 2.9969 - val_f1_score_metric: 0.0000e+00\n",
      "Epoch 7/30\n",
      "67/67 [==============================] - 2s 27ms/step - loss: 2.9958 - f1_score_metric: 0.0000e+00 - val_loss: 2.9972 - val_f1_score_metric: 0.0000e+00\n",
      "Epoch 8/30\n",
      "67/67 [==============================] - 2s 26ms/step - loss: 2.9958 - f1_score_metric: 0.0000e+00 - val_loss: 2.9973 - val_f1_score_metric: 0.0000e+00\n",
      "Epoch 9/30\n",
      "67/67 [==============================] - 1s 20ms/step - loss: 2.9957 - f1_score_metric: 0.0000e+00 - val_loss: 2.9974 - val_f1_score_metric: 0.0000e+00\n",
      "Epoch 10/30\n",
      "67/67 [==============================] - 1s 20ms/step - loss: 2.9957 - f1_score_metric: 0.0000e+00 - val_loss: 2.9976 - val_f1_score_metric: 0.0000e+00\n",
      "Epoch 11/30\n",
      "67/67 [==============================] - 1s 20ms/step - loss: 2.9957 - f1_score_metric: 0.0000e+00 - val_loss: 2.9977 - val_f1_score_metric: 0.0000e+00\n",
      "Epoch 12/30\n",
      "67/67 [==============================] - 1s 20ms/step - loss: 2.9957 - f1_score_metric: 0.0000e+00 - val_loss: 2.9977 - val_f1_score_metric: 0.0000e+00\n",
      "Epoch 13/30\n",
      "67/67 [==============================] - 1s 20ms/step - loss: 2.9957 - f1_score_metric: 0.0000e+00 - val_loss: 2.9977 - val_f1_score_metric: 0.0000e+00\n",
      "Epoch 14/30\n",
      "67/67 [==============================] - 2s 34ms/step - loss: 2.9956 - f1_score_metric: 0.0000e+00 - val_loss: 2.9978 - val_f1_score_metric: 0.0000e+00\n",
      "Epoch 15/30\n",
      "67/67 [==============================] - 2s 27ms/step - loss: 2.9957 - f1_score_metric: 0.0000e+00 - val_loss: 2.9978 - val_f1_score_metric: 0.0000e+00\n",
      "Epoch 16/30\n",
      "67/67 [==============================] - 2s 30ms/step - loss: 2.9957 - f1_score_metric: 0.0000e+00 - val_loss: 2.9980 - val_f1_score_metric: 0.0000e+00\n",
      "Epoch 17/30\n",
      "67/67 [==============================] - 2s 22ms/step - loss: 2.9957 - f1_score_metric: 0.0000e+00 - val_loss: 2.9979 - val_f1_score_metric: 0.0000e+00\n",
      "Epoch 18/30\n",
      "67/67 [==============================] - 1s 20ms/step - loss: 2.9957 - f1_score_metric: 0.0000e+00 - val_loss: 2.9979 - val_f1_score_metric: 0.0000e+00\n",
      "Epoch 19/30\n",
      "67/67 [==============================] - 1s 20ms/step - loss: 2.9957 - f1_score_metric: 0.0000e+00 - val_loss: 2.9980 - val_f1_score_metric: 0.0000e+00\n",
      "Epoch 20/30\n",
      "67/67 [==============================] - 1s 20ms/step - loss: 2.9957 - f1_score_metric: 0.0000e+00 - val_loss: 2.9980 - val_f1_score_metric: 0.0000e+00\n",
      "Epoch 21/30\n",
      "67/67 [==============================] - 1s 20ms/step - loss: 2.9958 - f1_score_metric: 0.0000e+00 - val_loss: 2.9980 - val_f1_score_metric: 0.0000e+00\n",
      "Epoch 22/30\n",
      "67/67 [==============================] - 1s 20ms/step - loss: 2.9957 - f1_score_metric: 0.0000e+00 - val_loss: 2.9980 - val_f1_score_metric: 0.0000e+00\n",
      "Epoch 23/30\n",
      "67/67 [==============================] - 1s 20ms/step - loss: 2.9957 - f1_score_metric: 0.0000e+00 - val_loss: 2.9980 - val_f1_score_metric: 0.0000e+00\n",
      "Epoch 24/30\n",
      "67/67 [==============================] - 2s 24ms/step - loss: 2.9957 - f1_score_metric: 0.0000e+00 - val_loss: 2.9981 - val_f1_score_metric: 0.0000e+00\n",
      "Epoch 25/30\n",
      "67/67 [==============================] - 2s 28ms/step - loss: 2.9957 - f1_score_metric: 0.0000e+00 - val_loss: 2.9981 - val_f1_score_metric: 0.0000e+00\n",
      "Epoch 26/30\n",
      "67/67 [==============================] - 2s 25ms/step - loss: 2.9957 - f1_score_metric: 0.0000e+00 - val_loss: 2.9981 - val_f1_score_metric: 0.0000e+00\n",
      "Epoch 27/30\n",
      "67/67 [==============================] - 1s 20ms/step - loss: 2.9957 - f1_score_metric: 0.0000e+00 - val_loss: 2.9981 - val_f1_score_metric: 0.0000e+00\n",
      "Epoch 28/30\n",
      "67/67 [==============================] - 1s 21ms/step - loss: 2.9957 - f1_score_metric: 0.0000e+00 - val_loss: 2.9982 - val_f1_score_metric: 0.0000e+00\n",
      "Epoch 29/30\n",
      "67/67 [==============================] - 2s 23ms/step - loss: 2.9957 - f1_score_metric: 0.0000e+00 - val_loss: 2.9980 - val_f1_score_metric: 0.0000e+00\n",
      "Epoch 30/30\n",
      "67/67 [==============================] - 2s 28ms/step - loss: 2.9957 - f1_score_metric: 0.0000e+00 - val_loss: 2.9980 - val_f1_score_metric: 0.0000e+00\n"
     ]
    }
   ],
   "source": [
    "# Define a checkpoint callback with custom file name\n",
    "from tensorflow.keras.callbacks import ModelCheckpoint\n",
    "\n",
    "checkpoint_callback = ModelCheckpoint(filepath = \"efficientnet_model1.h5\", save_freq='epoch')\n",
    "\n",
    "# Train the model with the checkpoint callback\n",
    "history_efficientnet_model1 = efficientnet_model1.fit(x_train, y_train, epochs=30, batch_size=128, validation_data=(x_val, y_val), callbacks=[checkpoint_callback])\n",
    "efficientnet_model1.save('/content/drive/My Drive/CNNs/efficientnet_model1.h5')"
   ]
  },
  {
   "cell_type": "markdown",
   "metadata": {
    "id": "-CIaGZW0tpS9"
   },
   "source": [
    "Το μηδενικό f1 score δείχνει ότι μπορεί να έχουμε κάποιο λάθος στον κώδικα"
   ]
  },
  {
   "cell_type": "markdown",
   "metadata": {
    "id": "ok1H8q-FsV5z"
   },
   "source": [
    "**VGG 1β**"
   ]
  },
  {
   "cell_type": "code",
   "execution_count": null,
   "metadata": {
    "colab": {
     "base_uri": "https://localhost:8080/"
    },
    "id": "TdEJlsL7sUjX",
    "outputId": "41d09f97-9d02-43fe-829e-ad926fdd874f"
   },
   "outputs": [
    {
     "name": "stdout",
     "output_type": "stream",
     "text": [
      "Model: \"sequential_19\"\n",
      "_________________________________________________________________\n",
      " Layer (type)                Output Shape              Param #   \n",
      "=================================================================\n",
      " vgg19 (Functional)          (None, 1, 1, 512)         20024384  \n",
      "                                                                 \n",
      " flatten_13 (Flatten)        (None, 512)               0         \n",
      "                                                                 \n",
      " dense_44 (Dense)            (None, 512)               262656    \n",
      "                                                                 \n",
      " dropout_29 (Dropout)        (None, 512)               0         \n",
      "                                                                 \n",
      " dense_45 (Dense)            (None, 128)               65664     \n",
      "                                                                 \n",
      " dropout_30 (Dropout)        (None, 128)               0         \n",
      "                                                                 \n",
      " dense_46 (Dense)            (None, 20)                2580      \n",
      "                                                                 \n",
      "=================================================================\n",
      "Total params: 20355284 (77.65 MB)\n",
      "Trainable params: 330900 (1.26 MB)\n",
      "Non-trainable params: 20024384 (76.39 MB)\n",
      "_________________________________________________________________\n"
     ]
    }
   ],
   "source": [
    "# Create a classification head for VGG19\n",
    "vgg_model2 = models.Sequential()\n",
    "vgg_model2.add(vgg_base)\n",
    "vgg_model2.add(layers.Flatten())\n",
    "vgg_model2.add(layers.Dense(512, activation='relu'))\n",
    "vgg_model2.add(layers.Dropout(0.5))\n",
    "vgg_model2.add(layers.Dense(128, activation='relu', trainable = False))\n",
    "vgg_model2.add(layers.Dropout(0.5))\n",
    "vgg_model2.add(layers.Dense(20, activation='softmax'))\n",
    "\n",
    "\n",
    "vgg_model2.compile(optimizer='adam', loss='sparse_categorical_crossentropy', metrics=[f1_score_metric])\n",
    "\n",
    "# Summary of VGG19 model after setting trainable flags\n",
    "vgg_model2.summary()\n"
   ]
  },
  {
   "cell_type": "code",
   "execution_count": null,
   "metadata": {
    "colab": {
     "base_uri": "https://localhost:8080/"
    },
    "id": "rJ0PlpWasUpf",
    "outputId": "09e76b29-d115-41bf-a1ef-b144c2920803"
   },
   "outputs": [
    {
     "name": "stdout",
     "output_type": "stream",
     "text": [
      "Epoch 1/30\n",
      "65/67 [============================>.] - ETA: 0s - loss: 2.6220 - f1_score_metric: 0.2410"
     ]
    },
    {
     "name": "stderr",
     "output_type": "stream",
     "text": [
      "/usr/local/lib/python3.10/dist-packages/keras/src/engine/training.py:3103: UserWarning: You are saving your model as an HDF5 file via `model.save()`. This file format is considered legacy. We recommend using instead the native Keras format, e.g. `model.save('my_model.keras')`.\n",
      "  saving_api.save_model(\n"
     ]
    },
    {
     "name": "stdout",
     "output_type": "stream",
     "text": [
      "\b\b\b\b\b\b\b\b\b\b\b\b\b\b\b\b\b\b\b\b\b\b\b\b\b\b\b\b\b\b\b\b\b\b\b\b\b\b\b\b\b\b\b\b\b\b\b\b\b\b\b\b\b\b\b\b\b\b\b\b\b\b\b\b\b\b\b\b\b\b\b\b\b\b\b\b\b\b\b\b\b\b\b\b\b\b\b\b\b\r",
      "67/67 [==============================] - 3s 22ms/step - loss: 2.6098 - f1_score_metric: 0.2481 - val_loss: 1.9454 - val_f1_score_metric: 0.4225\n",
      "Epoch 2/30\n",
      "67/67 [==============================] - 1s 16ms/step - loss: 2.0274 - f1_score_metric: 0.4229 - val_loss: 1.6627 - val_f1_score_metric: 0.5002\n",
      "Epoch 3/30\n",
      "67/67 [==============================] - 1s 15ms/step - loss: 1.8292 - f1_score_metric: 0.4094 - val_loss: 1.5586 - val_f1_score_metric: 0.4584\n",
      "Epoch 4/30\n",
      "67/67 [==============================] - 1s 18ms/step - loss: 1.7182 - f1_score_metric: 0.4377 - val_loss: 1.4975 - val_f1_score_metric: 0.5346\n",
      "Epoch 5/30\n",
      "67/67 [==============================] - 1s 19ms/step - loss: 1.6535 - f1_score_metric: 0.4326 - val_loss: 1.4521 - val_f1_score_metric: 0.5351\n",
      "Epoch 6/30\n",
      "67/67 [==============================] - 1s 20ms/step - loss: 1.5821 - f1_score_metric: 0.4820 - val_loss: 1.4118 - val_f1_score_metric: 0.5549\n",
      "Epoch 7/30\n",
      "67/67 [==============================] - 1s 18ms/step - loss: 1.5468 - f1_score_metric: 0.4700 - val_loss: 1.3938 - val_f1_score_metric: 0.5653\n",
      "Epoch 8/30\n",
      "67/67 [==============================] - 1s 16ms/step - loss: 1.4841 - f1_score_metric: 0.5151 - val_loss: 1.3731 - val_f1_score_metric: 0.5611\n",
      "Epoch 9/30\n",
      "67/67 [==============================] - 1s 16ms/step - loss: 1.4452 - f1_score_metric: 0.5564 - val_loss: 1.3578 - val_f1_score_metric: 0.5336\n",
      "Epoch 10/30\n",
      "67/67 [==============================] - 2s 32ms/step - loss: 1.4186 - f1_score_metric: 0.5487 - val_loss: 1.3628 - val_f1_score_metric: 0.5803\n",
      "Epoch 11/30\n",
      "67/67 [==============================] - 1s 22ms/step - loss: 1.3793 - f1_score_metric: 0.5662 - val_loss: 1.3389 - val_f1_score_metric: 0.5618\n",
      "Epoch 12/30\n",
      "67/67 [==============================] - 1s 22ms/step - loss: 1.3497 - f1_score_metric: 0.5654 - val_loss: 1.3252 - val_f1_score_metric: 0.5965\n",
      "Epoch 13/30\n",
      "67/67 [==============================] - 2s 25ms/step - loss: 1.3249 - f1_score_metric: 0.5950 - val_loss: 1.3081 - val_f1_score_metric: 0.5788\n",
      "Epoch 14/30\n",
      "67/67 [==============================] - 2s 34ms/step - loss: 1.3033 - f1_score_metric: 0.5819 - val_loss: 1.3181 - val_f1_score_metric: 0.5402\n",
      "Epoch 15/30\n",
      "67/67 [==============================] - 2s 28ms/step - loss: 1.2829 - f1_score_metric: 0.6235 - val_loss: 1.3121 - val_f1_score_metric: 0.5688\n",
      "Epoch 16/30\n",
      "67/67 [==============================] - 2s 29ms/step - loss: 1.2500 - f1_score_metric: 0.6192 - val_loss: 1.2884 - val_f1_score_metric: 0.5854\n",
      "Epoch 17/30\n",
      "67/67 [==============================] - 1s 19ms/step - loss: 1.2406 - f1_score_metric: 0.5681 - val_loss: 1.2834 - val_f1_score_metric: 0.5512\n",
      "Epoch 18/30\n",
      "67/67 [==============================] - 2s 26ms/step - loss: 1.2185 - f1_score_metric: 0.5598 - val_loss: 1.2926 - val_f1_score_metric: 0.6027\n",
      "Epoch 19/30\n",
      "67/67 [==============================] - 1s 18ms/step - loss: 1.1900 - f1_score_metric: 0.6279 - val_loss: 1.3049 - val_f1_score_metric: 0.5937\n",
      "Epoch 20/30\n",
      "67/67 [==============================] - 1s 20ms/step - loss: 1.1686 - f1_score_metric: 0.6292 - val_loss: 1.2847 - val_f1_score_metric: 0.6026\n",
      "Epoch 21/30\n",
      "67/67 [==============================] - 1s 21ms/step - loss: 1.1260 - f1_score_metric: 0.6600 - val_loss: 1.2898 - val_f1_score_metric: 0.5837\n",
      "Epoch 22/30\n",
      "67/67 [==============================] - 2s 30ms/step - loss: 1.1305 - f1_score_metric: 0.6397 - val_loss: 1.2917 - val_f1_score_metric: 0.6021\n",
      "Epoch 23/30\n",
      "67/67 [==============================] - 1s 21ms/step - loss: 1.1014 - f1_score_metric: 0.6586 - val_loss: 1.2847 - val_f1_score_metric: 0.5829\n",
      "Epoch 24/30\n",
      "67/67 [==============================] - 1s 21ms/step - loss: 1.0850 - f1_score_metric: 0.6626 - val_loss: 1.2866 - val_f1_score_metric: 0.5786\n",
      "Epoch 25/30\n",
      "67/67 [==============================] - 1s 21ms/step - loss: 1.0715 - f1_score_metric: 0.6507 - val_loss: 1.2848 - val_f1_score_metric: 0.5695\n",
      "Epoch 26/30\n",
      "67/67 [==============================] - 1s 17ms/step - loss: 1.0626 - f1_score_metric: 0.6477 - val_loss: 1.3151 - val_f1_score_metric: 0.5828\n",
      "Epoch 27/30\n",
      "67/67 [==============================] - 2s 25ms/step - loss: 1.0236 - f1_score_metric: 0.6759 - val_loss: 1.3118 - val_f1_score_metric: 0.6166\n",
      "Epoch 28/30\n",
      "67/67 [==============================] - 1s 15ms/step - loss: 1.0218 - f1_score_metric: 0.6646 - val_loss: 1.2903 - val_f1_score_metric: 0.5866\n",
      "Epoch 29/30\n",
      "67/67 [==============================] - 1s 16ms/step - loss: 0.9925 - f1_score_metric: 0.6954 - val_loss: 1.2916 - val_f1_score_metric: 0.5919\n",
      "Epoch 30/30\n",
      "67/67 [==============================] - 1s 16ms/step - loss: 0.9778 - f1_score_metric: 0.7228 - val_loss: 1.3161 - val_f1_score_metric: 0.5809\n"
     ]
    }
   ],
   "source": [
    "w  = vgg_model1.layers[-3].get_weights()\n",
    "vgg_model2.layers[-3].set_weights(w)\n",
    "\n",
    "# Define a checkpoint callback with custom file name\n",
    "checkpoint_callback = ModelCheckpoint(filepath = \"vgg_model2.h5\", save_freq='epoch')\n",
    "\n",
    "# Train the model with the checkpoint callback\n",
    "history_vgg_model2 =vgg_model2.fit(x_train, y_train, epochs=30, batch_size=128, validation_data=(x_val, y_val), callbacks=[checkpoint_callback])\n",
    "vgg_model2.save('/content/drive/My Drive/CNNs/vgg_model2.h5')"
   ]
  },
  {
   "cell_type": "markdown",
   "metadata": {
    "id": "WUBBT_BSsaKw"
   },
   "source": [
    "**EfficientNetB0 1β**"
   ]
  },
  {
   "cell_type": "code",
   "execution_count": null,
   "metadata": {
    "colab": {
     "base_uri": "https://localhost:8080/"
    },
    "id": "a4RQ-MWHsUv-",
    "outputId": "9db98b4d-fd9a-4857-b152-e564a79d5021"
   },
   "outputs": [
    {
     "name": "stdout",
     "output_type": "stream",
     "text": [
      "Model: \"sequential_20\"\n",
      "_________________________________________________________________\n",
      " Layer (type)                Output Shape              Param #   \n",
      "=================================================================\n",
      " efficientnetb0 (Functional  (None, 1, 1, 1280)        4049571   \n",
      " )                                                               \n",
      "                                                                 \n",
      " flatten_14 (Flatten)        (None, 1280)              0         \n",
      "                                                                 \n",
      " dense_47 (Dense)            (None, 512)               655872    \n",
      "                                                                 \n",
      " dropout_31 (Dropout)        (None, 512)               0         \n",
      "                                                                 \n",
      " dense_48 (Dense)            (None, 128)               65664     \n",
      "                                                                 \n",
      " dropout_32 (Dropout)        (None, 128)               0         \n",
      "                                                                 \n",
      " dense_49 (Dense)            (None, 20)                2580      \n",
      "                                                                 \n",
      "=================================================================\n",
      "Total params: 4773687 (18.21 MB)\n",
      "Trainable params: 724116 (2.76 MB)\n",
      "Non-trainable params: 4049571 (15.45 MB)\n",
      "_________________________________________________________________\n"
     ]
    }
   ],
   "source": [
    "# Create a classification head for EfficientNetB0\n",
    "efficientnet_model2 = models.Sequential()\n",
    "efficientnet_model2.add(efficientnet_base)\n",
    "efficientnet_model2.add(layers.Flatten())\n",
    "efficientnet_model2.add(layers.Dense(512, activation='relu'))\n",
    "efficientnet_model2.add(layers.Dropout(0.5))\n",
    "efficientnet_model2.add(layers.Dense(128, activation='relu',trainable = False))\n",
    "efficientnet_model2.add(layers.Dropout(0.5))\n",
    "efficientnet_model2.add(layers.Dense(20, activation='softmax'))\n",
    "\n",
    "\n",
    "\n",
    "# Compile the model\n",
    "efficientnet_model2.compile(optimizer='adam', loss='sparse_categorical_crossentropy', metrics=[f1_score_metric])\n",
    "\n",
    "# Summary of EfficientNetB0 model after setting trainable flags\n",
    "efficientnet_model2.summary()\n"
   ]
  },
  {
   "cell_type": "code",
   "execution_count": null,
   "metadata": {
    "colab": {
     "base_uri": "https://localhost:8080/"
    },
    "id": "PtGO7KcUsU2p",
    "outputId": "eb9197b6-a90a-4db3-cc36-21402fd57d4a"
   },
   "outputs": [
    {
     "name": "stdout",
     "output_type": "stream",
     "text": [
      "Epoch 1/30\n",
      "67/67 [==============================] - ETA: 0s - loss: 2.9956 - f1_score_metric: 0.0000e+00"
     ]
    },
    {
     "name": "stderr",
     "output_type": "stream",
     "text": [
      "/usr/local/lib/python3.10/dist-packages/keras/src/engine/training.py:3103: UserWarning: You are saving your model as an HDF5 file via `model.save()`. This file format is considered legacy. We recommend using instead the native Keras format, e.g. `model.save('my_model.keras')`.\n",
      "  saving_api.save_model(\n"
     ]
    },
    {
     "name": "stdout",
     "output_type": "stream",
     "text": [
      "\b\b\b\b\b\b\b\b\b\b\b\b\b\b\b\b\b\b\b\b\b\b\b\b\b\b\b\b\b\b\b\b\b\b\b\b\b\b\b\b\b\b\b\b\b\b\b\b\b\b\b\b\b\b\b\b\b\b\b\b\b\b\b\b\b\b\b\b\b\b\b\b\b\b\b\b\b\b\b\b\b\b\b\b\b\b\b\b\b\b\b\b\b\r",
      "67/67 [==============================] - 2s 30ms/step - loss: 2.9956 - f1_score_metric: 0.0000e+00 - val_loss: 2.9982 - val_f1_score_metric: 0.0000e+00\n",
      "Epoch 2/30\n",
      "67/67 [==============================] - 2s 24ms/step - loss: 2.9957 - f1_score_metric: 0.0000e+00 - val_loss: 2.9981 - val_f1_score_metric: 0.0000e+00\n",
      "Epoch 3/30\n",
      "67/67 [==============================] - 1s 20ms/step - loss: 2.9956 - f1_score_metric: 0.0000e+00 - val_loss: 2.9982 - val_f1_score_metric: 0.0000e+00\n",
      "Epoch 4/30\n",
      "67/67 [==============================] - 1s 20ms/step - loss: 2.9957 - f1_score_metric: 0.0000e+00 - val_loss: 2.9981 - val_f1_score_metric: 0.0000e+00\n",
      "Epoch 5/30\n",
      "67/67 [==============================] - 1s 20ms/step - loss: 2.9957 - f1_score_metric: 0.0000e+00 - val_loss: 2.9981 - val_f1_score_metric: 0.0000e+00\n",
      "Epoch 6/30\n",
      "67/67 [==============================] - 1s 20ms/step - loss: 2.9957 - f1_score_metric: 0.0000e+00 - val_loss: 2.9981 - val_f1_score_metric: 0.0000e+00\n",
      "Epoch 7/30\n",
      "67/67 [==============================] - 1s 20ms/step - loss: 2.9957 - f1_score_metric: 0.0000e+00 - val_loss: 2.9981 - val_f1_score_metric: 0.0000e+00\n",
      "Epoch 8/30\n",
      "67/67 [==============================] - 1s 21ms/step - loss: 2.9957 - f1_score_metric: 0.0000e+00 - val_loss: 2.9981 - val_f1_score_metric: 0.0000e+00\n",
      "Epoch 9/30\n",
      "67/67 [==============================] - 1s 21ms/step - loss: 2.9957 - f1_score_metric: 0.0000e+00 - val_loss: 2.9980 - val_f1_score_metric: 0.0000e+00\n",
      "Epoch 10/30\n",
      "67/67 [==============================] - 2s 27ms/step - loss: 2.9957 - f1_score_metric: 0.0000e+00 - val_loss: 2.9981 - val_f1_score_metric: 0.0000e+00\n",
      "Epoch 11/30\n",
      "67/67 [==============================] - 2s 29ms/step - loss: 2.9957 - f1_score_metric: 0.0000e+00 - val_loss: 2.9982 - val_f1_score_metric: 0.0000e+00\n",
      "Epoch 12/30\n",
      "67/67 [==============================] - 1s 22ms/step - loss: 2.9957 - f1_score_metric: 0.0000e+00 - val_loss: 2.9982 - val_f1_score_metric: 0.0000e+00\n",
      "Epoch 13/30\n",
      "67/67 [==============================] - 1s 20ms/step - loss: 2.9957 - f1_score_metric: 0.0000e+00 - val_loss: 2.9982 - val_f1_score_metric: 0.0000e+00\n",
      "Epoch 14/30\n",
      "67/67 [==============================] - 1s 20ms/step - loss: 2.9957 - f1_score_metric: 0.0000e+00 - val_loss: 2.9981 - val_f1_score_metric: 0.0000e+00\n",
      "Epoch 15/30\n",
      "67/67 [==============================] - 1s 20ms/step - loss: 2.9957 - f1_score_metric: 0.0000e+00 - val_loss: 2.9980 - val_f1_score_metric: 0.0000e+00\n",
      "Epoch 16/30\n",
      "67/67 [==============================] - 2s 23ms/step - loss: 2.9957 - f1_score_metric: 0.0000e+00 - val_loss: 2.9980 - val_f1_score_metric: 0.0000e+00\n",
      "Epoch 17/30\n",
      "67/67 [==============================] - 1s 20ms/step - loss: 2.9957 - f1_score_metric: 0.0000e+00 - val_loss: 2.9981 - val_f1_score_metric: 0.0000e+00\n",
      "Epoch 18/30\n",
      "67/67 [==============================] - 1s 20ms/step - loss: 2.9957 - f1_score_metric: 0.0000e+00 - val_loss: 2.9981 - val_f1_score_metric: 0.0000e+00\n",
      "Epoch 19/30\n",
      "67/67 [==============================] - 2s 29ms/step - loss: 2.9957 - f1_score_metric: 0.0000e+00 - val_loss: 2.9981 - val_f1_score_metric: 0.0000e+00\n",
      "Epoch 20/30\n",
      "67/67 [==============================] - 2s 29ms/step - loss: 2.9957 - f1_score_metric: 0.0000e+00 - val_loss: 2.9980 - val_f1_score_metric: 0.0000e+00\n",
      "Epoch 21/30\n",
      "67/67 [==============================] - 1s 20ms/step - loss: 2.9957 - f1_score_metric: 0.0000e+00 - val_loss: 2.9981 - val_f1_score_metric: 0.0000e+00\n",
      "Epoch 22/30\n",
      "67/67 [==============================] - 1s 22ms/step - loss: 2.9957 - f1_score_metric: 0.0000e+00 - val_loss: 2.9980 - val_f1_score_metric: 0.0000e+00\n",
      "Epoch 23/30\n",
      "67/67 [==============================] - 1s 21ms/step - loss: 2.9957 - f1_score_metric: 0.0000e+00 - val_loss: 2.9980 - val_f1_score_metric: 0.0000e+00\n",
      "Epoch 24/30\n",
      "67/67 [==============================] - 1s 20ms/step - loss: 2.9957 - f1_score_metric: 0.0000e+00 - val_loss: 2.9980 - val_f1_score_metric: 0.0000e+00\n",
      "Epoch 25/30\n",
      "67/67 [==============================] - 1s 19ms/step - loss: 2.9957 - f1_score_metric: 0.0000e+00 - val_loss: 2.9980 - val_f1_score_metric: 0.0000e+00\n",
      "Epoch 26/30\n",
      "67/67 [==============================] - 1s 20ms/step - loss: 2.9957 - f1_score_metric: 0.0000e+00 - val_loss: 2.9980 - val_f1_score_metric: 0.0000e+00\n",
      "Epoch 27/30\n",
      "67/67 [==============================] - 1s 20ms/step - loss: 2.9957 - f1_score_metric: 0.0000e+00 - val_loss: 2.9980 - val_f1_score_metric: 0.0000e+00\n",
      "Epoch 28/30\n",
      "67/67 [==============================] - 2s 26ms/step - loss: 2.9957 - f1_score_metric: 0.0000e+00 - val_loss: 2.9981 - val_f1_score_metric: 0.0000e+00\n",
      "Epoch 29/30\n",
      "67/67 [==============================] - 2s 27ms/step - loss: 2.9957 - f1_score_metric: 0.0000e+00 - val_loss: 2.9980 - val_f1_score_metric: 0.0000e+00\n",
      "Epoch 30/30\n",
      "67/67 [==============================] - 2s 26ms/step - loss: 2.9958 - f1_score_metric: 0.0000e+00 - val_loss: 2.9981 - val_f1_score_metric: 0.0000e+00\n"
     ]
    }
   ],
   "source": [
    "w  = efficientnet_model1.layers[-3].get_weights()\n",
    "efficientnet_model2.layers[-3].set_weights(w)\n",
    "\n",
    "# Define a checkpoint callback with custom file name\n",
    "checkpoint_callback = ModelCheckpoint(filepath = \"efficientnet_model2.h5\", save_freq='epoch')\n",
    "\n",
    "# Train the model with the checkpoint callback\n",
    "history_efficientnet_model2 = efficientnet_model2.fit(x_train, y_train, epochs=30, batch_size=128, validation_data=(x_val, y_val), callbacks=[checkpoint_callback])\n",
    "efficientnet_model2.save('/content/drive/My Drive/CNNs/efficientnet_model2.h5')"
   ]
  },
  {
   "cell_type": "markdown",
   "metadata": {
    "id": "VFXezagKtfIY"
   },
   "source": [
    "Το μηδενικό f1 score δείχνει ότι μπορεί να έχουμε κάποιο λάθος στον κώδικα"
   ]
  },
  {
   "cell_type": "markdown",
   "metadata": {
    "id": "KhWrm8NtmG3I"
   },
   "source": [
    "**Βήμα 2**"
   ]
  },
  {
   "cell_type": "markdown",
   "metadata": {
    "id": "T0oLmMZgTWvC"
   },
   "source": [
    "**VGG 1α**"
   ]
  },
  {
   "cell_type": "code",
   "execution_count": null,
   "metadata": {
    "colab": {
     "base_uri": "https://localhost:8080/",
     "height": 449
    },
    "id": "X3jr14ikv4Nd",
    "outputId": "0a7e528a-b788-41eb-c469-f7067ede0b2f"
   },
   "outputs": [
    {
     "data": {
      "image/png": "[encoded data removed]",
      "text/plain": [
       "<Figure size 640x480 with 1 Axes>"
      ]
     },
     "metadata": {},
     "output_type": "display_data"
    }
   ],
   "source": [
    "plot_f1(history_vgg_model1)\n",
    "plt.show()"
   ]
  },
  {
   "cell_type": "code",
   "execution_count": null,
   "metadata": {
    "colab": {
     "base_uri": "https://localhost:8080/"
    },
    "id": "L02GINRHPSe-",
    "outputId": "75db69c0-2ef9-417c-b1ec-4afa5b2e8bf1"
   },
   "outputs": [
    {
     "name": "stdout",
     "output_type": "stream",
     "text": [
      "63/63 [==============================] - 0s 7ms/step - loss: 1.2760 - f1_score_metric: 0.4568\n"
     ]
    },
    {
     "data": {
      "text/plain": [
       "[1.2760261297225952, 0.4567648470401764]"
      ]
     },
     "execution_count": 76,
     "metadata": {},
     "output_type": "execute_result"
    }
   ],
   "source": [
    "vgg_model1.evaluate(x_test, y_test)"
   ]
  },
  {
   "cell_type": "markdown",
   "metadata": {
    "id": "6RvrLr-jTbB5"
   },
   "source": [
    "**VGG 1β**"
   ]
  },
  {
   "cell_type": "code",
   "execution_count": null,
   "metadata": {
    "colab": {
     "base_uri": "https://localhost:8080/",
     "height": 449
    },
    "id": "uRzpzv8uv4TK",
    "outputId": "b27bd8f8-7e24-4b11-aa31-b51e32d69d9b"
   },
   "outputs": [
    {
     "data": {
      "image/png": "[encoded data removed]",
      "text/plain": [
       "<Figure size 640x480 with 1 Axes>"
      ]
     },
     "metadata": {},
     "output_type": "display_data"
    }
   ],
   "source": [
    "plot_f1(history_vgg_model2)\n",
    "plt.show()"
   ]
  },
  {
   "cell_type": "code",
   "execution_count": null,
   "metadata": {
    "colab": {
     "base_uri": "https://localhost:8080/"
    },
    "id": "f8VIP3llPN0g",
    "outputId": "2aa28d45-ce26-4587-bafb-9d3dce1b80c8"
   },
   "outputs": [
    {
     "name": "stdout",
     "output_type": "stream",
     "text": [
      "63/63 [==============================] - 1s 8ms/step - loss: 1.3006 - f1_score_metric: 0.4673\n"
     ]
    },
    {
     "data": {
      "text/plain": [
       "[1.3005720376968384, 0.4673469066619873]"
      ]
     },
     "execution_count": 67,
     "metadata": {},
     "output_type": "execute_result"
    }
   ],
   "source": [
    "vgg_model2.evaluate(x_test, y_test)"
   ]
  },
  {
   "cell_type": "markdown",
   "metadata": {
    "id": "_BItoBDnTf-R"
   },
   "source": [
    "**EfficientNetB0 1α**"
   ]
  },
  {
   "cell_type": "code",
   "execution_count": null,
   "metadata": {
    "colab": {
     "base_uri": "https://localhost:8080/",
     "height": 449
    },
    "id": "wztng1c1v4ZA",
    "outputId": "0c968878-cccc-4fde-8c02-96895b2fa19b"
   },
   "outputs": [
    {
     "data": {
      "image/png": "[encoded data removed]",
      "text/plain": [
       "<Figure size 640x480 with 1 Axes>"
      ]
     },
     "metadata": {},
     "output_type": "display_data"
    }
   ],
   "source": [
    "plot_f1(history_efficientnet_model1)\n",
    "plt.show()"
   ]
  },
  {
   "cell_type": "code",
   "execution_count": null,
   "metadata": {
    "colab": {
     "base_uri": "https://localhost:8080/"
    },
    "id": "S5MABw_Nv4yY",
    "outputId": "e6aadc4e-463a-4e0d-847d-aa5120ae3160"
   },
   "outputs": [
    {
     "name": "stdout",
     "output_type": "stream",
     "text": [
      "63/63 [==============================] - 1s 11ms/step - loss: 2.9959 - f1_score_metric: 0.0000e+00\n"
     ]
    },
    {
     "data": {
      "text/plain": [
       "[2.9959194660186768, 0.0]"
      ]
     },
     "execution_count": 69,
     "metadata": {},
     "output_type": "execute_result"
    }
   ],
   "source": [
    "efficientnet_model1.evaluate(x_test, y_test)"
   ]
  },
  {
   "cell_type": "markdown",
   "metadata": {
    "id": "rrymQYseTsL0"
   },
   "source": [
    "**EfficientNetB0 1β**"
   ]
  },
  {
   "cell_type": "code",
   "execution_count": null,
   "metadata": {
    "colab": {
     "base_uri": "https://localhost:8080/",
     "height": 454
    },
    "id": "u8x-L1x4v4ei",
    "outputId": "a627ddba-bd01-4881-abc1-9ccee9ed2d76"
   },
   "outputs": [
    {
     "data": {
      "image/png": "[encoded data removed]",
      "text/plain": [
       "<Figure size 640x480 with 1 Axes>"
      ]
     },
     "metadata": {},
     "output_type": "display_data"
    }
   ],
   "source": [
    "plot_f1(history_efficientnet_model2)\n",
    "plt.show()"
   ]
  },
  {
   "cell_type": "code",
   "execution_count": null,
   "metadata": {
    "colab": {
     "base_uri": "https://localhost:8080/"
    },
    "id": "8hjPD1xrv43E",
    "outputId": "189ae7b6-567c-4c70-c13c-e382b05cf422"
   },
   "outputs": [
    {
     "name": "stdout",
     "output_type": "stream",
     "text": [
      "63/63 [==============================] - 1s 11ms/step - loss: 2.9959 - f1_score_metric: 0.0000e+00\n"
     ]
    },
    {
     "data": {
      "text/plain": [
       "[2.9959218502044678, 0.0]"
      ]
     },
     "execution_count": 71,
     "metadata": {},
     "output_type": "execute_result"
    }
   ],
   "source": [
    "efficientnet_model2.evaluate(x_test, y_test)"
   ]
  },
  {
   "cell_type": "markdown",
   "metadata": {
    "id": "6RMllPlvnfvW"
   },
   "source": [
    "Παρατηρούμε ότι το καλύτερο μοντέλο (με βάση το f1 score στο test set) το έχουμε  στο VGG19 στο ερώτημα 1β όπου κάνουμε train μόνο κάποια βάρη στην έξοδο του δικτύου\n",
    "\n",
    "\n",
    "\n",
    "\n",
    "Τα score στο EfficientNetB0 είναι όλα μηδενικά εκτός από τις πρώτες εποχές. Αυτό δεν είναι φυσιολογικό όπότε μπορεί να υπάρχει κάποιο λάθος στην υλοποίηση\n",
    "\n"
   ]
  },
  {
   "cell_type": "markdown",
   "metadata": {
    "id": "M_T6Y9EJDuOu"
   },
   "source": [
    "## Διαχείριση μνήμης (TFRecord)\n",
    "Η φόρτωση δεδομένων με τον τρόπο που το κάναμε παραπάνω στο απλό παράδειγμα υλοποίησης είναι πολύ βολική αλλά δεν είναι αποτελεσματική ως προς τη διαχείριση της μνήμης. Συγκεκριμένα, με τον τρόπο αυτό, τα δεδομένα αποθηκεύονται απευθείας σε μεταβλητές, οι οποίες όλες μαζί καταλαμβάνουν τη RAM της CPU ή της GPU, κάτι που κάνει αδύνατη τη διαχείριση μεγάλων datasets ή τον μεταχηματισμό των δεδομένων όπως όταν κάνουμε αύξηση δεδομένων (data augmentation).\n",
    "\n",
    "Για να παρακαμφθεί αυτό το πρόβλημα, υπάρχει η δυνατότητα της σειριοποίησης των δεδομένων (serialization) και της αποθήκευσής τους σε αρχεία μεσαίου μεγέθους (κάποιων MB) τα οποία μπορούν να αναγνωστούν γραμμικά.\n",
    "\n",
    "Το φορμάτ TFRecord είναι ένα φορμάτ που επιτρέπει την αποθήκευση σειράς δυαδικών εγγραφών. Διαβάστε σχετικά για το [TFRecord and tf.Example](https://www.tensorflow.org/tutorials/load_data/tfrecord) και [tf.data: Build TensorFlow input pipelines](https://www.tensorflow.org/guide/data).\n",
    "\n",
    "Σημειώστε ότι με τη μέθοδο αυτή θα πρέπει να γίνει import η `tensorflow_datasets` και να χρησιμοποιήσουμε την `tfds.load` ώστε να αποθηκευθεί το σύνολο δεδομένων σε αρχεία tfrecord στο δίσκο (δείτε [εδώ](https://colab.research.google.com/github/tensorflow/datasets/blob/master/docs/overview.ipynb) ένα παράδειγμα). Φυσικά μπορούμε να μετατρέψουμε και τα πρωτογενή δεδομένα (raw data) του dataset όπως αρχεία jpg σε φορματ tfrecord όπως [εδώ](https://towardsdatascience.com/working-with-tfrecords-and-tf-train-example-36d111b3ff4d).\n"
   ]
  }
 ],
 "metadata": {
  "colab": {
   "provenance": []
  },
  "kernelspec": {
   "display_name": "Python 3 (ipykernel)",
   "language": "python",
   "name": "python3"
  },
  "language_info": {
   "codemirror_mode": {
    "name": "ipython",
    "version": 3
   },
   "file_extension": ".py",
   "mimetype": "text/x-python",
   "name": "python",
   "nbconvert_exporter": "python",
   "pygments_lexer": "ipython3",
   "version": "3.11.7"
  }
 },
 "nbformat": 4,
 "nbformat_minor": 4
}
